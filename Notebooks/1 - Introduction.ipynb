{
 "cells": [
  {
   "cell_type": "markdown",
   "metadata": {
    "state": "normal"
   },
   "source": [
    "# Day 1 - Data Types"
   ]
  },
  {
   "cell_type": "markdown",
   "metadata": {
    "state": "normal"
   },
   "source": [
    "## Why do I need to know this?\n",
    "\n",
    "Programming is a way to allow us as humans to manipulate information (data) on a scale much larger than we would otherwise be able to handle. Speaking anecdotally, on a good day my brain is able to handle one mathematical operation per second. I can remember a few things at once, and a few more things if I spend a while memorizing them. On the other hand, my laptop can handle millions of mathematical operations per second, and can \"memorize\" the contents of a spreadsheet fast enough that to me it feels instantaneous. When we use Python, we are accessing the amped up computational power provided by our computers to enable us to focus on thinking critically, and letting our computer handle the rest.\n",
    "\n",
    "How do computers handle data? At the most basic level, it all gets digested into the same form: 1s and 0s. Were we to attempt a very complete treatment of information and computation, we would need to start there. Suffice it to say that computers need all information to be concrete, and that information that cannot be quantified or written in a fixed form is no good.\n",
    "\n",
    "Instead of starting with binary values (the 1s and 0s above), we have the privilege of experiencing our interactions with computers through a high-level programming language: Python. High-level is an indication that the programming language is closer to a human-readable form than a computer-readable form. While we are working furiously to do our work writing in Python, the computer is translating everything that we say (in Python) to machine-speak. High-level code is slower to run than low-level (easier for machines to translate) code, but we accept that tradeoff in order to minimize the time and effort we spend in writing our code.\n",
    "\n",
    "Writing Python code is MUCH easier than writing code in just about any other language. Trust me."
   ]
  },
  {
   "cell_type": "markdown",
   "metadata": {
    "state": "normal"
   },
   "source": [
    "## Then how do I start?\n",
    "\n",
    "The first thing that we need to understand when we start to interact with Python is the language's ability to represent different kinds of information. The types of information that can be stored, and the ways in which we can store them, inform the choices that we will make as we begin to programmatically handle the information that is available to us. Think of each method of storing information as storage bins like you might find in a kitchen: one bin is intended to hold sugar, another flour, and another rice. Sure, you could insist on putting rice in the sugar bin, but the next chef to use the kitchen might not appreciate your choice. In programming, we should look for the appropriate storage bin for the information that we are dealing with in any specific context\n",
    "\n",
    "In programming, we label the different storage bins **data types**.\n",
    "\n",
    "A data type is an **object** (we will discuss this more later) that is designed to handle a specific kind of information. Let's take a look at a few different types:"
   ]
  },
  {
   "cell_type": "markdown",
   "metadata": {},
   "source": [
    "## Variables\n",
    "\n",
    "In Python, we can work with data as if the Python interpreter (the thing that runs our code) were a fancy calculator, and we can just type all the information we need into the interpreter each time we run code. This is not feasible, however, for larger projects. In those cases, we store information in what are called **variables**.\n",
    "\n",
    "Any data type can be stored as a variable. The names we give these variables are nearly infinite. There are a few rules and guidelines (rules will be bolded) on how we should name them, though:\n",
    "- **Names cannot start with numbers**\n",
    "- Names should be lower case\n",
    "- **Names can include letters, numbers, and underscores**\n",
    "- Names should be descriptive\n",
    "- Names should not be reserved words\n",
    "\n",
    "We store information as a variable in the following way:"
   ]
  },
  {
   "cell_type": "code",
   "execution_count": 1,
   "metadata": {},
   "outputs": [],
   "source": [
    "mySentence = \"This is my first variable!\""
   ]
  },
  {
   "cell_type": "markdown",
   "metadata": {},
   "source": [
    "We have now indicated to Python that it should remember (until further notice or the end of our program) that `mySentence` is a variable containing the value `\"This is my first variable!\"`. We can ask Python to provide this variable for us as we continue to create code. Outside of exercises, we will not store information as variables during this class period."
   ]
  },
  {
   "cell_type": "markdown",
   "metadata": {
    "state": "normal"
   },
   "source": [
    "## Numbers\n",
    "\n",
    "There are several different data types to handle numbers. Let's talk about **integers** and **floating-point numbers**. One really cool thing about Python is that it tries to do the work of switching between integer and floating point numbers for us as we do different calculations requiring one or the other. Let's explore briefly how each one works.\n",
    "\n",
    "### Integers\n",
    "\n",
    "**Integers** represent whole numbers, and _cannot_ represent any number with a decimal. We can perform simple operations using our arithmetic operators (+,-,\\*,\\/)."
   ]
  },
  {
   "cell_type": "code",
   "execution_count": 1,
   "metadata": {
    "state": "normal"
   },
   "outputs": [
    {
     "data": {},
     "execution_count": 1,
     "metadata": {},
     "output_type": "execute_result"
    }
   ],
   "source": [
    "2 + 2"
   ]
  },
  {
   "cell_type": "code",
   "execution_count": 2,
   "metadata": {
    "state": "normal"
   },
   "outputs": [
    {
     "data": {},
     "execution_count": 2,
     "metadata": {},
     "output_type": "execute_result"
    }
   ],
   "source": [
    "87 - 10"
   ]
  },
  {
   "cell_type": "code",
   "execution_count": 5,
   "metadata": {
    "state": "normal"
   },
   "outputs": [
    {
     "data": {},
     "execution_count": 5,
     "metadata": {},
     "output_type": "execute_result"
    }
   ],
   "source": [
    "5 / 1"
   ]
  },
  {
   "cell_type": "code",
   "execution_count": 6,
   "metadata": {
    "state": "normal"
   },
   "outputs": [
    {
     "data": {},
     "execution_count": 6,
     "metadata": {},
     "output_type": "execute_result"
    }
   ],
   "source": [
    "8 * 3"
   ]
  },
  {
   "cell_type": "markdown",
   "metadata": {
    "state": "normal"
   },
   "source": [
    "It is interesting to note that division resulted in a floating-point number. This allows us to divide integers, even when the result will not be an integer itself, and adds convenience to our mathematical functions. Python also allows us to mandate that the result of division be an integer by using the \\/\\/ operator. Note the different outputs below:"
   ]
  },
  {
   "cell_type": "code",
   "execution_count": 8,
   "metadata": {
    "state": "normal"
   },
   "outputs": [
    {
     "data": {},
     "execution_count": 8,
     "metadata": {},
     "output_type": "execute_result"
    }
   ],
   "source": [
    "# True divison operator\n",
    "5 / 2"
   ]
  },
  {
   "cell_type": "code",
   "execution_count": 9,
   "metadata": {
    "state": "normal"
   },
   "outputs": [
    {
     "data": {},
     "execution_count": 9,
     "metadata": {},
     "output_type": "execute_result"
    }
   ],
   "source": [
    "# Floor division operator\n",
    "5 // 2"
   ]
  },
  {
   "cell_type": "markdown",
   "metadata": {
    "state": "normal"
   },
   "source": [
    "We can also perform exponentiation by using the \\*\\* operator:"
   ]
  },
  {
   "cell_type": "code",
   "execution_count": 10,
   "metadata": {
    "state": "normal"
   },
   "outputs": [
    {
     "data": {},
     "execution_count": 10,
     "metadata": {},
     "output_type": "execute_result"
    }
   ],
   "source": [
    "5 ** 2"
   ]
  },
  {
   "cell_type": "markdown",
   "metadata": {
    "state": "normal"
   },
   "source": [
    "Finally, we can attempt to force values to become integers by using the `int()` command, though not all values can be made into integers:"
   ]
  },
  {
   "cell_type": "code",
   "execution_count": 11,
   "metadata": {
    "state": "normal"
   },
   "outputs": [
    {
     "data": {},
     "execution_count": 11,
     "metadata": {},
     "output_type": "execute_result"
    }
   ],
   "source": [
    "int(37.5)"
   ]
  },
  {
   "cell_type": "code",
   "execution_count": 12,
   "metadata": {
    "state": "normal"
   },
   "outputs": [
    {
     "data": {},
     "execution_count": 12,
     "metadata": {},
     "output_type": "execute_result"
    }
   ],
   "source": [
    "int(True)"
   ]
  },
  {
   "cell_type": "code",
   "execution_count": 13,
   "metadata": {
    "scrolled": true,
    "state": "normal"
   },
   "outputs": [
    {
     "data": {},
     "execution_count": 13,
     "metadata": {},
     "output_type": "execute_result"
    }
   ],
   "source": [
    "int(False)"
   ]
  },
  {
   "cell_type": "code",
   "execution_count": 14,
   "metadata": {
    "scrolled": true,
    "state": "normal"
   },
   "outputs": [
    {
     "ename": "ValueError",
     "evalue": "invalid literal for int() with base 10: 'text'",
     "output_type": "error",
     "traceback": [
      "\u001b[0;31m---------------------------------------------------------------------------\u001b[0m",
      "\u001b[0;31mValueError\u001b[0m                                Traceback (most recent call last)",
      "\u001b[0;32m<ipython-input-14-f3a57c1fa0db>\u001b[0m in \u001b[0;36m<module>\u001b[0;34m\u001b[0m\n\u001b[0;32m----> 1\u001b[0;31m \u001b[0mint\u001b[0m\u001b[0;34m(\u001b[0m\u001b[0;34m\"text\"\u001b[0m\u001b[0;34m)\u001b[0m\u001b[0;34m\u001b[0m\u001b[0;34m\u001b[0m\u001b[0m\n\u001b[0m",
      "\u001b[0;31mValueError\u001b[0m: invalid literal for int() with base 10: 'text'"
     ]
    }
   ],
   "source": [
    "int(\"text\")"
   ]
  },
  {
   "cell_type": "markdown",
   "metadata": {
    "state": "normal"
   },
   "source": [
    "### Floating-Point Numbers"
   ]
  },
  {
   "cell_type": "markdown",
   "metadata": {
    "state": "normal"
   },
   "source": [
    "Floating point numbers are typically called **floats**, and allow us to make use of decimal numbers in order to increase the precision of our computations. Floats are probably the most common type of number you will work with, since most mathematical operations cannot be guaranteed to result in integers. Floats can use all of the same arithmetic operators as integers, and can be used in combination with integers when using those operators:"
   ]
  },
  {
   "cell_type": "code",
   "execution_count": 15,
   "metadata": {
    "state": "normal"
   },
   "outputs": [
    {
     "data": {},
     "execution_count": 15,
     "metadata": {},
     "output_type": "execute_result"
    }
   ],
   "source": [
    "2 + 2.5"
   ]
  },
  {
   "cell_type": "code",
   "execution_count": 16,
   "metadata": {
    "state": "normal"
   },
   "outputs": [
    {
     "data": {},
     "execution_count": 16,
     "metadata": {},
     "output_type": "execute_result"
    }
   ],
   "source": [
    "87.0 - 100.5"
   ]
  },
  {
   "cell_type": "code",
   "execution_count": 17,
   "metadata": {
    "state": "normal"
   },
   "outputs": [
    {
     "data": {},
     "execution_count": 17,
     "metadata": {},
     "output_type": "execute_result"
    }
   ],
   "source": [
    "10 / 3.5"
   ]
  },
  {
   "cell_type": "code",
   "execution_count": 18,
   "metadata": {
    "state": "normal"
   },
   "outputs": [
    {
     "data": {},
     "execution_count": 18,
     "metadata": {},
     "output_type": "execute_result"
    }
   ],
   "source": [
    "5.3 // 1.2"
   ]
  },
  {
   "cell_type": "code",
   "execution_count": 19,
   "metadata": {
    "state": "normal"
   },
   "outputs": [
    {
     "data": {},
     "execution_count": 19,
     "metadata": {},
     "output_type": "execute_result"
    }
   ],
   "source": [
    "9.99 * 5"
   ]
  },
  {
   "cell_type": "code",
   "execution_count": 20,
   "metadata": {
    "state": "normal"
   },
   "outputs": [
    {
     "data": {},
     "execution_count": 20,
     "metadata": {},
     "output_type": "execute_result"
    }
   ],
   "source": [
    "3.1415 ** 2"
   ]
  },
  {
   "cell_type": "markdown",
   "metadata": {
    "state": "normal"
   },
   "source": [
    "We can convert numbers and other values to floats by using the `float()` function to **coerce** the value to become a float-type object:"
   ]
  },
  {
   "cell_type": "code",
   "execution_count": 21,
   "metadata": {
    "state": "normal"
   },
   "outputs": [
    {
     "data": {},
     "execution_count": 21,
     "metadata": {},
     "output_type": "execute_result"
    }
   ],
   "source": [
    "float(1)"
   ]
  },
  {
   "cell_type": "code",
   "execution_count": 22,
   "metadata": {
    "state": "normal"
   },
   "outputs": [
    {
     "data": {},
     "execution_count": 22,
     "metadata": {},
     "output_type": "execute_result"
    }
   ],
   "source": [
    "float(False)"
   ]
  },
  {
   "cell_type": "code",
   "execution_count": 23,
   "metadata": {
    "scrolled": true,
    "state": "normal"
   },
   "outputs": [
    {
     "ename": "ValueError",
     "evalue": "could not convert string to float: 'text'",
     "output_type": "error",
     "traceback": [
      "\u001b[0;31m---------------------------------------------------------------------------\u001b[0m",
      "\u001b[0;31mValueError\u001b[0m                                Traceback (most recent call last)",
      "\u001b[0;32m<ipython-input-23-7f533111535f>\u001b[0m in \u001b[0;36m<module>\u001b[0;34m\u001b[0m\n\u001b[0;32m----> 1\u001b[0;31m \u001b[0mfloat\u001b[0m\u001b[0;34m(\u001b[0m\u001b[0;34m\"text\"\u001b[0m\u001b[0;34m)\u001b[0m\u001b[0;34m\u001b[0m\u001b[0;34m\u001b[0m\u001b[0m\n\u001b[0m",
      "\u001b[0;31mValueError\u001b[0m: could not convert string to float: 'text'"
     ]
    }
   ],
   "source": [
    "float(\"text\")"
   ]
  },
  {
   "cell_type": "markdown",
   "metadata": {
    "state": "normal"
   },
   "source": [
    "**Solve it**\n",
    "\n",
    "Use python to calculate the volume of a sphere with radius 8. Remember that the volume of a sphere can be calculated by using the formula $$\\frac{4}{3} \\pi \\cdot r^3 $$ and $\\pi$ can be approximated as 3.141593.\n",
    "\n",
    "Store the solution as a variable named `vol`."
   ]
  },
  {
   "cell_type": "code",
   "execution_count": 2,
   "metadata": {
    "deletable": false,
    "id": "eager_var",
    "state": "graded"
   },
   "outputs": [],
   "source": [
    "vol ="
   ]
  },
  {
   "cell_type": "markdown",
   "metadata": {
    "state": "normal"
   },
   "source": [
    "**Test it**\n",
    "\n",
    "Run the next cell below to test your solution to the `vol` problem."
   ]
  },
  {
   "cell_type": "code",
   "execution_count": null,
   "metadata": {},
   "outputs": [],
   "source": [
    "if (-1<=round(vol, 0) - 2144 <=1):\n",
    "    print(\"You got it right!\")"
   ]
  },
  {
   "cell_type": "markdown",
   "metadata": {
    "state": "normal"
   },
   "source": [
    "## Boolean Values"
   ]
  },
  {
   "cell_type": "markdown",
   "metadata": {
    "state": "normal"
   },
   "source": [
    "A boolean object can take one of two values: true or false. This allows us to represent binary cases of truth, and to provide \"on/off\" switches in many different contexts. It is important to note that most objects in Python can be reduced to boolean values:"
   ]
  },
  {
   "cell_type": "code",
   "execution_count": 24,
   "metadata": {
    "state": "normal"
   },
   "outputs": [
    {
     "data": {},
     "execution_count": 24,
     "metadata": {},
     "output_type": "execute_result"
    }
   ],
   "source": [
    "bool(1)"
   ]
  },
  {
   "cell_type": "code",
   "execution_count": 25,
   "metadata": {
    "state": "normal"
   },
   "outputs": [
    {
     "data": {},
     "execution_count": 25,
     "metadata": {},
     "output_type": "execute_result"
    }
   ],
   "source": [
    "bool(0)"
   ]
  },
  {
   "cell_type": "code",
   "execution_count": 26,
   "metadata": {
    "state": "normal"
   },
   "outputs": [
    {
     "data": {},
     "execution_count": 26,
     "metadata": {},
     "output_type": "execute_result"
    }
   ],
   "source": [
    "bool(\"text\")"
   ]
  },
  {
   "cell_type": "code",
   "execution_count": 27,
   "metadata": {
    "state": "normal"
   },
   "outputs": [
    {
     "data": {},
     "execution_count": 27,
     "metadata": {},
     "output_type": "execute_result"
    }
   ],
   "source": [
    "bool(\"\")"
   ]
  },
  {
   "cell_type": "code",
   "execution_count": 28,
   "metadata": {
    "state": "normal"
   },
   "outputs": [
    {
     "data": {},
     "execution_count": 28,
     "metadata": {},
     "output_type": "execute_result"
    }
   ],
   "source": [
    "bool(None)"
   ]
  },
  {
   "cell_type": "markdown",
   "metadata": {
    "state": "normal"
   },
   "source": [
    "Boolean values are typically used to evaluate logical statements as either true or false, and are often experienced in the context of comparisons of equality or magnitude. In order to make these comparisons, we introduce new operators to our vocabulary: \\>, \\<, \\=\\=, \\!\\=, \\&, \\| are the most common, although many others exist."
   ]
  },
  {
   "cell_type": "code",
   "execution_count": 33,
   "metadata": {
    "state": "normal"
   },
   "outputs": [
    {
     "data": {},
     "execution_count": 33,
     "metadata": {},
     "output_type": "execute_result"
    }
   ],
   "source": [
    "# Testing for Equality of values\n",
    "\"text\" == \"Text\""
   ]
  },
  {
   "cell_type": "markdown",
   "metadata": {
    "state": "normal"
   },
   "source": [
    "Note: strings are case sensitive when testing equality!"
   ]
  },
  {
   "cell_type": "code",
   "execution_count": 31,
   "metadata": {
    "state": "normal"
   },
   "outputs": [
    {
     "data": {},
     "execution_count": 31,
     "metadata": {},
     "output_type": "execute_result"
    }
   ],
   "source": [
    "300 == 45+255"
   ]
  },
  {
   "cell_type": "code",
   "execution_count": 35,
   "metadata": {
    "state": "normal"
   },
   "outputs": [
    {
     "data": {},
     "execution_count": 35,
     "metadata": {},
     "output_type": "execute_result"
    }
   ],
   "source": [
    "# Testing Inequalities\n",
    "10 < 100"
   ]
  },
  {
   "cell_type": "code",
   "execution_count": 36,
   "metadata": {
    "state": "normal"
   },
   "outputs": [
    {
     "data": {},
     "execution_count": 36,
     "metadata": {},
     "output_type": "execute_result"
    }
   ],
   "source": [
    "10 > 100"
   ]
  },
  {
   "cell_type": "code",
   "execution_count": 39,
   "metadata": {
    "state": "normal"
   },
   "outputs": [
    {
     "data": {},
     "execution_count": 39,
     "metadata": {},
     "output_type": "execute_result"
    }
   ],
   "source": [
    "# We can also test for \"less than or equal to\" conditions:\n",
    "10 <= 11"
   ]
  },
  {
   "cell_type": "code",
   "execution_count": 40,
   "metadata": {
    "state": "normal"
   },
   "outputs": [
    {
     "data": {},
     "execution_count": 40,
     "metadata": {},
     "output_type": "execute_result"
    }
   ],
   "source": [
    "11 <= 11"
   ]
  },
  {
   "cell_type": "code",
   "execution_count": 41,
   "metadata": {
    "state": "normal"
   },
   "outputs": [
    {
     "data": {},
     "execution_count": 41,
     "metadata": {},
     "output_type": "execute_result"
    }
   ],
   "source": [
    "# Inequality\n",
    "\n",
    "42 != \"the meaning of life, the universe, and everything\""
   ]
  },
  {
   "cell_type": "code",
   "execution_count": 43,
   "metadata": {
    "state": "normal"
   },
   "outputs": [
    {
     "data": {},
     "execution_count": 43,
     "metadata": {},
     "output_type": "execute_result"
    }
   ],
   "source": [
    "# Match multiple conditions\n",
    "\n",
    "(42 == 10 + 32) & (\"other text\" != \"other text\") # False because one condition is not met"
   ]
  },
  {
   "cell_type": "code",
   "execution_count": 44,
   "metadata": {
    "state": "normal"
   },
   "outputs": [
    {
     "data": {},
     "execution_count": 44,
     "metadata": {},
     "output_type": "execute_result"
    }
   ],
   "source": [
    "(42 == 10 + 32) & (\"text\" != \"other text\")"
   ]
  },
  {
   "cell_type": "code",
   "execution_count": 45,
   "metadata": {
    "state": "normal"
   },
   "outputs": [
    {
     "data": {},
     "execution_count": 45,
     "metadata": {},
     "output_type": "execute_result"
    }
   ],
   "source": [
    "# Match one or more conditions\n",
    "\n",
    "(42 == 10 + 32) | (\"other text\" != \"other text\") # False because one condition is not met"
   ]
  },
  {
   "cell_type": "code",
   "execution_count": 46,
   "metadata": {
    "state": "normal"
   },
   "outputs": [
    {
     "data": {},
     "execution_count": 46,
     "metadata": {},
     "output_type": "execute_result"
    }
   ],
   "source": [
    "(42 == 10 + 32) | (\"text\" != \"other text\")"
   ]
  },
  {
   "cell_type": "markdown",
   "metadata": {
    "state": "normal"
   },
   "source": [
    "**Solve it**\n",
    "\n",
    "Write a logical expression to determine if the volume of the sphere with radius 8 is greater than the volume of the cube with edge length 12.\n",
    "\n",
    "Store the solution as a variable named `sphereOrCube`."
   ]
  },
  {
   "cell_type": "code",
   "execution_count": 3,
   "metadata": {
    "deletable": false,
    "id": "big_thor",
    "scrolled": true,
    "state": "graded"
   },
   "outputs": [],
   "source": [
    "sphereOrCube = "
   ]
  },
  {
   "cell_type": "markdown",
   "metadata": {
    "state": "normal"
   },
   "source": [
    "**Test it**\n",
    "\n",
    "Run the next cell below to test your solution to the `sphereOrCube` problem."
   ]
  },
  {
   "cell_type": "code",
   "execution_count": null,
   "metadata": {},
   "outputs": [],
   "source": [
    "if (int(sphereOrCube)==1):\n",
    "    print(\"You got it right!\")"
   ]
  },
  {
   "cell_type": "markdown",
   "metadata": {
    "state": "normal"
   },
   "source": [
    "**Solve it**\n",
    "\n",
    "Write a logical expression to determine if the string \"hei\" is the same as the string \"Hei\"\n",
    "\n",
    "Store the solution as a variable named `twinStrings`."
   ]
  },
  {
   "cell_type": "code",
   "execution_count": null,
   "metadata": {
    "deletable": false,
    "id": "sharp_vali",
    "state": "graded"
   },
   "outputs": [],
   "source": [
    "twinStrings = "
   ]
  },
  {
   "cell_type": "markdown",
   "metadata": {
    "state": "normal"
   },
   "source": [
    "**Test it**\n",
    "\n",
    "Run the next cell below to test your solution to the `twinStrings` problem."
   ]
  },
  {
   "cell_type": "code",
   "execution_count": null,
   "metadata": {},
   "outputs": [],
   "source": [
    "if (int(twinStrings)==0):\n",
    "    print(\"You got it right!\")"
   ]
  },
  {
   "cell_type": "markdown",
   "metadata": {
    "state": "normal"
   },
   "source": [
    "## Strings"
   ]
  },
  {
   "cell_type": "markdown",
   "metadata": {
    "state": "normal"
   },
   "source": [
    "Strings are the data type in Python that is used to store text data, or data that does not fit into other categories and can be best represented as text in some form. This might be text values proxying for job types, it might be sentences written in a document, or it might be a single character, like \"e\". Strings are immensely valuable for creating dense data, and have many built-in features (we call them **methods**) to improve our ability to handle strings. First, we create a string by putting some characters inside of quotation marks. \n",
    "\n",
    "### Choosing Quotation Marks\n",
    "\n",
    "The quotation marks indicating the start and end of strings can be \\\" or \\'. It is worth choosing carefully, however, because the quotation marks we use to denote a string limit the characters that we can place inside. If I use \\\", then double quotes cannot be used within my string (while single quotes can!). Conversely, using \\' to start and end a string means that we cannot use single quotes (often used to mark apostrophes within contractions in the English language) inside of our string."
   ]
  },
  {
   "cell_type": "code",
   "execution_count": 47,
   "metadata": {
    "state": "normal"
   },
   "outputs": [
    {
     "data": {},
     "execution_count": 47,
     "metadata": {},
     "output_type": "execute_result"
    }
   ],
   "source": [
    "\"this is a string\""
   ]
  },
  {
   "cell_type": "code",
   "execution_count": 48,
   "metadata": {
    "state": "normal"
   },
   "outputs": [
    {
     "data": {},
     "execution_count": 48,
     "metadata": {},
     "output_type": "execute_result"
    }
   ],
   "source": [
    "\"this is a string with a 'quote' inside of it\""
   ]
  },
  {
   "cell_type": "code",
   "execution_count": 49,
   "metadata": {
    "state": "normal"
   },
   "outputs": [
    {
     "data": {},
     "execution_count": 49,
     "metadata": {},
     "output_type": "execute_result"
    }
   ],
   "source": [
    "'also a string'"
   ]
  },
  {
   "cell_type": "code",
   "execution_count": 52,
   "metadata": {
    "state": "normal"
   },
   "outputs": [
    {
     "ename": "SyntaxError",
     "evalue": "invalid syntax (<ipython-input-52-5213d5ca4357>, line 3)",
     "output_type": "error",
     "traceback": [
      "\u001b[0;36m  File \u001b[0;32m\"<ipython-input-52-5213d5ca4357>\"\u001b[0;36m, line \u001b[0;32m3\u001b[0m\n\u001b[0;31m    'a broken string y'all'\u001b[0m\n\u001b[0m                         ^\u001b[0m\n\u001b[0;31mSyntaxError\u001b[0m\u001b[0;31m:\u001b[0m invalid syntax\n"
     ]
    }
   ],
   "source": [
    "# a broken string where single quotes are used to mark the string and also within the string itself\n",
    "\n",
    "'a broken string y'all'"
   ]
  },
  {
   "cell_type": "markdown",
   "metadata": {
    "state": "normal"
   },
   "source": [
    "Strings can typically only be used on a single line, so that I cannot do the following:"
   ]
  },
  {
   "cell_type": "code",
   "execution_count": 54,
   "metadata": {
    "state": "normal"
   },
   "outputs": [
    {
     "ename": "SyntaxError",
     "evalue": "EOL while scanning string literal (<ipython-input-54-77ff0ba3a188>, line 1)",
     "output_type": "error",
     "traceback": [
      "\u001b[0;36m  File \u001b[0;32m\"<ipython-input-54-77ff0ba3a188>\"\u001b[0;36m, line \u001b[0;32m1\u001b[0m\n\u001b[0;31m    \"my string starts here\u001b[0m\n\u001b[0m                          ^\u001b[0m\n\u001b[0;31mSyntaxError\u001b[0m\u001b[0;31m:\u001b[0m EOL while scanning string literal\n"
     ]
    }
   ],
   "source": [
    "\"my string starts here\n",
    "\n",
    "and ends here\""
   ]
  },
  {
   "cell_type": "markdown",
   "metadata": {
    "state": "normal"
   },
   "source": [
    "Special quotation marks can be used to create multiline strings. We use a triple quote system for this, where we mark the start or end of the string with three quotes (can be single or double):"
   ]
  },
  {
   "cell_type": "code",
   "execution_count": 55,
   "metadata": {
    "state": "normal"
   },
   "outputs": [
    {
     "data": {},
     "execution_count": 55,
     "metadata": {},
     "output_type": "execute_result"
    }
   ],
   "source": [
    "\"\"\"my string starts here\n",
    "\n",
    "and ends here\"\"\""
   ]
  },
  {
   "cell_type": "markdown",
   "metadata": {
    "state": "normal"
   },
   "source": [
    "Our string now contains some **escape characters** (\\\\n) that mark where one line ends and the next begins, allowing us to handle text that spans multiple lines. We can even use this to store information like SQL queries that have been formatted for readability!"
   ]
  },
  {
   "cell_type": "code",
   "execution_count": 56,
   "metadata": {
    "state": "normal"
   },
   "outputs": [
    {
     "data": {},
     "execution_count": 56,
     "metadata": {},
     "output_type": "execute_result"
    }
   ],
   "source": [
    "'''\n",
    "SELECT\n",
    "    *\n",
    "FROM\n",
    "    database\n",
    "WHERE\n",
    "    column > 0\n",
    "'''"
   ]
  },
  {
   "cell_type": "markdown",
   "metadata": {
    "state": "normal"
   },
   "source": [
    "### Operating on Strings"
   ]
  },
  {
   "cell_type": "markdown",
   "metadata": {
    "state": "normal"
   },
   "source": [
    "Strings can also be modified using operators and **methods**. We are already familiar with operators, and the applicable operators for strings are \\+ and \\*. Methods are **functions**, or pre-existing code that is associated with a specific type of object. First, the operators:"
   ]
  },
  {
   "cell_type": "code",
   "execution_count": 57,
   "metadata": {
    "state": "normal"
   },
   "outputs": [
    {
     "data": {},
     "execution_count": 57,
     "metadata": {},
     "output_type": "execute_result"
    }
   ],
   "source": [
    "\"Add this string\" + \" \" + \"to another\""
   ]
  },
  {
   "cell_type": "code",
   "execution_count": 58,
   "metadata": {
    "state": "normal"
   },
   "outputs": [
    {
     "data": {},
     "execution_count": 58,
     "metadata": {},
     "output_type": "execute_result"
    }
   ],
   "source": [
    "\"Repeat me!\" * 3"
   ]
  },
  {
   "cell_type": "markdown",
   "metadata": {
    "state": "normal"
   },
   "source": [
    "Methods are called by name, rather than through an operator. Below are some useful methods for strings. Please note that there are MANY others (see [https://docs.python.org/3/library/stdtypes.html#string-methods](https://docs.python.org/3/library/stdtypes.html#string-methods) for more information)"
   ]
  },
  {
   "cell_type": "code",
   "execution_count": 59,
   "metadata": {
    "state": "normal"
   },
   "outputs": [
    {
     "data": {},
     "execution_count": 59,
     "metadata": {},
     "output_type": "execute_result"
    }
   ],
   "source": [
    "# Replacing characters within a string\n",
    "\n",
    "\"Bananas\".replace(\"a\", \"o\")"
   ]
  },
  {
   "cell_type": "code",
   "execution_count": 61,
   "metadata": {
    "state": "normal"
   },
   "outputs": [
    {
     "data": {},
     "execution_count": 61,
     "metadata": {},
     "output_type": "execute_result"
    }
   ],
   "source": [
    "# Converting a string to lower case\n",
    "\n",
    "\"ANGRY WORDS\".lower()"
   ]
  },
  {
   "cell_type": "code",
   "execution_count": 62,
   "metadata": {
    "state": "normal"
   },
   "outputs": [
    {
     "data": {},
     "execution_count": 62,
     "metadata": {},
     "output_type": "execute_result"
    }
   ],
   "source": [
    "# Break a string apart based on a designated character\n",
    "\n",
    "\"Make me into many strings\".split(\" \")"
   ]
  },
  {
   "cell_type": "code",
   "execution_count": 65,
   "metadata": {
    "state": "normal"
   },
   "outputs": [
    {
     "data": {},
     "execution_count": 65,
     "metadata": {},
     "output_type": "execute_result"
    }
   ],
   "source": [
    "\"    too much whitespace!   \".strip()"
   ]
  },
  {
   "cell_type": "markdown",
   "metadata": {
    "state": "normal"
   },
   "source": [
    "**Solve it**\n",
    "\n",
    "Complete the following sentence by using the `replace` method to replace each \"\\_\\_x\\_\\_\" string with a fitting word. Feel free to be silly!\n",
    "\n",
    "If you want to have some fun, choose words before reading the sentence. You will need (in order):\n",
    "- Adjective\n",
    "- Adjective\n",
    "- Noun\n",
    "- Noun\n",
    "- Name of an Animal\n",
    "- Name of a Game\n",
    "\n",
    "Store the resulting sentence as a variable named `myMadLib`."
   ]
  },
  {
   "cell_type": "code",
   "execution_count": 4,
   "metadata": {
    "deletable": false,
    "id": "green_saga",
    "starter_code": "\"\"\"\nA vacation is when you take a trip to some __1__ place \nwith your __2__ family. Usually you go to some place that \nis near a(n) __3__ or up on a(n) __4__. A good vacation \nplace is one where you can ride __5__ or play __6__.\n\"\"\"",
    "state": "graded"
   },
   "outputs": [],
   "source": [
    "myMadLib = \"\"\"\n",
    "A vacation is when you take a trip to some __1__ place \n",
    "with your __2__ family. Usually you go to some place that \n",
    "is near a(n) __3__ or up on a(n) __4__. A good vacation \n",
    "place is one where you can ride __5__ or play __6__.\n",
    "\"\"\""
   ]
  },
  {
   "cell_type": "markdown",
   "metadata": {
    "state": "normal"
   },
   "source": [
    "**Test it**\n",
    "\n",
    "Run the next cell below to test your solution to the `myMadLib` problem."
   ]
  },
  {
   "cell_type": "code",
   "execution_count": null,
   "metadata": {},
   "outputs": [],
   "source": [
    "if (\"_\" not in myMadLib) and (\"1\" not in myMadLib) and (\"2\" not in myMadLib) and (\"3\" not in myMadLib) and (\"4\" not in myMadLib) and (\"5\" not in myMadLib) and (\"6\" not in myMadLib):\n",
    "    print(\"You got it right!\")"
   ]
  },
  {
   "cell_type": "markdown",
   "metadata": {
    "state": "normal"
   },
   "source": [
    "## Lists"
   ]
  },
  {
   "cell_type": "markdown",
   "metadata": {
    "state": "normal"
   },
   "source": [
    "Lists are the first of several data types that allow us to organize and store many different values within them. A list, as its name suggests, is an object in which a _list_ of values are stored. Each value can then be accessed by its position within the list.\n",
    "\n",
    "**REALLY IMPORTANT**: Positions in Python (and almost all programming languages) begin counting at 0, so that the first thing in a list is the 0th thing in the list. To remember this, remember that the first element in a list is ZERO elements removed from the start. We are counting how far from the start of the list we are, and the distance between the first element in a list and itself is 0! \n",
    "\n",
    "So how do we make a list? with \\[ \\] characters marking the start and end of the list, respectively, and with commas (,) in between the elements."
   ]
  },
  {
   "cell_type": "code",
   "execution_count": 68,
   "metadata": {
    "state": "normal"
   },
   "outputs": [
    {
     "data": {},
     "execution_count": 68,
     "metadata": {},
     "output_type": "execute_result"
    }
   ],
   "source": [
    "# Handwrite a list\n",
    "\n",
    "[ 0, 1, 2, 3, 4 ]"
   ]
  },
  {
   "cell_type": "code",
   "execution_count": 69,
   "metadata": {
    "state": "normal"
   },
   "outputs": [
    {
     "data": {},
     "execution_count": 69,
     "metadata": {},
     "output_type": "execute_result"
    }
   ],
   "source": [
    "# Use list comprehensions to make a list\n",
    "\n",
    "[x for x in range(10)]"
   ]
  },
  {
   "cell_type": "code",
   "execution_count": 70,
   "metadata": {
    "scrolled": true,
    "state": "normal"
   },
   "outputs": [
    {
     "data": {},
     "execution_count": 70,
     "metadata": {},
     "output_type": "execute_result"
    }
   ],
   "source": [
    "# Make a list from a string\n",
    "\n",
    "\"Make me into many strings\".split(\" \")"
   ]
  },
  {
   "cell_type": "markdown",
   "metadata": {
    "state": "normal"
   },
   "source": [
    "### What's in a list?\n",
    "\n",
    "Anything! Lists can consist of numbers, strings, boolean values, or other lists, and more! They can contain these elements in any order or combination."
   ]
  },
  {
   "cell_type": "code",
   "execution_count": 72,
   "metadata": {
    "state": "normal"
   },
   "outputs": [
    {
     "data": {},
     "execution_count": 72,
     "metadata": {},
     "output_type": "execute_result"
    }
   ],
   "source": [
    "[\"a number\", 3, [\"another list\", \"with three strings\", \"inside the first one!\"]]"
   ]
  },
  {
   "cell_type": "markdown",
   "metadata": {
    "state": "normal"
   },
   "source": [
    "### Finding elements of a list\n",
    "\n",
    "Within a list, we can use **slicing** to find specific elements or to reference a specific position within a list. First, let's make a list to play with by **storing** a list. We can **store** a list (or any other object) in memory by assigning it a name using the \\= symbol. After we have given an object a name, we can refer to that object by its name whenever we want to make use of the object. There are some simple rules for naming things in Python:\n",
    "\n",
    "- Variable names must consist of letters, numbers, and underscores only. \n",
    "- Periods CANNOT be part of variable names (helpful advice for any recovering R users out there...)\n",
    "- Variable names typically begin with lower case letters, and CANNOT begin with numbers.\n",
    "- If you want to use multiple words in a variable name, separate the words with underscores (\\_) or by capitalizing all but the first word (called **camel casing**)\n",
    "- While you can use any word you want for a variable's name, you should avoid [reserve words](https://stackoverflow.com/questions/22864221/is-the-list-of-python-reserved-words-and-builtins-available-in-a-library) wherever possible."
   ]
  },
  {
   "cell_type": "code",
   "execution_count": 87,
   "metadata": {
    "state": "normal"
   },
   "outputs": [],
   "source": [
    "firstList = [x for x in range(10)]"
   ]
  },
  {
   "cell_type": "markdown",
   "metadata": {
    "state": "normal"
   },
   "source": [
    "Now that we have created and stored a list, let's **slice** it up! When **slicing**, we will use the variable name followed by square brackets (\\[ and \\]) with values in between them to denote what we want to extract from the list. To get the first element in our stored list, we can use the following code:"
   ]
  },
  {
   "cell_type": "code",
   "execution_count": 74,
   "metadata": {
    "state": "normal"
   },
   "outputs": [
    {
     "data": {},
     "execution_count": 74,
     "metadata": {},
     "output_type": "execute_result"
    }
   ],
   "source": [
    "firstList[0]"
   ]
  },
  {
   "cell_type": "markdown",
   "metadata": {
    "state": "normal"
   },
   "source": [
    "Remember, lists are **zero-indexed** (the first thing is the 0th thing)! We can also grab more than one element at a time. Our list currently has 10 elements (you can see the whole list by removing the slicing notation from the line above and running the line again), but we might want to extract the first 5."
   ]
  },
  {
   "cell_type": "code",
   "execution_count": 75,
   "metadata": {
    "state": "normal"
   },
   "outputs": [
    {
     "data": {},
     "execution_count": 75,
     "metadata": {},
     "output_type": "execute_result"
    }
   ],
   "source": [
    "firstList[0:5]"
   ]
  },
  {
   "cell_type": "markdown",
   "metadata": {
    "state": "normal"
   },
   "source": [
    "When we use notation like `[0:5]`, we are explaining to python that we want all elements beginning with the 0th element, but whose position is less than 5. This will retrieve elements 0, 1, 2, 3, and 4, as you can see from our output. We can also write with fewer characters, and use equivalent notation like `[:5]`.\n",
    "\n",
    "**Question**: If `[:5]` gets everything from the start of the list until the 5th element, what do you think that `[5:]` would provide?"
   ]
  },
  {
   "cell_type": "code",
   "execution_count": 76,
   "metadata": {
    "state": "normal"
   },
   "outputs": [
    {
     "data": {},
     "execution_count": 76,
     "metadata": {},
     "output_type": "execute_result"
    }
   ],
   "source": [
    "firstList[5:]"
   ]
  },
  {
   "cell_type": "markdown",
   "metadata": {
    "state": "normal"
   },
   "source": [
    "That's right! `[5:]` will extract the elements from the 6th position (6-1=5) to the end of the list. This comes in REALLY handy when we may not know ahead of time how many elements are in a list, but we still need to tell Python what to do. We can even do some fancy footwork, and have our slicing syntax help us grab every other element from the list, rather than all the elements!"
   ]
  },
  {
   "cell_type": "code",
   "execution_count": 78,
   "metadata": {
    "state": "normal"
   },
   "outputs": [
    {
     "data": {},
     "execution_count": 78,
     "metadata": {},
     "output_type": "execute_result"
    }
   ],
   "source": [
    "firstList[::2] # or firstList[0::2] or firstList[0:10:2] -- All three commands are equivalent for our list"
   ]
  },
  {
   "cell_type": "markdown",
   "metadata": {
    "state": "normal"
   },
   "source": [
    "Pretty awesome, right?\n",
    "\n",
    "### List operators and methods\n",
    "\n",
    "Lists can use the operators \\+ and \\*, similar to strings. The \\+ operator can be used to **concatenate** two lists together, and the \\* operator can be used to repeat a list, just like with strings:"
   ]
  },
  {
   "cell_type": "code",
   "execution_count": 85,
   "metadata": {
    "state": "normal"
   },
   "outputs": [
    {
     "data": {},
     "execution_count": 85,
     "metadata": {},
     "output_type": "execute_result"
    }
   ],
   "source": [
    "firstList + ['textGoesHere', 'moreTextHere']"
   ]
  },
  {
   "cell_type": "code",
   "execution_count": 82,
   "metadata": {
    "state": "normal"
   },
   "outputs": [
    {
     "data": {},
     "execution_count": 82,
     "metadata": {},
     "output_type": "execute_result"
    }
   ],
   "source": [
    "firstList*2"
   ]
  },
  {
   "cell_type": "markdown",
   "metadata": {
    "state": "normal"
   },
   "source": [
    "Lists have many useful methods to supplement their functionality. We can use methods to sort lists, add elements, remove elements, find unique values, and much more. For a list of the built-in methods, see [https://docs.python.org/3/tutorial/datastructures.html#more-on-lists](https://docs.python.org/3/tutorial/datastructures.html#more-on-lists)."
   ]
  },
  {
   "cell_type": "code",
   "execution_count": 88,
   "metadata": {
    "state": "normal"
   },
   "outputs": [],
   "source": [
    "# Add an element to the end of a list - WARNING!! THIS WILL CHANGE YOUR STORED LIST!\n",
    "\n",
    "firstList.append(11)"
   ]
  },
  {
   "cell_type": "code",
   "execution_count": 89,
   "metadata": {
    "state": "normal"
   },
   "outputs": [
    {
     "data": {},
     "execution_count": 89,
     "metadata": {},
     "output_type": "execute_result"
    }
   ],
   "source": [
    "# Remove an element from the end of a list - WARNING!! THIS WILL CHANGE YOUR STORED LIST!\n",
    "\n",
    "firstList.pop()"
   ]
  },
  {
   "cell_type": "code",
   "execution_count": 90,
   "metadata": {
    "state": "normal"
   },
   "outputs": [],
   "source": [
    "# Sort a list - WARNING!! THIS WILL CHANGE YOUR STORED LIST!\n",
    "\n",
    "firstList.sort()"
   ]
  },
  {
   "cell_type": "code",
   "execution_count": 91,
   "metadata": {
    "state": "normal"
   },
   "outputs": [],
   "source": [
    "# Sort a list - WARNING!! THIS WILL CHANGE YOUR STORED LIST!\n",
    "\n",
    "firstList.reverse()"
   ]
  },
  {
   "cell_type": "code",
   "execution_count": 92,
   "metadata": {
    "state": "normal"
   },
   "outputs": [
    {
     "data": {},
     "execution_count": 92,
     "metadata": {},
     "output_type": "execute_result"
    }
   ],
   "source": [
    "# Find the length of a list (or of strings, or other data types of arbitrary length)\n",
    "\n",
    "len(firstList)"
   ]
  },
  {
   "cell_type": "markdown",
   "metadata": {
    "state": "normal"
   },
   "source": [
    "**Solve it**\n",
    "\n",
    "Write a list containing all numbers up to 50, where each odd number is negative, and each even number is positive. *Hint: the [modulo operator](https://www.educative.io/edpresso/what-is-a-modulo-operator-in-python) will be really helpful!*\n",
    "\n",
    "Store the resulting list as a variable named `oddsOrEvens`."
   ]
  },
  {
   "cell_type": "code",
   "execution_count": 5,
   "metadata": {
    "deletable": false,
    "id": "apt_nott",
    "state": "graded"
   },
   "outputs": [],
   "source": [
    "oddsOrEvens = "
   ]
  },
  {
   "cell_type": "markdown",
   "metadata": {
    "state": "normal"
   },
   "source": [
    "**Test it**\n",
    "\n",
    "Run the next cell below to test your solution to the `oddsOrEvens` problem."
   ]
  },
  {
   "cell_type": "code",
   "execution_count": null,
   "metadata": {},
   "outputs": [],
   "source": [
    "if (oddsOrEvens == [0, -1, 2, -3, 4, -5, 6, -7, 8, -9, 10, -11, 12, -13, 14, -15, 16, -17, 18, -19, 20, -21, 22, -23, 24, -25, 26, -27, 28, -29, 30, -31, 32, -33, 34, -35, 36, -37, 38, -39, 40, -41, 42, -43, 44, -45, 46, -47, 48, -49]):\n",
    "    print(\"You got it right!\")"
   ]
  },
  {
   "cell_type": "markdown",
   "metadata": {
    "state": "normal"
   },
   "source": [
    "## Dictionaries\n",
    "\n"
   ]
  },
  {
   "cell_type": "markdown",
   "metadata": {
    "state": "normal"
   },
   "source": [
    "Dictionaries are powerful objects that do many of the same things as lists, but also include their own nice set of features, making them easier to deal with than lists in many contexts. Like lists, dictionaries can store any number of elements of more or less any type. You can store numbers, strings, lists, and dictionaries within a dictionary (among many other things).\n",
    "\n",
    "Remember that a list is created to be used in order (using the position of their elements as the way to reference the information stored within the list). Dictionaries have a different structure. Every element of a dictionary is stored in what is called a **key-value pair**. \n",
    "\n",
    "**Key-value pair** refers to the fact that every element in a dictionary is assigned a name (a **key**) which is then associated with the **value** to be stored within the dictionary. When we want to find a specific element within a dictionary, we access it by providing the **key** that pairs with the value that we are interested in.\n",
    "\n",
    "Let's create a dictionary called `studentRecord`, and put some information about an imaginary student inside of it. We will store the student's name, age, and GPA."
   ]
  },
  {
   "cell_type": "code",
   "execution_count": 1,
   "metadata": {
    "state": "normal"
   },
   "outputs": [],
   "source": [
    "studentRecord = {\n",
    "    'name' : 'Dusty White',\n",
    "    'age' : 32,\n",
    "    'GPA' : 3.45\n",
    "}"
   ]
  },
  {
   "cell_type": "markdown",
   "metadata": {
    "state": "normal"
   },
   "source": [
    "When we want to reference a single value from our dictionary, we can do so by providing the key that corresponds to the value we would like to extract within square brackets (\\[ \\])."
   ]
  },
  {
   "cell_type": "code",
   "execution_count": 2,
   "metadata": {
    "state": "normal"
   },
   "outputs": [
    {
     "data": {},
     "execution_count": 2,
     "metadata": {},
     "output_type": "execute_result"
    }
   ],
   "source": [
    "studentRecord['age']"
   ]
  },
  {
   "cell_type": "markdown",
   "metadata": {
    "state": "normal"
   },
   "source": [
    "Let's update this record to contain a list of courses taken by the student:"
   ]
  },
  {
   "cell_type": "code",
   "execution_count": 3,
   "metadata": {
    "state": "normal"
   },
   "outputs": [],
   "source": [
    "studentRecord['courseHistory'] = [\"Econ\", \"Math\", \"Chem\"]"
   ]
  },
  {
   "cell_type": "markdown",
   "metadata": {
    "state": "normal"
   },
   "source": [
    "Now, when we look at the entire dictionary, we will see the following:"
   ]
  },
  {
   "cell_type": "code",
   "execution_count": 4,
   "metadata": {
    "state": "normal"
   },
   "outputs": [
    {
     "data": {},
     "execution_count": 4,
     "metadata": {},
     "output_type": "execute_result"
    }
   ],
   "source": [
    "studentRecord"
   ]
  },
  {
   "cell_type": "markdown",
   "metadata": {
    "state": "normal"
   },
   "source": [
    "If we want to reference the second course taken by the student, we can use multiple levels of indexing. First, we reference the key associated with the course list, and then we reference the position of the second course within the list:"
   ]
  },
  {
   "cell_type": "code",
   "execution_count": 5,
   "metadata": {
    "state": "normal"
   },
   "outputs": [
    {
     "data": {},
     "execution_count": 5,
     "metadata": {},
     "output_type": "execute_result"
    }
   ],
   "source": [
    "studentRecord['courseHistory'][1]"
   ]
  },
  {
   "cell_type": "markdown",
   "metadata": {
    "state": "normal"
   },
   "source": [
    "Notice how we can treat the `\"courseHistory\"` value in our dictionary as if it were a list, because it is actually a list stored within the dictionary. Whenever an object is stored as part of another object, when we reference the internal object, we can treat it just like we would have treated it even if it were not part of something else! This makes dictionaries and lists into VERY powerful tools, that can organize and store large amounts of related information for future retrieval!"
   ]
  },
  {
   "cell_type": "markdown",
   "metadata": {
    "state": "normal"
   },
   "source": [
    "### Dictionary Methods\n",
    "\n",
    "Dictionaries, due to their structure, are typically not operated on directly using operators (like we have done with other object types). The most important methods associated with dictionaries are related to retrieving the keys of the dictionary, the values of the dictionary, and extracting key-value pairs:"
   ]
  },
  {
   "cell_type": "code",
   "execution_count": 7,
   "metadata": {
    "state": "normal"
   },
   "outputs": [
    {
     "data": {},
     "execution_count": 7,
     "metadata": {},
     "output_type": "execute_result"
    }
   ],
   "source": [
    "# Extract keys only\n",
    "\n",
    "studentRecord.keys()"
   ]
  },
  {
   "cell_type": "code",
   "execution_count": 8,
   "metadata": {
    "state": "normal"
   },
   "outputs": [
    {
     "data": {},
     "execution_count": 8,
     "metadata": {},
     "output_type": "execute_result"
    }
   ],
   "source": [
    "# Extract items only\n",
    "\n",
    "studentRecord.values()"
   ]
  },
  {
   "cell_type": "code",
   "execution_count": 9,
   "metadata": {
    "state": "normal"
   },
   "outputs": [
    {
     "data": {},
     "execution_count": 9,
     "metadata": {},
     "output_type": "execute_result"
    }
   ],
   "source": [
    "# Extract key-value pairs\n",
    "\n",
    "studentRecord.items()"
   ]
  },
  {
   "cell_type": "markdown",
   "metadata": {
    "state": "normal"
   },
   "source": [
    "**Solve it**\n",
    "\n",
    "Create a dictionary to store information about a purchase at a clothing store that contains the following keys and values:\n",
    "- A \"name\" key that corresponds to the name of the buyer\n",
    "- An \"items\" key that corresponds to a **list** of items purchased\n",
    "- A \"discount\" key that corresponds to a **boolean** value indicating whether or not the buyer received a discount on the purchase\n",
    "- A \"price\" key that corresponds to the price that the buyer paid for the purchase as a whole.\n",
    "\n",
    "Store the resulting dictionary as a variable named `receipt`."
   ]
  },
  {
   "cell_type": "code",
   "execution_count": 6,
   "metadata": {
    "deletable": false,
    "id": "able_hel",
    "state": "graded"
   },
   "outputs": [],
   "source": [
    "receipt = "
   ]
  },
  {
   "cell_type": "markdown",
   "metadata": {
    "state": "normal"
   },
   "source": [
    "**Test it**\n",
    "\n",
    "Run the next cell below to test your solution to the `receipt` problem."
   ]
  },
  {
   "cell_type": "code",
   "execution_count": null,
   "metadata": {},
   "outputs": [],
   "source": [
    "if (isinstance(receipt, dict)) and (isinstance(receipt['name'], str)) and (isinstance(receipt['items'], list)) and (isinstance(receipt['discount'], bool)) and ((isinstance(receipt['price'], int)) or isinstance(receipt['price'], float)):\n",
    "    print(\"You got it right!\")"
   ]
  },
  {
   "cell_type": "markdown",
   "metadata": {
    "state": "normal"
   },
   "source": [
    "## Up Next: Loops and Functions\n",
    "\n",
    "At this point, we know enough about objects in Python to start getting to work! Next week, we will work on using the different objects that we have experienced so far to start building more powerful functionality by incorporating loops and functions into our programming vocabulary!"
   ]
  }
 ],
 "metadata": {
  "kernelspec": {
   "display_name": "Python 3 (ipykernel)",
   "language": "python",
   "name": "python3"
  },
  "language_info": {
   "codemirror_mode": {
    "name": "ipython",
    "version": 3
   },
   "file_extension": ".py",
   "mimetype": "text/x-python",
   "name": "python",
   "nbconvert_exporter": "python",
   "pygments_lexer": "ipython3",
   "version": "3.9.13"
  },
  "mimir": {
   "data": {},
   "last_submission_id": "",
   "project_id": "46e01362-2138-4ef6-94ec-5c73d6a4454f"
  },
  "varInspector": {
   "cols": {
    "lenName": 16,
    "lenType": 16,
    "lenVar": 40
   },
   "kernels_config": {
    "python": {
     "delete_cmd_postfix": "",
     "delete_cmd_prefix": "del ",
     "library": "var_list.py",
     "varRefreshCmd": "print(var_dic_list())"
    },
    "r": {
     "delete_cmd_postfix": ") ",
     "delete_cmd_prefix": "rm(",
     "library": "var_list.r",
     "varRefreshCmd": "cat(var_dic_list()) "
    }
   },
   "types_to_exclude": [
    "module",
    "function",
    "builtin_function_or_method",
    "instance",
    "_Feature"
   ],
   "window_display": false
  }
 },
 "nbformat": 4,
 "nbformat_minor": 4
}
