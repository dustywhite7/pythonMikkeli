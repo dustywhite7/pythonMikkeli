{
 "cells": [
  {
   "cell_type": "markdown",
   "id": "eae89d37-a227-4844-9ed5-e961739b408c",
   "metadata": {
    "jp-MarkdownHeadingCollapsed": true
   },
   "source": [
    "## Collecting data from websites\n",
    "\n",
    "Have you ever needed to collect data from websites where the data is not made readily available? If you have, then you probably spent a significant amount of time copying and pasting from the website to a spreadsheet, and trying to carefully collect only the information that you need, while avoiding mistakes based on copying and pasting or typing. If your project required that data be collected from *many* pages, then this likely became a painful and repetitive effort that occupied a substantial amount of time.\n",
    "\n",
    "Fortunately, your knowledge of Python can facilitate the data collection process through libraries designed to automate the collection of data from large numbers of pages. This class, we will focus on how to use a few of these libraries to streamline the collection of information from websites. The best way to understand this process is to do it, so we will be walking through the process while learning about why we scrape data the way that we do.\n"
   ]
  },
  {
   "cell_type": "markdown",
   "id": "05b36089-33c4-4110-b7d6-31823074c6b4",
   "metadata": {},
   "source": [
    "## Parsing websites with Python\n",
    "\n",
    "Obviously, if we want to scrape a website, we will first want to *access* that website. We can do this with the `requests` library, like we did before to grab some text for our regex experiments."
   ]
  },
  {
   "cell_type": "code",
   "execution_count": 49,
   "id": "459a31fc-f611-426a-92bc-ca3e3bb1b11d",
   "metadata": {},
   "outputs": [],
   "source": [
    "import requests\n",
    "myPage = requests.get(\"https://poshmark.com/category/Women-Bags\")"
   ]
  },
  {
   "cell_type": "markdown",
   "id": "50c16d8e-f6e6-4d6e-8f2c-6da1e4fe2a5b",
   "metadata": {
    "tags": []
   },
   "source": [
    "During this lesson, we will be using [Poshmark.com's Women's Bag Listings](https://poshmark.com/category/Women-Bags) as our example. This is a fun website for learning to scrape, because the website listings change all the time, so there is always something new to scrape. But this means that when you run my code you'll probably get different results based on the listings that are currently offered.\n",
    "\n",
    "We will focus on exploring the page to see what information we can extract.\n",
    "\n",
    "### Process the HTML"
   ]
  },
  {
   "cell_type": "code",
   "execution_count": 50,
   "id": "5900e353-a220-4237-9185-2abd3e67962e",
   "metadata": {},
   "outputs": [],
   "source": [
    "from bs4 import BeautifulSoup\n",
    "\n",
    "soup = BeautifulSoup(myPage.text)"
   ]
  },
  {
   "cell_type": "markdown",
   "id": "af84c86a-0aca-4440-bc4b-c8080cf29da7",
   "metadata": {},
   "source": [
    "The code above imports the `BeautifulSoup` library/function, and prepares our requested URL for scraping. When we feed our website into the parser, we need to make sure to pass the `text` attribute of the requested URL, since this is the place in which the full HTML of the page is stored. If we just pass the `myPage` object, then we will be unable to parse the HTML like we want to. Now, we simply store a parsed website as an object (in this case we call it `parsed`), and we are ready to go."
   ]
  },
  {
   "cell_type": "code",
   "execution_count": 51,
   "id": "d4020d6f-c76f-4e41-9818-aa85e40ee9fa",
   "metadata": {},
   "outputs": [
    {
     "data": {
      "text/plain": [
       "<title>Women Bags on Poshmark</title>"
      ]
     },
     "execution_count": 51,
     "metadata": {},
     "output_type": "execute_result"
    }
   ],
   "source": [
    "soup.title"
   ]
  },
  {
   "cell_type": "markdown",
   "id": "cde932c6-fea9-43cf-97b0-45a1e0b41824",
   "metadata": {},
   "source": [
    "    <title>Women Bags on Poshmark</title>\n",
    "\n",
    "\n",
    "\n",
    "`BeautifulSoup`'s parsed pages are structured based on the HTML tags that are encountered within the page. For example, above we requested the `title` tag from the page, and we got back the full tag, as well as all content within that tag. In order to only return the text inside the tag, we can use the following code:"
   ]
  },
  {
   "cell_type": "code",
   "execution_count": 52,
   "id": "a5bcc419-f07c-4e69-ba50-116c06a51165",
   "metadata": {},
   "outputs": [
    {
     "data": {
      "text/plain": [
       "'Women Bags on Poshmark'"
      ]
     },
     "execution_count": 52,
     "metadata": {},
     "output_type": "execute_result"
    }
   ],
   "source": [
    "soup.title.text"
   ]
  },
  {
   "cell_type": "markdown",
   "id": "2f7ffe1b-84a8-4298-94a2-ef781b1c5004",
   "metadata": {},
   "source": [
    "    'Women Bags on Poshmark'\n",
    "\n",
    "\n",
    "\n",
    "For a tag with nothing else embedded inside, this is a great way to extract the text. However, many tags will contain one or more other tags, which add to the formatting of the page. Other tags will also repeat multiple times on the same page (unlike the title tag), so we will have to differentiate between them.\n",
    "\n",
    "The tag that we will be most interested in for now is the `div` tag, which is a generic tag wrapped around each individual listing on the website. Unfortunately, f we just look for the `div` tag like we did with the title, then we will get a whole bunch of stuff, some of which is useful for finding the listings on the page, and some is not.\n",
    "\n",
    "Let's take a look at a single listing in our developer tools. Follow the link to the women's bags page, and right click the page and choose the \"Inspect\" tool. You can then hover over each element on the page and see how the code relates to each visible element on the page.\n",
    "\n",
    "Here is a screenshot highlighting the important stuff:\n",
    "\n",
    "![](images/listing_tile.png)"
   ]
  },
  {
   "cell_type": "markdown",
   "id": "4381714a-4daf-486d-a9df-da2d62297f3a",
   "metadata": {},
   "source": [
    "The first listing is highlighted, so we can see the code. The `div` tag that creates this listing has a **class** of `card--small` (note the double hyphen!). This is true of all listings. We can extract the first of these listings with the code below.\n",
    "\n",
    "A BeautifulSoup-parsed document provides us an object that holds a `find` method. We can use this method to search through the parsed document/site for a tag with specific properties. We are going to look for a `div` tag with a class of `card--small`. The class argument is spelled `class_` with an underscore, since `class` is a reserved word in Python. "
   ]
  },
  {
   "cell_type": "code",
   "execution_count": 53,
   "id": "3b6b53df-69d8-460e-98d8-c02b8ea8cb0b",
   "metadata": {},
   "outputs": [
    {
     "data": {
      "text/plain": [
       "<div class=\"card card--small\"><a class=\"tile__covershot\" data-et-element-type=\"image\" data-et-name=\"listing\" data-et-on-page_group_id=\"689cf4e7e2ac7d82134f21a9\" data-et-prop-category_id=\"00248975d97b4e80ef00a955\" data-et-prop-department_id=\"000e8975d97b4e80ef00a955\" data-et-prop-lister_id=\"637558284527462c43b10041\" data-et-prop-listing_id=\"6890c5e124b20bc714d201dc\" data-et-prop-location=\"listing_tile\" data-et-prop-unit_position=\"0\" href=\"/listing/Black-Wristlet-and-Wallet-lot4-pieces-total-checkbook-card-holder-6890c5e124b20bc714d201dc\" target=\"\"><div class=\"img__container img__container--square\"><picture title=\"\"><source srcset=\"https://di2ponv0v5otw.cloudfront.net/posts/2025/08/04/6890c5e124b20bc714d201dc/s_wp_6890c5f9a9a448b000d7f6ef.webp\" type=\"image/webp\"><source srcset=\"https://di2ponv0v5otw.cloudfront.net/posts/2025/08/04/6890c5e124b20bc714d201dc/s_6890c5f9a9a448b000d7f6ef.jpg\" type=\"image/jpeg\"><img alt=\"Black Wristlet and Wallet lot4 pieces total checkbook card holder\" class=\"ovf--h d--b\" src=\"https://di2ponv0v5otw.cloudfront.net/posts/2025/08/04/6890c5e124b20bc714d201dc/s_6890c5f9a9a448b000d7f6ef.jpg\" title=\"\"/></source></source></picture></div><!-- --><!-- --><!-- --><!-- --><!-- --></a><div><div class=\"item__details\"><div class=\"title__condition__container\"><a class=\"tile__title tc--b\" data-et-element-type=\"link\" data-et-name=\"listing\" data-et-on-page_group_id=\"689cf4e7e2ac7d82134f21a9\" data-et-prop-category_id=\"00248975d97b4e80ef00a955\" data-et-prop-department_id=\"000e8975d97b4e80ef00a955\" data-et-prop-lister_id=\"637558284527462c43b10041\" data-et-prop-listing_id=\"6890c5e124b20bc714d201dc\" data-et-prop-location=\"listing_tile\" data-et-prop-unit_position=\"0\" href=\"/listing/Black-Wristlet-and-Wallet-lot4-pieces-total-checkbook-card-holder-6890c5e124b20bc714d201dc\">\n",
       "            Black Wristlet and Wallet lot4 pieces total checkbook card holder\n",
       "          </a><div class=\"d--fl ai--c m--l--1\"><div style=\"display:none;\"><div class=\"d--fl ai--c\"><i class=\"icon posh-star-small\"></i></div></div><div style=\"display:none;\"><span class=\"condition-tag all-caps tr--uppercase condition-tag--small\">\n",
       "</span></div></div></div><div><div class=\"m--t--1\"><span class=\"p--t--1 fw--bold\">\n",
       "              $25\n",
       "            </span><!-- --></div><div class=\"d--fl m--t--1\"><a class=\"tile__details__pipe__size ellipses\" data-et-element-type=\"link\" data-et-name=\"listing\" data-et-on-page_group_id=\"689cf4e7e2ac7d82134f21a9\" data-et-prop-category_id=\"00248975d97b4e80ef00a955\" data-et-prop-department_id=\"000e8975d97b4e80ef00a955\" data-et-prop-lister_id=\"637558284527462c43b10041\" data-et-prop-listing_id=\"6890c5e124b20bc714d201dc\" data-et-prop-location=\"listing_tile\" data-et-prop-unit_position=\"0\" href=\"/category/Women-Bags?size=OS\">\n",
       "              Size: OS\n",
       "            </a><!-- --></div></div></div><div><a class=\"tile__creator d--fl\" data-et-element-type=\"link\" data-et-name=\"seller\" data-et-on-page_group_id=\"689cf4e7e2ac7d82134f21a9\" data-et-prop-category_id=\"00248975d97b4e80ef00a955\" data-et-prop-department_id=\"000e8975d97b4e80ef00a955\" data-et-prop-lister_id=\"637558284527462c43b10041\" data-et-prop-listing_id=\"6890c5e124b20bc714d201dc\" data-et-prop-location=\"listing_tile\" data-et-prop-unit_position=\"0\" href=\"/closet/focusonmemories\"><img alt=\"focusonmemories\" class=\"user-image user-image--xs\" src=\"https://di2ponv0v5otw.cloudfront.net/users/2025/05/13/16/t_6823d2f61277fbe94929b681.jpg\"/><span class=\"m--l--1 tc--g\"><span><!-- -->\n",
       "              focusonmemories\n",
       "            </span><!-- --></span></a><!-- --></div><div class=\"social-action-bar tile__social-actions\"><div class=\"d--fl ai--c cursor--pointer social-action-bar__action social-action-bar__like\" data-et-element-type=\"button\" data-et-name=\"like\" data-et-on-page_group_id=\"689cf4e7e2ac7d82134f21a9\" data-et-prop-category_id=\"00248975d97b4e80ef00a955\" data-et-prop-department_id=\"000e8975d97b4e80ef00a955\" data-et-prop-lister_id=\"637558284527462c43b10041\" data-et-prop-listing_id=\"6890c5e124b20bc714d201dc\" data-et-prop-location=\"listing_tile\" data-et-prop-unit_position=\"0\"><i class=\"icon as--c like\"></i><!-- --><!-- --></div><div class=\"d--fl ai--c jc--sb\"><a class=\"social-action-bar__action social-action-bar__comment\" data-et-element-type=\"button\" data-et-name=\"comment\" data-et-on-page_group_id=\"689cf4e7e2ac7d82134f21a9\" data-et-prop-category_id=\"00248975d97b4e80ef00a955\" data-et-prop-department_id=\"000e8975d97b4e80ef00a955\" data-et-prop-lister_id=\"637558284527462c43b10041\" data-et-prop-listing_id=\"6890c5e124b20bc714d201dc\" data-et-prop-location=\"listing_tile\" data-et-prop-unit_position=\"0\"><i class=\"icon comment-gray\"></i><!-- --></a><!-- --></div><div class=\"d--fl ai--c social-action-bar__action social-action-bar__share\" data-et-element-type=\"button\" data-et-name=\"share\" data-et-on-page_group_id=\"689cf4e7e2ac7d82134f21a9\" data-et-prop-category_id=\"00248975d97b4e80ef00a955\" data-et-prop-department_id=\"000e8975d97b4e80ef00a955\" data-et-prop-lister_id=\"637558284527462c43b10041\" data-et-prop-listing_id=\"6890c5e124b20bc714d201dc\" data-et-prop-location=\"listing_tile\" data-et-prop-unit_position=\"0\"><i class=\"icon share-gray-large\"></i><!-- --></div></div></div></div>"
      ]
     },
     "execution_count": 53,
     "metadata": {},
     "output_type": "execute_result"
    }
   ],
   "source": [
    "soup.find('div', class_=\"card--small\")"
   ]
  },
  {
   "cell_type": "markdown",
   "id": "760d8d97-88fb-4bd5-8d2d-8a4a03409904",
   "metadata": {},
   "source": [
    "Wow! There sure is a lot of stuff for us to work through within that tag! It turns out that the article tag contains *everything* related to a particular listing, so we will have to work through that information more carefully if we would like to be able to scrape information about each listing. \n",
    "\n",
    "The first thing that we need to do, though, is collect ALL of the listings, so that we can parse each one and collect the most useful information."
   ]
  },
  {
   "cell_type": "markdown",
   "id": "60bd49d8-f88b-4c7e-9a61-290f596ca3b7",
   "metadata": {},
   "source": [
    "## Navigating scraped data\n",
    "\n",
    "Our processed website has some other tools besides being able to search for a single tag. One of the most helpful is a method called `find_all`, which will allow us to look in a specific portion of the page (or across the whole page) for *all instances* of a specific tag. Before, we could only see the first instance of the tag we were searching for, but this will allow us to find all the listings on a page!\n",
    "\n",
    "In order to not end up with a massive text blob for output, let's store the results of our `find_all` method in a list."
   ]
  },
  {
   "cell_type": "code",
   "execution_count": 54,
   "id": "8f0ad307-bc33-4d06-80aa-eb2d4a7ead46",
   "metadata": {},
   "outputs": [],
   "source": [
    "listings = [i for i in soup.find_all('div', class_=\"card--small\")]"
   ]
  },
  {
   "cell_type": "markdown",
   "id": "dcd5b3da-7d40-4c9c-8b3e-9f86b1837459",
   "metadata": {},
   "source": [
    "To store the article tags in a list, we use a simple list comprehension, so that each separate article tag is a new entry in the list called `listings`. One of the really cool things about `BeautifulSoup` is that each returned object is treated just like the full parsed webpage: we can use tags to walk through each of our new objects in the list, or to run another `find` or `find_all` method.\n",
    "\n",
    "Let's try finding an `img` tag inside of the first listing, that contains the url to the image of the listed bag:"
   ]
  },
  {
   "cell_type": "code",
   "execution_count": 55,
   "id": "c1be9b47-3a35-4ca7-8231-507239799c34",
   "metadata": {},
   "outputs": [
    {
     "data": {
      "text/plain": [
       "<img alt=\"Black Wristlet and Wallet lot4 pieces total checkbook card holder\" class=\"ovf--h d--b\" src=\"https://di2ponv0v5otw.cloudfront.net/posts/2025/08/04/6890c5e124b20bc714d201dc/s_6890c5f9a9a448b000d7f6ef.jpg\" title=\"\"/>"
      ]
     },
     "execution_count": 55,
     "metadata": {},
     "output_type": "execute_result"
    }
   ],
   "source": [
    "listings[0].img"
   ]
  },
  {
   "cell_type": "markdown",
   "id": "3da12723-e147-459a-b4a3-41c6d7692624",
   "metadata": {},
   "source": [
    "Awesome! We can walk even extract the characteristics of this tag to get that link!"
   ]
  },
  {
   "cell_type": "code",
   "execution_count": 56,
   "id": "c71bf915-5adf-4324-854c-e058d6ec3b7f",
   "metadata": {},
   "outputs": [
    {
     "data": {
      "text/plain": [
       "'https://di2ponv0v5otw.cloudfront.net/posts/2025/08/04/6890c5e124b20bc714d201dc/s_6890c5f9a9a448b000d7f6ef.jpg'"
      ]
     },
     "execution_count": 56,
     "metadata": {},
     "output_type": "execute_result"
    }
   ],
   "source": [
    "listings[0].img['src']"
   ]
  },
  {
   "cell_type": "markdown",
   "id": "03df0936-6f52-4f29-996c-6f6700fd79bb",
   "metadata": {},
   "source": [
    "Next, let's see how many articles are stored on each page of search results:"
   ]
  },
  {
   "cell_type": "code",
   "execution_count": 57,
   "id": "ebd35e1b-f340-4eba-adde-bd0026823695",
   "metadata": {},
   "outputs": [
    {
     "data": {
      "text/plain": [
       "48"
      ]
     },
     "execution_count": 57,
     "metadata": {},
     "output_type": "execute_result"
    }
   ],
   "source": [
    "len(listings)"
   ]
  },
  {
   "cell_type": "markdown",
   "id": "909cbebb-9eb2-4587-b489-c8356eed9a31",
   "metadata": {},
   "source": [
    "It looks like our results page has 48 results. How do we figure this all out? Remember that when we opened a page of results up, and we used the developer \"Inspect\" tool built into our browser to help us find the part of the page that contains the information we care about. THIS WILL BE DIFFERENT FOR EVERY WEBSITE. As we prepare to scrape a page, we will spend a lot of time going back and forth between the website as we see it, and the code that we are designing to scrape that website. It really is more of an art than a science, and is highly specific to the page that we are scraping.\n",
    "\n",
    "As we look through our list of articles, though, we will want to start extracting information that will help us learn about each bag. Let's try our hand at finding the name of the listings, and the price of each one. Fortunately, this information won't be TOO hard to find. If we inspect the title of the first result (using the link that we started with at the top of the notebook), we can see that the name of the listing is stored within the div tag using ANOTHER `div` tag, but with a class `title__condition__container`. Let's request that from our list:"
   ]
  },
  {
   "cell_type": "code",
   "execution_count": 58,
   "id": "e123ee9a-0388-41b0-a524-188cceaef5fc",
   "metadata": {},
   "outputs": [
    {
     "data": {
      "text/plain": [
       "<div class=\"title__condition__container\"><a class=\"tile__title tc--b\" data-et-element-type=\"link\" data-et-name=\"listing\" data-et-on-page_group_id=\"689cf4e7e2ac7d82134f21a9\" data-et-prop-category_id=\"00248975d97b4e80ef00a955\" data-et-prop-department_id=\"000e8975d97b4e80ef00a955\" data-et-prop-lister_id=\"637558284527462c43b10041\" data-et-prop-listing_id=\"6890c5e124b20bc714d201dc\" data-et-prop-location=\"listing_tile\" data-et-prop-unit_position=\"0\" href=\"/listing/Black-Wristlet-and-Wallet-lot4-pieces-total-checkbook-card-holder-6890c5e124b20bc714d201dc\">\n",
       "            Black Wristlet and Wallet lot4 pieces total checkbook card holder\n",
       "          </a><div class=\"d--fl ai--c m--l--1\"><div style=\"display:none;\"><div class=\"d--fl ai--c\"><i class=\"icon posh-star-small\"></i></div></div><div style=\"display:none;\"><span class=\"condition-tag all-caps tr--uppercase condition-tag--small\">\n",
       "</span></div></div></div>"
      ]
     },
     "execution_count": 58,
     "metadata": {},
     "output_type": "execute_result"
    }
   ],
   "source": [
    "listings[0].find('div', class_=\"title__condition__container\")"
   ]
  },
  {
   "cell_type": "markdown",
   "id": "de741e0c-3277-441f-ab5e-659d983be46a",
   "metadata": {},
   "source": [
    "<br>\n",
    "Okay, so we got the tag back, and the title is in there, but it's a MESS! How do we get down to just the information we want?\n",
    "\n",
    "If there is text inside of a tag (that is not itself between the `<` and `>` of a tag), then we can use the `.text` attribute to just pull the text from the tag:"
   ]
  },
  {
   "cell_type": "code",
   "execution_count": 59,
   "id": "327612b6-fcd5-4a68-be20-bd233c2e6b6f",
   "metadata": {},
   "outputs": [
    {
     "data": {
      "text/plain": [
       "'\\n            Black Wristlet and Wallet lot4 pieces total checkbook card holder\\n          \\n'"
      ]
     },
     "execution_count": 59,
     "metadata": {},
     "output_type": "execute_result"
    }
   ],
   "source": [
    "listings[0].find('div', class_=\"title__condition__container\").text"
   ]
  },
  {
   "cell_type": "markdown",
   "id": "5a602ef9-70d2-4392-9fba-d6d2b84f997b",
   "metadata": {},
   "source": [
    "<br>\n",
    "\n",
    "Closer! We got the listing name, but it's still looks a bit messy with those whitespace characters...\n",
    "\n",
    "We can use the string method `.strip()` to cut the whitespace off of the ends of the label. Let's do that now."
   ]
  },
  {
   "cell_type": "code",
   "execution_count": 60,
   "id": "82375b4f-193a-4ad3-bb90-eb6d91347c9e",
   "metadata": {},
   "outputs": [
    {
     "data": {
      "text/plain": [
       "'Black Wristlet and Wallet lot4 pieces total checkbook card holder'"
      ]
     },
     "execution_count": 60,
     "metadata": {},
     "output_type": "execute_result"
    }
   ],
   "source": [
    "listings[0].find('div', class_=\"title__condition__container\").text.strip()"
   ]
  },
  {
   "cell_type": "markdown",
   "id": "b5cf4b15-bb03-4fd9-af0a-235cec4eb20d",
   "metadata": {},
   "source": [
    "<br>\n",
    "\n",
    "There we go! Now we have what we want, so let's create a loop to extract the same information from each listing. Each one is structured in the same way, so we can easily loop through each listing in a list comprehension."
   ]
  },
  {
   "cell_type": "code",
   "execution_count": 61,
   "id": "42540a00-e9e6-4bb2-b682-57c787d32575",
   "metadata": {},
   "outputs": [
    {
     "data": {
      "text/plain": [
       "['Black Wristlet and Wallet lot4 pieces total checkbook card holder',\n",
       " 'Lilly Pulitzer Estée Lauder Lemon Tropical\\u205fCanvas Tote\\u205fBag',\n",
       " 'Gucci Beige/Brown GG Canvas and Leather Web Compact Wallet',\n",
       " 'Vintage Black Christian Dior Crossbody/Shoulder bag | Good Condition',\n",
       " 'Lululemon Green Tote Bag',\n",
       " 'Mytagalongs Velour Fanny\\u205fPack Waist Bag',\n",
       " 'Vintage Roses on Satin Classic Taupe Mini Handbag Leather Handle',\n",
       " 'NWOT An Reich Teal Pouch',\n",
       " 'Michael Kors Eva medium tote - EUC',\n",
       " '🧩Lululemon All Night Festival Bag 5L - Black',\n",
       " 'Luli Bebe Petit Monaco Diaper Backpack Ebony Black',\n",
       " 'Michael Kors Large Travel Continental Wallet Wristlet Black Multi\\n          \\n      NWT',\n",
       " 'Urban Fit by Urban Expressions Quilted Puffer Hobo Carry All Tote in Brown',\n",
       " 'Wandler Anna Belt Bag in Spicy Orange',\n",
       " 'ALO Yoga Explorer Fanny Pack - Adjustable Waist/Shoulder Strap 3L Nylon\\n          \\n      NWT',\n",
       " 'NWT Dodo Bar Or Lili Bag 100% Cotton Tote Purse Blue Purple Embroidered Checker\\n          \\n      NWT',\n",
       " 'Juicy Couture Tan and Cream Mini Barrel Shoulder Bag\\n          \\n      NWT',\n",
       " 'Lucy Leopard Small L\\nZip Wristlet net\\n          \\n      NWT',\n",
       " 'Tumi Ballistic Nylon leather\\nBriefcase long adjustable padded shoulder straps',\n",
       " 'Elegant Loeffler Randall Light Pink Leather Shoulder Bag',\n",
       " 'Prada Milano large white shopping bag',\n",
       " '⭐🔥AUTHENTIC🔥⭐Louis Vuitton Looping GM',\n",
       " '🆕 HOST PICK 💕 Burberry Beauty Cosmetic Case to Convertible Crossbody Bag Purse',\n",
       " 'Fendi Vitello Elite Calfskin Toujour Continental Wallet Long',\n",
       " 'NEW Pastel Wallet with Key and Bow Design\\n          \\n      NWT',\n",
       " 'Burberry Shoulder Bag with Certificate of Authenticity',\n",
       " 'Auth Chloe Marcie Gray Beige Leather Handbag',\n",
       " 'The White Eagle | The Sheppard King | Rose Gold Keychain | Owlcrate\\n          \\n      NWT',\n",
       " 'Michael Kors black leather wallet',\n",
       " 'New Tory Burch Emerson top handle crossbody soft aqua new without tags',\n",
       " 'Lauren Ralph\\u200e Lauren Brown Leather Belt SizeM.\\n          \\n      NWT',\n",
       " 'Samantha Thavasa Deluxe Beige Faux Fur & Leather Top Handle Satchel Crossbody\\n          \\n      NWT',\n",
       " 'Frankie & Johnnie Crochet Woven Shoulder Bag',\n",
       " 'NWT Cozy Earth White Bag 100% Bamboo Viscose Soft Pouch Gift Travel Eco\\n          \\n      NWT',\n",
       " 'the sak black leather shoulder bag',\n",
       " 'Jansport Shoulder Sling Hot Pink 2-Toned Full Zip Adjustable Shoulder Backpack\\n          \\n      NWT',\n",
       " 'Vintage Gunne Sax Jessica McClintock Clutch Evening Bag Purse Leopard Satin EUC',\n",
       " 'NWT Lululemon All Night Bag 5L - Black\\n          \\n      NWT',\n",
       " 'Hermes dust bag',\n",
       " 'HOBO Vida Large Wristlet Leather Holiday Stripe Retail $118\\u200e\\n          \\n      NWT',\n",
       " 'Nanette Lepore Pink Cosmetic Bag Set with Quilted Inner Case\\n          \\n      NWT',\n",
       " 'LOUIS VUITTON Monogram Canvas Etoile GM Shoulder Bag',\n",
       " '🆕️Geometric Pattern Adjustable Bag Strap Black & White Design Gold Hardware 💛\\n          \\n      Boutique',\n",
       " 'FENDI Selleria Leather Peekaboo Long Wallet  - Brown - Preowned',\n",
       " 'Kate Spade Hayden Cedar Street Red Leather Satchel Purse Bag',\n",
       " 'Cream and Gold Quilted Clutch with Chain Strap',\n",
       " 'GUCCI HYSTERIA ( 2003) collection WALLET- vintage',\n",
       " 'Fossil Snap Close Reddish Brown Crocodile Print Embossed Leather Wallet 7.25x4in']"
      ]
     },
     "execution_count": 61,
     "metadata": {},
     "output_type": "execute_result"
    }
   ],
   "source": [
    "[tile.find('div', class_=\"title__condition__container\").text.strip() for tile in listings]"
   ]
  },
  {
   "cell_type": "markdown",
   "id": "4a62086d-a484-437c-936b-9cf68d059826",
   "metadata": {},
   "source": [
    "That was the easy part. Now that we have the listing names, we need to find their prices. We will start by finding their prices on the website itself. If we poke around the website, we can see that the prices are listed in dollars, and that they are always inside of a `div` tag (this site seems to love those) with a bizarre class name of `m--t--1`. Who knows what this means (I sure don't), but it contains the number we want to collect.\n",
    "\n",
    "At this point, it's worth noting that there are a few other ways that we can move around the website. First, using the `.find()` method, we can search by tag, we can search by class (with the `class_` argument), AND we can search by the text that the tag contains with the `string` argument. So something like `.find(\"div\", string=\"$\")` would search for a div with text that is EXACTLY EQUAL to \"$\". Sometimes helpful, sometimes not.\n",
    "\n",
    "We can also move from one tag to the next adjacent (sibling) tag using the `.next_sibling` or `.previous_sibling` attributes of a find result.\n",
    "\n",
    "For now, though, we just need to find a tag:"
   ]
  },
  {
   "cell_type": "code",
   "execution_count": 62,
   "id": "1c7e14b2-6a58-4d2f-8b94-5f3352cdbe1b",
   "metadata": {},
   "outputs": [
    {
     "data": {
      "text/plain": [
       "'\\n              $25\\n            '"
      ]
     },
     "execution_count": 62,
     "metadata": {},
     "output_type": "execute_result"
    }
   ],
   "source": [
    "listings[0].find('div', class_=\"m--t--1\").text"
   ]
  },
  {
   "cell_type": "markdown",
   "id": "2be57d74-eca0-482a-861b-cf80a246bdca",
   "metadata": {},
   "source": [
    "Got it! This isn't so bad if we just move slowly. Unfortunately, the text contains more stuff than just the price in Euros. It turns out that the website just has a blob of text that contains prices, possibly in dollars, possibly in Euros, and possibly both, with some extra text at the end. Since price isn't a consistent number of digits, we need a way to recognize patterns in text and extract only the part that we want.\n",
    "\n",
    "It turns out that the website just has a blob of text that contains prices in dollars, with a dollar sign in the string and some extra white space around it. Since price isn't a consistent number of digits, we need a way to recognize patterns in text and extract only the part that we want.\n",
    "\n",
    "Regular expression comes to the rescue!"
   ]
  },
  {
   "cell_type": "code",
   "execution_count": 63,
   "id": "c55a8d66-8a28-469f-bb2e-f6853da70b75",
   "metadata": {},
   "outputs": [
    {
     "data": {
      "text/plain": [
       "25.0"
      ]
     },
     "execution_count": 63,
     "metadata": {},
     "output_type": "execute_result"
    }
   ],
   "source": [
    "import re\n",
    "\n",
    "float(\n",
    "    re.search(r'(?:[$])(\\d{1,3}(?:,\\d{3})?)', \n",
    "          listings[0].find('div', class_=\"m--t--1\").text).groups()[0].replace(\",\",\"\")\n",
    ")"
   ]
  },
  {
   "cell_type": "markdown",
   "id": "59c4ec57-9ec9-4911-a87c-e2b14713db1c",
   "metadata": {},
   "source": [
    "`r'(?:[$])(\\d{1,3}(?:,\\d{1,3})?)'` is a regular expression that looks for a dollar sign (in a non-collecting group), then one to three numbers, possibly followed by a comma and three more digits.\n",
    "\n",
    "When we get back the results from this search, we only need the first group (or value in parentheses), which omits the dollar symbol but includes the entire number. This expression allows for prices from \\$1 to \\$999,999 (I don't think there are million dollar items on Poshmark, but I could be wrong!). It's a string, but we can easily convert it to a number using the `float()` function once we have removed the commas with a `replace` function.\n",
    "\n",
    "Now that we know how to find each of the two values that we care about, it is time to start formalizing our code with a `for` loop to grab the same pieces of information from each listing. We can use our loop to walk through the HTML associated with each tile on the results page and extract the relevant information."
   ]
  },
  {
   "cell_type": "code",
   "execution_count": 64,
   "id": "e9585352-4ce1-403e-ae60-b410e159d515",
   "metadata": {},
   "outputs": [],
   "source": [
    "import numpy\n",
    "\n",
    "data = []\n",
    "\n",
    "for tile in listings:\n",
    "    row = []\n",
    "    try:\n",
    "        row.append(tile.find('div', class_=\"title__condition__container\").text.strip())\n",
    "    except:\n",
    "        row.append('')\n",
    "    try:\n",
    "        row.append(\n",
    "            float(\n",
    "                re.search(r'(?:[$])(\\d{1,3}(?:,\\d{3})?)', \n",
    "                      tile.find('div', class_=\"m--t--1\").text).groups()[0].replace(\",\",\"\")\n",
    "            )\n",
    "        )\n",
    "    except:\n",
    "        row.append(np.nan)\n",
    "    data.append(row)"
   ]
  },
  {
   "cell_type": "markdown",
   "id": "7d87c070-c6eb-4426-905e-c489eee8c288",
   "metadata": {},
   "source": [
    "We created an empty list called `data`, and our `for` loop was used to add rows to that list. Each row consists of a list of two items: listing name and listing price. Once we have created the list representing that row/tile/listing, we simply append it to the `data` list and move on to the next listing.\n",
    "\n",
    "The next step (below) is to create a Data Frame based on our list called `data`, and to name our columns. This provides easy structure and functionality to our data:"
   ]
  },
  {
   "cell_type": "code",
   "execution_count": 65,
   "id": "01f83bec-219f-448f-b6aa-b9bbcbee592e",
   "metadata": {},
   "outputs": [
    {
     "data": {
      "text/html": [
       "<div>\n",
       "<style scoped>\n",
       "    .dataframe tbody tr th:only-of-type {\n",
       "        vertical-align: middle;\n",
       "    }\n",
       "\n",
       "    .dataframe tbody tr th {\n",
       "        vertical-align: top;\n",
       "    }\n",
       "\n",
       "    .dataframe thead th {\n",
       "        text-align: right;\n",
       "    }\n",
       "</style>\n",
       "<table border=\"1\" class=\"dataframe\">\n",
       "  <thead>\n",
       "    <tr style=\"text-align: right;\">\n",
       "      <th></th>\n",
       "      <th>listing</th>\n",
       "      <th>price</th>\n",
       "    </tr>\n",
       "  </thead>\n",
       "  <tbody>\n",
       "    <tr>\n",
       "      <th>0</th>\n",
       "      <td>Black Wristlet and Wallet lot4 pieces total ch...</td>\n",
       "      <td>25.0</td>\n",
       "    </tr>\n",
       "    <tr>\n",
       "      <th>1</th>\n",
       "      <td>Lilly Pulitzer Estée Lauder Lemon Tropical Can...</td>\n",
       "      <td>35.0</td>\n",
       "    </tr>\n",
       "    <tr>\n",
       "      <th>2</th>\n",
       "      <td>Gucci Beige/Brown GG Canvas and Leather Web Co...</td>\n",
       "      <td>175.0</td>\n",
       "    </tr>\n",
       "    <tr>\n",
       "      <th>3</th>\n",
       "      <td>Vintage Black Christian Dior Crossbody/Shoulde...</td>\n",
       "      <td>558.0</td>\n",
       "    </tr>\n",
       "    <tr>\n",
       "      <th>4</th>\n",
       "      <td>Lululemon Green Tote Bag</td>\n",
       "      <td>10.0</td>\n",
       "    </tr>\n",
       "    <tr>\n",
       "      <th>5</th>\n",
       "      <td>Mytagalongs Velour Fanny Pack Waist Bag</td>\n",
       "      <td>20.0</td>\n",
       "    </tr>\n",
       "    <tr>\n",
       "      <th>6</th>\n",
       "      <td>Vintage Roses on Satin Classic Taupe Mini Hand...</td>\n",
       "      <td>75.0</td>\n",
       "    </tr>\n",
       "    <tr>\n",
       "      <th>7</th>\n",
       "      <td>NWOT An Reich Teal Pouch</td>\n",
       "      <td>7.0</td>\n",
       "    </tr>\n",
       "    <tr>\n",
       "      <th>8</th>\n",
       "      <td>Michael Kors Eva medium tote - EUC</td>\n",
       "      <td>69.0</td>\n",
       "    </tr>\n",
       "    <tr>\n",
       "      <th>9</th>\n",
       "      <td>🧩Lululemon All Night Festival Bag 5L - Black</td>\n",
       "      <td>56.0</td>\n",
       "    </tr>\n",
       "    <tr>\n",
       "      <th>10</th>\n",
       "      <td>Luli Bebe Petit Monaco Diaper Backpack Ebony B...</td>\n",
       "      <td>100.0</td>\n",
       "    </tr>\n",
       "    <tr>\n",
       "      <th>11</th>\n",
       "      <td>Michael Kors Large Travel Continental Wallet W...</td>\n",
       "      <td>105.0</td>\n",
       "    </tr>\n",
       "    <tr>\n",
       "      <th>12</th>\n",
       "      <td>Urban Fit by Urban Expressions Quilted Puffer ...</td>\n",
       "      <td>93.0</td>\n",
       "    </tr>\n",
       "    <tr>\n",
       "      <th>13</th>\n",
       "      <td>Wandler Anna Belt Bag in Spicy Orange</td>\n",
       "      <td>250.0</td>\n",
       "    </tr>\n",
       "    <tr>\n",
       "      <th>14</th>\n",
       "      <td>ALO Yoga Explorer Fanny Pack - Adjustable Wais...</td>\n",
       "      <td>52.0</td>\n",
       "    </tr>\n",
       "    <tr>\n",
       "      <th>15</th>\n",
       "      <td>NWT Dodo Bar Or Lili Bag 100% Cotton Tote Purs...</td>\n",
       "      <td>225.0</td>\n",
       "    </tr>\n",
       "    <tr>\n",
       "      <th>16</th>\n",
       "      <td>Juicy Couture Tan and Cream Mini Barrel Should...</td>\n",
       "      <td>30.0</td>\n",
       "    </tr>\n",
       "    <tr>\n",
       "      <th>17</th>\n",
       "      <td>Lucy Leopard Small L\\nZip Wristlet net\\n      ...</td>\n",
       "      <td>65.0</td>\n",
       "    </tr>\n",
       "    <tr>\n",
       "      <th>18</th>\n",
       "      <td>Tumi Ballistic Nylon leather\\nBriefcase long a...</td>\n",
       "      <td>80.0</td>\n",
       "    </tr>\n",
       "    <tr>\n",
       "      <th>19</th>\n",
       "      <td>Elegant Loeffler Randall Light Pink Leather Sh...</td>\n",
       "      <td>79.0</td>\n",
       "    </tr>\n",
       "    <tr>\n",
       "      <th>20</th>\n",
       "      <td>Prada Milano large white shopping bag</td>\n",
       "      <td>25.0</td>\n",
       "    </tr>\n",
       "    <tr>\n",
       "      <th>21</th>\n",
       "      <td>⭐🔥AUTHENTIC🔥⭐Louis Vuitton Looping GM</td>\n",
       "      <td>1325.0</td>\n",
       "    </tr>\n",
       "    <tr>\n",
       "      <th>22</th>\n",
       "      <td>🆕 HOST PICK 💕 Burberry Beauty Cosmetic Case to...</td>\n",
       "      <td>188.0</td>\n",
       "    </tr>\n",
       "    <tr>\n",
       "      <th>23</th>\n",
       "      <td>Fendi Vitello Elite Calfskin Toujour Continent...</td>\n",
       "      <td>142.0</td>\n",
       "    </tr>\n",
       "    <tr>\n",
       "      <th>24</th>\n",
       "      <td>NEW Pastel Wallet with Key and Bow Design\\n   ...</td>\n",
       "      <td>18.0</td>\n",
       "    </tr>\n",
       "    <tr>\n",
       "      <th>25</th>\n",
       "      <td>Burberry Shoulder Bag with Certificate of Auth...</td>\n",
       "      <td>250.0</td>\n",
       "    </tr>\n",
       "    <tr>\n",
       "      <th>26</th>\n",
       "      <td>Auth Chloe Marcie Gray Beige Leather Handbag</td>\n",
       "      <td>550.0</td>\n",
       "    </tr>\n",
       "    <tr>\n",
       "      <th>27</th>\n",
       "      <td>The White Eagle | The Sheppard King | Rose Gol...</td>\n",
       "      <td>12.0</td>\n",
       "    </tr>\n",
       "    <tr>\n",
       "      <th>28</th>\n",
       "      <td>Michael Kors black leather wallet</td>\n",
       "      <td>45.0</td>\n",
       "    </tr>\n",
       "    <tr>\n",
       "      <th>29</th>\n",
       "      <td>New Tory Burch Emerson top handle crossbody so...</td>\n",
       "      <td>199.0</td>\n",
       "    </tr>\n",
       "    <tr>\n",
       "      <th>30</th>\n",
       "      <td>Lauren Ralph‎ Lauren Brown Leather Belt SizeM....</td>\n",
       "      <td>70.0</td>\n",
       "    </tr>\n",
       "    <tr>\n",
       "      <th>31</th>\n",
       "      <td>Samantha Thavasa Deluxe Beige Faux Fur &amp; Leath...</td>\n",
       "      <td>299.0</td>\n",
       "    </tr>\n",
       "    <tr>\n",
       "      <th>32</th>\n",
       "      <td>Frankie &amp; Johnnie Crochet Woven Shoulder Bag</td>\n",
       "      <td>18.0</td>\n",
       "    </tr>\n",
       "    <tr>\n",
       "      <th>33</th>\n",
       "      <td>NWT Cozy Earth White Bag 100% Bamboo Viscose S...</td>\n",
       "      <td>18.0</td>\n",
       "    </tr>\n",
       "    <tr>\n",
       "      <th>34</th>\n",
       "      <td>the sak black leather shoulder bag</td>\n",
       "      <td>30.0</td>\n",
       "    </tr>\n",
       "    <tr>\n",
       "      <th>35</th>\n",
       "      <td>Jansport Shoulder Sling Hot Pink 2-Toned Full ...</td>\n",
       "      <td>30.0</td>\n",
       "    </tr>\n",
       "    <tr>\n",
       "      <th>36</th>\n",
       "      <td>Vintage Gunne Sax Jessica McClintock Clutch Ev...</td>\n",
       "      <td>20.0</td>\n",
       "    </tr>\n",
       "    <tr>\n",
       "      <th>37</th>\n",
       "      <td>NWT Lululemon All Night Bag 5L - Black\\n      ...</td>\n",
       "      <td>56.0</td>\n",
       "    </tr>\n",
       "    <tr>\n",
       "      <th>38</th>\n",
       "      <td>Hermes dust bag</td>\n",
       "      <td>30.0</td>\n",
       "    </tr>\n",
       "    <tr>\n",
       "      <th>39</th>\n",
       "      <td>HOBO Vida Large Wristlet Leather Holiday Strip...</td>\n",
       "      <td>63.0</td>\n",
       "    </tr>\n",
       "    <tr>\n",
       "      <th>40</th>\n",
       "      <td>Nanette Lepore Pink Cosmetic Bag Set with Quil...</td>\n",
       "      <td>35.0</td>\n",
       "    </tr>\n",
       "    <tr>\n",
       "      <th>41</th>\n",
       "      <td>LOUIS VUITTON Monogram Canvas Etoile GM Should...</td>\n",
       "      <td>2650.0</td>\n",
       "    </tr>\n",
       "    <tr>\n",
       "      <th>42</th>\n",
       "      <td>🆕️Geometric Pattern Adjustable Bag Strap Black...</td>\n",
       "      <td>15.0</td>\n",
       "    </tr>\n",
       "    <tr>\n",
       "      <th>43</th>\n",
       "      <td>FENDI Selleria Leather Peekaboo Long Wallet  -...</td>\n",
       "      <td>199.0</td>\n",
       "    </tr>\n",
       "    <tr>\n",
       "      <th>44</th>\n",
       "      <td>Kate Spade Hayden Cedar Street Red Leather Sat...</td>\n",
       "      <td>119.0</td>\n",
       "    </tr>\n",
       "    <tr>\n",
       "      <th>45</th>\n",
       "      <td>Cream and Gold Quilted Clutch with Chain Strap</td>\n",
       "      <td>24.0</td>\n",
       "    </tr>\n",
       "    <tr>\n",
       "      <th>46</th>\n",
       "      <td>GUCCI HYSTERIA ( 2003) collection WALLET- vintage</td>\n",
       "      <td>145.0</td>\n",
       "    </tr>\n",
       "    <tr>\n",
       "      <th>47</th>\n",
       "      <td>Fossil Snap Close Reddish Brown Crocodile Prin...</td>\n",
       "      <td>24.0</td>\n",
       "    </tr>\n",
       "  </tbody>\n",
       "</table>\n",
       "</div>"
      ],
      "text/plain": [
       "                                              listing   price\n",
       "0   Black Wristlet and Wallet lot4 pieces total ch...    25.0\n",
       "1   Lilly Pulitzer Estée Lauder Lemon Tropical Can...    35.0\n",
       "2   Gucci Beige/Brown GG Canvas and Leather Web Co...   175.0\n",
       "3   Vintage Black Christian Dior Crossbody/Shoulde...   558.0\n",
       "4                            Lululemon Green Tote Bag    10.0\n",
       "5             Mytagalongs Velour Fanny Pack Waist Bag    20.0\n",
       "6   Vintage Roses on Satin Classic Taupe Mini Hand...    75.0\n",
       "7                            NWOT An Reich Teal Pouch     7.0\n",
       "8                  Michael Kors Eva medium tote - EUC    69.0\n",
       "9        🧩Lululemon All Night Festival Bag 5L - Black    56.0\n",
       "10  Luli Bebe Petit Monaco Diaper Backpack Ebony B...   100.0\n",
       "11  Michael Kors Large Travel Continental Wallet W...   105.0\n",
       "12  Urban Fit by Urban Expressions Quilted Puffer ...    93.0\n",
       "13              Wandler Anna Belt Bag in Spicy Orange   250.0\n",
       "14  ALO Yoga Explorer Fanny Pack - Adjustable Wais...    52.0\n",
       "15  NWT Dodo Bar Or Lili Bag 100% Cotton Tote Purs...   225.0\n",
       "16  Juicy Couture Tan and Cream Mini Barrel Should...    30.0\n",
       "17  Lucy Leopard Small L\\nZip Wristlet net\\n      ...    65.0\n",
       "18  Tumi Ballistic Nylon leather\\nBriefcase long a...    80.0\n",
       "19  Elegant Loeffler Randall Light Pink Leather Sh...    79.0\n",
       "20              Prada Milano large white shopping bag    25.0\n",
       "21              ⭐🔥AUTHENTIC🔥⭐Louis Vuitton Looping GM  1325.0\n",
       "22  🆕 HOST PICK 💕 Burberry Beauty Cosmetic Case to...   188.0\n",
       "23  Fendi Vitello Elite Calfskin Toujour Continent...   142.0\n",
       "24  NEW Pastel Wallet with Key and Bow Design\\n   ...    18.0\n",
       "25  Burberry Shoulder Bag with Certificate of Auth...   250.0\n",
       "26       Auth Chloe Marcie Gray Beige Leather Handbag   550.0\n",
       "27  The White Eagle | The Sheppard King | Rose Gol...    12.0\n",
       "28                  Michael Kors black leather wallet    45.0\n",
       "29  New Tory Burch Emerson top handle crossbody so...   199.0\n",
       "30  Lauren Ralph‎ Lauren Brown Leather Belt SizeM....    70.0\n",
       "31  Samantha Thavasa Deluxe Beige Faux Fur & Leath...   299.0\n",
       "32       Frankie & Johnnie Crochet Woven Shoulder Bag    18.0\n",
       "33  NWT Cozy Earth White Bag 100% Bamboo Viscose S...    18.0\n",
       "34                 the sak black leather shoulder bag    30.0\n",
       "35  Jansport Shoulder Sling Hot Pink 2-Toned Full ...    30.0\n",
       "36  Vintage Gunne Sax Jessica McClintock Clutch Ev...    20.0\n",
       "37  NWT Lululemon All Night Bag 5L - Black\\n      ...    56.0\n",
       "38                                    Hermes dust bag    30.0\n",
       "39  HOBO Vida Large Wristlet Leather Holiday Strip...    63.0\n",
       "40  Nanette Lepore Pink Cosmetic Bag Set with Quil...    35.0\n",
       "41  LOUIS VUITTON Monogram Canvas Etoile GM Should...  2650.0\n",
       "42  🆕️Geometric Pattern Adjustable Bag Strap Black...    15.0\n",
       "43  FENDI Selleria Leather Peekaboo Long Wallet  -...   199.0\n",
       "44  Kate Spade Hayden Cedar Street Red Leather Sat...   119.0\n",
       "45     Cream and Gold Quilted Clutch with Chain Strap    24.0\n",
       "46  GUCCI HYSTERIA ( 2003) collection WALLET- vintage   145.0\n",
       "47  Fossil Snap Close Reddish Brown Crocodile Prin...    24.0"
      ]
     },
     "execution_count": 65,
     "metadata": {},
     "output_type": "execute_result"
    }
   ],
   "source": [
    "import pandas as pd\n",
    "\n",
    "data = pd.DataFrame(data, columns = ['listing', 'price'])\n",
    "\n",
    "data"
   ]
  },
  {
   "cell_type": "markdown",
   "id": "514c268d-046b-4c6b-ae51-61f161c88313",
   "metadata": {},
   "source": [
    "## Scraping many pages\n",
    "\n",
    "Now that we have established a pattern of code that is able to collect the information we desire, it is time to make sure that we can collect the same information from each page of search results. It is typically insufficient to collect only one page of search results, so we want to be able to follow the links in our search from page to page in order to continue collecting data.\n",
    "\n",
    "Ideally, we can inspect the button that navigates from one page to the next. We find that the element is an `button` tag, with the following text:\n",
    "\n",
    "```python\n",
    "\"\"\"\n",
    "\n",
    "    Next\n",
    "  \"\"\"\n",
    "```\n",
    "\n",
    "Using the `find` method, we can can then extract the `href` parameter from the `a` tag representing the link that takes us to the next page:"
   ]
  },
  {
   "cell_type": "code",
   "execution_count": 66,
   "id": "e5ec1bf8-6d26-417d-8e07-36888e27c587",
   "metadata": {},
   "outputs": [
    {
     "data": {
      "text/plain": [
       "<button class=\"btn btn--pagination\">\n",
       "    Next\n",
       "  </button>"
      ]
     },
     "execution_count": 66,
     "metadata": {},
     "output_type": "execute_result"
    }
   ],
   "source": [
    "nextPage = parsed.find('button', string=\"\"\"\n",
    "    Next\n",
    "  \"\"\")\n",
    "\n",
    "nextPage"
   ]
  },
  {
   "cell_type": "markdown",
   "id": "923ebf1e-9e0c-4d6f-ac28-d3231c15abad",
   "metadata": {},
   "source": [
    "Tragically, this page seems to use javascript to \"turn the page\". We can tell because this tag contains no information aside from the text, but when we click it we go to the next page. This means that we will need advance manually, and just figure out the pattern of next pages so that we can describe the urls to our scraper. Given that we get 48 results per page, let's just go for ten pages of results, or just under 500 listings."
   ]
  },
  {
   "cell_type": "markdown",
   "id": "ba505062-ac81-46c9-8b43-3019f26ef246",
   "metadata": {},
   "source": [
    "    'https://poshmark.com/category/Women-Bags?max_id=2'\n",
    "\n",
    "\n",
    "\n",
    "Above is the link that I see when I click the \"Next\" button. This link certainly looks like it will take us to the next page of results! Even better, it looks like there is an obvious way for us to advance by simply changing the number in the URL. We will soon find out. Below is the code that we have collected so far, applied to the second page of results."
   ]
  },
  {
   "cell_type": "code",
   "execution_count": 67,
   "id": "75b792aa-4329-4be7-855f-031538780d2e",
   "metadata": {},
   "outputs": [
    {
     "data": {
      "text/html": [
       "<div>\n",
       "<style scoped>\n",
       "    .dataframe tbody tr th:only-of-type {\n",
       "        vertical-align: middle;\n",
       "    }\n",
       "\n",
       "    .dataframe tbody tr th {\n",
       "        vertical-align: top;\n",
       "    }\n",
       "\n",
       "    .dataframe thead th {\n",
       "        text-align: right;\n",
       "    }\n",
       "</style>\n",
       "<table border=\"1\" class=\"dataframe\">\n",
       "  <thead>\n",
       "    <tr style=\"text-align: right;\">\n",
       "      <th></th>\n",
       "      <th>listing</th>\n",
       "      <th>price</th>\n",
       "    </tr>\n",
       "  </thead>\n",
       "  <tbody>\n",
       "    <tr>\n",
       "      <th>0</th>\n",
       "      <td>Black Wristlet and Wallet lot4 pieces total ch...</td>\n",
       "      <td>25.0</td>\n",
       "    </tr>\n",
       "    <tr>\n",
       "      <th>1</th>\n",
       "      <td>Lilly Pulitzer Estée Lauder Lemon Tropical Can...</td>\n",
       "      <td>35.0</td>\n",
       "    </tr>\n",
       "    <tr>\n",
       "      <th>2</th>\n",
       "      <td>Gucci Beige/Brown GG Canvas and Leather Web Co...</td>\n",
       "      <td>175.0</td>\n",
       "    </tr>\n",
       "    <tr>\n",
       "      <th>3</th>\n",
       "      <td>Vintage Black Christian Dior Crossbody/Shoulde...</td>\n",
       "      <td>558.0</td>\n",
       "    </tr>\n",
       "    <tr>\n",
       "      <th>4</th>\n",
       "      <td>Lululemon Green Tote Bag</td>\n",
       "      <td>10.0</td>\n",
       "    </tr>\n",
       "    <tr>\n",
       "      <th>5</th>\n",
       "      <td>Mytagalongs Velour Fanny Pack Waist Bag</td>\n",
       "      <td>20.0</td>\n",
       "    </tr>\n",
       "    <tr>\n",
       "      <th>6</th>\n",
       "      <td>Vintage Roses on Satin Classic Taupe Mini Hand...</td>\n",
       "      <td>75.0</td>\n",
       "    </tr>\n",
       "    <tr>\n",
       "      <th>7</th>\n",
       "      <td>NWOT An Reich Teal Pouch</td>\n",
       "      <td>7.0</td>\n",
       "    </tr>\n",
       "    <tr>\n",
       "      <th>8</th>\n",
       "      <td>Michael Kors Eva medium tote - EUC</td>\n",
       "      <td>69.0</td>\n",
       "    </tr>\n",
       "    <tr>\n",
       "      <th>9</th>\n",
       "      <td>🧩Lululemon All Night Festival Bag 5L - Black</td>\n",
       "      <td>56.0</td>\n",
       "    </tr>\n",
       "    <tr>\n",
       "      <th>10</th>\n",
       "      <td>Luli Bebe Petit Monaco Diaper Backpack Ebony B...</td>\n",
       "      <td>100.0</td>\n",
       "    </tr>\n",
       "    <tr>\n",
       "      <th>11</th>\n",
       "      <td>Michael Kors Large Travel Continental Wallet W...</td>\n",
       "      <td>105.0</td>\n",
       "    </tr>\n",
       "    <tr>\n",
       "      <th>12</th>\n",
       "      <td>Urban Fit by Urban Expressions Quilted Puffer ...</td>\n",
       "      <td>93.0</td>\n",
       "    </tr>\n",
       "    <tr>\n",
       "      <th>13</th>\n",
       "      <td>Wandler Anna Belt Bag in Spicy Orange</td>\n",
       "      <td>250.0</td>\n",
       "    </tr>\n",
       "    <tr>\n",
       "      <th>14</th>\n",
       "      <td>ALO Yoga Explorer Fanny Pack - Adjustable Wais...</td>\n",
       "      <td>52.0</td>\n",
       "    </tr>\n",
       "    <tr>\n",
       "      <th>15</th>\n",
       "      <td>NWT Dodo Bar Or Lili Bag 100% Cotton Tote Purs...</td>\n",
       "      <td>225.0</td>\n",
       "    </tr>\n",
       "    <tr>\n",
       "      <th>16</th>\n",
       "      <td>Juicy Couture Tan and Cream Mini Barrel Should...</td>\n",
       "      <td>30.0</td>\n",
       "    </tr>\n",
       "    <tr>\n",
       "      <th>17</th>\n",
       "      <td>Lucy Leopard Small L\\nZip Wristlet net\\n      ...</td>\n",
       "      <td>65.0</td>\n",
       "    </tr>\n",
       "    <tr>\n",
       "      <th>18</th>\n",
       "      <td>Tumi Ballistic Nylon leather\\nBriefcase long a...</td>\n",
       "      <td>80.0</td>\n",
       "    </tr>\n",
       "    <tr>\n",
       "      <th>19</th>\n",
       "      <td>Elegant Loeffler Randall Light Pink Leather Sh...</td>\n",
       "      <td>79.0</td>\n",
       "    </tr>\n",
       "    <tr>\n",
       "      <th>20</th>\n",
       "      <td>Prada Milano large white shopping bag</td>\n",
       "      <td>25.0</td>\n",
       "    </tr>\n",
       "    <tr>\n",
       "      <th>21</th>\n",
       "      <td>⭐🔥AUTHENTIC🔥⭐Louis Vuitton Looping GM</td>\n",
       "      <td>1325.0</td>\n",
       "    </tr>\n",
       "    <tr>\n",
       "      <th>22</th>\n",
       "      <td>🆕 HOST PICK 💕 Burberry Beauty Cosmetic Case to...</td>\n",
       "      <td>188.0</td>\n",
       "    </tr>\n",
       "    <tr>\n",
       "      <th>23</th>\n",
       "      <td>Fendi Vitello Elite Calfskin Toujour Continent...</td>\n",
       "      <td>142.0</td>\n",
       "    </tr>\n",
       "    <tr>\n",
       "      <th>24</th>\n",
       "      <td>NEW Pastel Wallet with Key and Bow Design\\n   ...</td>\n",
       "      <td>18.0</td>\n",
       "    </tr>\n",
       "    <tr>\n",
       "      <th>25</th>\n",
       "      <td>Burberry Shoulder Bag with Certificate of Auth...</td>\n",
       "      <td>250.0</td>\n",
       "    </tr>\n",
       "    <tr>\n",
       "      <th>26</th>\n",
       "      <td>Auth Chloe Marcie Gray Beige Leather Handbag</td>\n",
       "      <td>550.0</td>\n",
       "    </tr>\n",
       "    <tr>\n",
       "      <th>27</th>\n",
       "      <td>The White Eagle | The Sheppard King | Rose Gol...</td>\n",
       "      <td>12.0</td>\n",
       "    </tr>\n",
       "    <tr>\n",
       "      <th>28</th>\n",
       "      <td>Michael Kors black leather wallet</td>\n",
       "      <td>45.0</td>\n",
       "    </tr>\n",
       "    <tr>\n",
       "      <th>29</th>\n",
       "      <td>New Tory Burch Emerson top handle crossbody so...</td>\n",
       "      <td>199.0</td>\n",
       "    </tr>\n",
       "    <tr>\n",
       "      <th>30</th>\n",
       "      <td>Lauren Ralph‎ Lauren Brown Leather Belt SizeM....</td>\n",
       "      <td>70.0</td>\n",
       "    </tr>\n",
       "    <tr>\n",
       "      <th>31</th>\n",
       "      <td>Samantha Thavasa Deluxe Beige Faux Fur &amp; Leath...</td>\n",
       "      <td>299.0</td>\n",
       "    </tr>\n",
       "    <tr>\n",
       "      <th>32</th>\n",
       "      <td>Frankie &amp; Johnnie Crochet Woven Shoulder Bag</td>\n",
       "      <td>18.0</td>\n",
       "    </tr>\n",
       "    <tr>\n",
       "      <th>33</th>\n",
       "      <td>NWT Cozy Earth White Bag 100% Bamboo Viscose S...</td>\n",
       "      <td>18.0</td>\n",
       "    </tr>\n",
       "    <tr>\n",
       "      <th>34</th>\n",
       "      <td>the sak black leather shoulder bag</td>\n",
       "      <td>30.0</td>\n",
       "    </tr>\n",
       "    <tr>\n",
       "      <th>35</th>\n",
       "      <td>Jansport Shoulder Sling Hot Pink 2-Toned Full ...</td>\n",
       "      <td>30.0</td>\n",
       "    </tr>\n",
       "    <tr>\n",
       "      <th>36</th>\n",
       "      <td>Vintage Gunne Sax Jessica McClintock Clutch Ev...</td>\n",
       "      <td>20.0</td>\n",
       "    </tr>\n",
       "    <tr>\n",
       "      <th>37</th>\n",
       "      <td>NWT Lululemon All Night Bag 5L - Black\\n      ...</td>\n",
       "      <td>56.0</td>\n",
       "    </tr>\n",
       "    <tr>\n",
       "      <th>38</th>\n",
       "      <td>Hermes dust bag</td>\n",
       "      <td>30.0</td>\n",
       "    </tr>\n",
       "    <tr>\n",
       "      <th>39</th>\n",
       "      <td>HOBO Vida Large Wristlet Leather Holiday Strip...</td>\n",
       "      <td>63.0</td>\n",
       "    </tr>\n",
       "    <tr>\n",
       "      <th>40</th>\n",
       "      <td>Nanette Lepore Pink Cosmetic Bag Set with Quil...</td>\n",
       "      <td>35.0</td>\n",
       "    </tr>\n",
       "    <tr>\n",
       "      <th>41</th>\n",
       "      <td>LOUIS VUITTON Monogram Canvas Etoile GM Should...</td>\n",
       "      <td>2650.0</td>\n",
       "    </tr>\n",
       "    <tr>\n",
       "      <th>42</th>\n",
       "      <td>🆕️Geometric Pattern Adjustable Bag Strap Black...</td>\n",
       "      <td>15.0</td>\n",
       "    </tr>\n",
       "    <tr>\n",
       "      <th>43</th>\n",
       "      <td>FENDI Selleria Leather Peekaboo Long Wallet  -...</td>\n",
       "      <td>199.0</td>\n",
       "    </tr>\n",
       "    <tr>\n",
       "      <th>44</th>\n",
       "      <td>Kate Spade Hayden Cedar Street Red Leather Sat...</td>\n",
       "      <td>119.0</td>\n",
       "    </tr>\n",
       "    <tr>\n",
       "      <th>45</th>\n",
       "      <td>Cream and Gold Quilted Clutch with Chain Strap</td>\n",
       "      <td>24.0</td>\n",
       "    </tr>\n",
       "    <tr>\n",
       "      <th>46</th>\n",
       "      <td>GUCCI HYSTERIA ( 2003) collection WALLET- vintage</td>\n",
       "      <td>145.0</td>\n",
       "    </tr>\n",
       "    <tr>\n",
       "      <th>47</th>\n",
       "      <td>Fossil Snap Close Reddish Brown Crocodile Prin...</td>\n",
       "      <td>24.0</td>\n",
       "    </tr>\n",
       "  </tbody>\n",
       "</table>\n",
       "</div>"
      ],
      "text/plain": [
       "                                              listing   price\n",
       "0   Black Wristlet and Wallet lot4 pieces total ch...    25.0\n",
       "1   Lilly Pulitzer Estée Lauder Lemon Tropical Can...    35.0\n",
       "2   Gucci Beige/Brown GG Canvas and Leather Web Co...   175.0\n",
       "3   Vintage Black Christian Dior Crossbody/Shoulde...   558.0\n",
       "4                            Lululemon Green Tote Bag    10.0\n",
       "5             Mytagalongs Velour Fanny Pack Waist Bag    20.0\n",
       "6   Vintage Roses on Satin Classic Taupe Mini Hand...    75.0\n",
       "7                            NWOT An Reich Teal Pouch     7.0\n",
       "8                  Michael Kors Eva medium tote - EUC    69.0\n",
       "9        🧩Lululemon All Night Festival Bag 5L - Black    56.0\n",
       "10  Luli Bebe Petit Monaco Diaper Backpack Ebony B...   100.0\n",
       "11  Michael Kors Large Travel Continental Wallet W...   105.0\n",
       "12  Urban Fit by Urban Expressions Quilted Puffer ...    93.0\n",
       "13              Wandler Anna Belt Bag in Spicy Orange   250.0\n",
       "14  ALO Yoga Explorer Fanny Pack - Adjustable Wais...    52.0\n",
       "15  NWT Dodo Bar Or Lili Bag 100% Cotton Tote Purs...   225.0\n",
       "16  Juicy Couture Tan and Cream Mini Barrel Should...    30.0\n",
       "17  Lucy Leopard Small L\\nZip Wristlet net\\n      ...    65.0\n",
       "18  Tumi Ballistic Nylon leather\\nBriefcase long a...    80.0\n",
       "19  Elegant Loeffler Randall Light Pink Leather Sh...    79.0\n",
       "20              Prada Milano large white shopping bag    25.0\n",
       "21              ⭐🔥AUTHENTIC🔥⭐Louis Vuitton Looping GM  1325.0\n",
       "22  🆕 HOST PICK 💕 Burberry Beauty Cosmetic Case to...   188.0\n",
       "23  Fendi Vitello Elite Calfskin Toujour Continent...   142.0\n",
       "24  NEW Pastel Wallet with Key and Bow Design\\n   ...    18.0\n",
       "25  Burberry Shoulder Bag with Certificate of Auth...   250.0\n",
       "26       Auth Chloe Marcie Gray Beige Leather Handbag   550.0\n",
       "27  The White Eagle | The Sheppard King | Rose Gol...    12.0\n",
       "28                  Michael Kors black leather wallet    45.0\n",
       "29  New Tory Burch Emerson top handle crossbody so...   199.0\n",
       "30  Lauren Ralph‎ Lauren Brown Leather Belt SizeM....    70.0\n",
       "31  Samantha Thavasa Deluxe Beige Faux Fur & Leath...   299.0\n",
       "32       Frankie & Johnnie Crochet Woven Shoulder Bag    18.0\n",
       "33  NWT Cozy Earth White Bag 100% Bamboo Viscose S...    18.0\n",
       "34                 the sak black leather shoulder bag    30.0\n",
       "35  Jansport Shoulder Sling Hot Pink 2-Toned Full ...    30.0\n",
       "36  Vintage Gunne Sax Jessica McClintock Clutch Ev...    20.0\n",
       "37  NWT Lululemon All Night Bag 5L - Black\\n      ...    56.0\n",
       "38                                    Hermes dust bag    30.0\n",
       "39  HOBO Vida Large Wristlet Leather Holiday Strip...    63.0\n",
       "40  Nanette Lepore Pink Cosmetic Bag Set with Quil...    35.0\n",
       "41  LOUIS VUITTON Monogram Canvas Etoile GM Should...  2650.0\n",
       "42  🆕️Geometric Pattern Adjustable Bag Strap Black...    15.0\n",
       "43  FENDI Selleria Leather Peekaboo Long Wallet  -...   199.0\n",
       "44  Kate Spade Hayden Cedar Street Red Leather Sat...   119.0\n",
       "45     Cream and Gold Quilted Clutch with Chain Strap    24.0\n",
       "46  GUCCI HYSTERIA ( 2003) collection WALLET- vintage   145.0\n",
       "47  Fossil Snap Close Reddish Brown Crocodile Prin...    24.0"
      ]
     },
     "execution_count": 67,
     "metadata": {},
     "output_type": "execute_result"
    }
   ],
   "source": [
    "nextPage = \"https://poshmark.com/category/Women-Bags?max_id=2\"\n",
    "\n",
    "myPage = requests.get(nextPage)\n",
    "\n",
    "parsed = BeautifulSoup(myPage.text)\n",
    "listings = [i for i in soup.find_all('div', class_=\"card--small\")]\n",
    "\n",
    "newData = []\n",
    "\n",
    "for tile in listings:\n",
    "    row = []\n",
    "    try:\n",
    "        row.append(tile.find('div', class_=\"title__condition__container\").text.strip())\n",
    "    except:\n",
    "        row.append('')\n",
    "    try:\n",
    "        row.append(\n",
    "            float(\n",
    "                re.search(r'(?:[$])(\\d{1,3}(?:,\\d{3})?)', \n",
    "                      tile.find('div', class_=\"m--t--1\").text).groups()[0].replace(\",\",\"\")\n",
    "            )\n",
    "        )\n",
    "    except:\n",
    "        row.append(np.nan)\n",
    "    newData.append(row)\n",
    "\n",
    "newData = pd.DataFrame(newData, columns = ['listing', 'price'])\n",
    "\n",
    "newData"
   ]
  },
  {
   "cell_type": "markdown",
   "id": "9861b9d4-9de6-47a2-8c13-a02c8b2ce0c4",
   "metadata": {},
   "source": [
    "Additionally, we can concatenate our Data Frames so that we have a single Data Frame containing all of the results from our scrape. After we concatenate our data, it is good practice to reset the index using the `.reset_index()` method. This will overwrite the index of the Data Frame so that it does not have any repeat values. Be sure to include the argument `drop=True`, so that the old index isn't added back into your Data Frame."
   ]
  },
  {
   "cell_type": "code",
   "execution_count": 68,
   "id": "550fcfbd-0c9a-4895-9fb9-f1e31c926299",
   "metadata": {},
   "outputs": [
    {
     "data": {
      "text/html": [
       "<div>\n",
       "<style scoped>\n",
       "    .dataframe tbody tr th:only-of-type {\n",
       "        vertical-align: middle;\n",
       "    }\n",
       "\n",
       "    .dataframe tbody tr th {\n",
       "        vertical-align: top;\n",
       "    }\n",
       "\n",
       "    .dataframe thead th {\n",
       "        text-align: right;\n",
       "    }\n",
       "</style>\n",
       "<table border=\"1\" class=\"dataframe\">\n",
       "  <thead>\n",
       "    <tr style=\"text-align: right;\">\n",
       "      <th></th>\n",
       "      <th>listing</th>\n",
       "      <th>price</th>\n",
       "    </tr>\n",
       "  </thead>\n",
       "  <tbody>\n",
       "    <tr>\n",
       "      <th>0</th>\n",
       "      <td>Black Wristlet and Wallet lot4 pieces total ch...</td>\n",
       "      <td>25.0</td>\n",
       "    </tr>\n",
       "    <tr>\n",
       "      <th>1</th>\n",
       "      <td>Lilly Pulitzer Estée Lauder Lemon Tropical Can...</td>\n",
       "      <td>35.0</td>\n",
       "    </tr>\n",
       "    <tr>\n",
       "      <th>2</th>\n",
       "      <td>Gucci Beige/Brown GG Canvas and Leather Web Co...</td>\n",
       "      <td>175.0</td>\n",
       "    </tr>\n",
       "    <tr>\n",
       "      <th>3</th>\n",
       "      <td>Vintage Black Christian Dior Crossbody/Shoulde...</td>\n",
       "      <td>558.0</td>\n",
       "    </tr>\n",
       "    <tr>\n",
       "      <th>4</th>\n",
       "      <td>Lululemon Green Tote Bag</td>\n",
       "      <td>10.0</td>\n",
       "    </tr>\n",
       "    <tr>\n",
       "      <th>...</th>\n",
       "      <td>...</td>\n",
       "      <td>...</td>\n",
       "    </tr>\n",
       "    <tr>\n",
       "      <th>91</th>\n",
       "      <td>FENDI Selleria Leather Peekaboo Long Wallet  -...</td>\n",
       "      <td>199.0</td>\n",
       "    </tr>\n",
       "    <tr>\n",
       "      <th>92</th>\n",
       "      <td>Kate Spade Hayden Cedar Street Red Leather Sat...</td>\n",
       "      <td>119.0</td>\n",
       "    </tr>\n",
       "    <tr>\n",
       "      <th>93</th>\n",
       "      <td>Cream and Gold Quilted Clutch with Chain Strap</td>\n",
       "      <td>24.0</td>\n",
       "    </tr>\n",
       "    <tr>\n",
       "      <th>94</th>\n",
       "      <td>GUCCI HYSTERIA ( 2003) collection WALLET- vintage</td>\n",
       "      <td>145.0</td>\n",
       "    </tr>\n",
       "    <tr>\n",
       "      <th>95</th>\n",
       "      <td>Fossil Snap Close Reddish Brown Crocodile Prin...</td>\n",
       "      <td>24.0</td>\n",
       "    </tr>\n",
       "  </tbody>\n",
       "</table>\n",
       "<p>96 rows × 2 columns</p>\n",
       "</div>"
      ],
      "text/plain": [
       "                                              listing  price\n",
       "0   Black Wristlet and Wallet lot4 pieces total ch...   25.0\n",
       "1   Lilly Pulitzer Estée Lauder Lemon Tropical Can...   35.0\n",
       "2   Gucci Beige/Brown GG Canvas and Leather Web Co...  175.0\n",
       "3   Vintage Black Christian Dior Crossbody/Shoulde...  558.0\n",
       "4                            Lululemon Green Tote Bag   10.0\n",
       "..                                                ...    ...\n",
       "91  FENDI Selleria Leather Peekaboo Long Wallet  -...  199.0\n",
       "92  Kate Spade Hayden Cedar Street Red Leather Sat...  119.0\n",
       "93     Cream and Gold Quilted Clutch with Chain Strap   24.0\n",
       "94  GUCCI HYSTERIA ( 2003) collection WALLET- vintage  145.0\n",
       "95  Fossil Snap Close Reddish Brown Crocodile Prin...   24.0\n",
       "\n",
       "[96 rows x 2 columns]"
      ]
     },
     "execution_count": 68,
     "metadata": {},
     "output_type": "execute_result"
    }
   ],
   "source": [
    "data = pd.concat([data, newData], axis=0).reset_index(drop=True)\n",
    "\n",
    "data"
   ]
  },
  {
   "cell_type": "markdown",
   "id": "0da6c7ae-8cf0-4413-b6ef-c9ebc3d8fe63",
   "metadata": {
    "tags": []
   },
   "source": [
    "## Moving from script to function\n",
    "\n",
    "We talked about functions earlier in the term as an excellent way to make our code more reusable, and to eliminate the need to copy and paste code with the risk of creating more typos and places for code to be updated. Now that we know how to scrape useful information from a website, let's create a function to do the work for us, so that we don't have to copy and paste the code for each subsequent page of search results.\n",
    "\n",
    "In order to make our code into a function, we will have to create a function that takes a starting URL (the URL for our search results), and returns a Data Frame after reading through each page of the search results. We will have to perform some abstraction to make our code work on each page, but the differences are pretty minor:\n",
    "\n",
    "- Use `requests.get()` on the URL passed to the function\n",
    "- Check whether or not a \"next\" page exists\n",
    "    - If there IS a next page, we need to call the function on *that* page, then merge the results\n",
    "    - If there is NOT a next page, we return the existing data as a Data Frame.\n",
    "    \n",
    "Take some time to examine the code below and how each of these changes is made:"
   ]
  },
  {
   "cell_type": "code",
   "execution_count": 73,
   "id": "a969cf5e-18c2-46ef-a7ba-39db111b4a1a",
   "metadata": {},
   "outputs": [],
   "source": [
    "import requests\n",
    "from bs4 import BeautifulSoup\n",
    "import numpy as np\n",
    "import pandas as pd\n",
    "import re\n",
    "import time\n",
    "\n",
    "# A function to collect lego sets from search results on brickset.com\n",
    "def poshmark(startURL, page=None):\n",
    "    # keep track of what page we are on\n",
    "    if page==None:\n",
    "        page = 1\n",
    "    # Add headers to imitate a real browser\n",
    "    headers = {\n",
    "        'User-Agent': 'Mozilla/5.0 (Windows NT 10.0; Win64; x64) AppleWebKit/537.36 (KHTML, like Gecko) Chrome/102.0.0.0 Safari/537.36',\n",
    "        'Accept': 'text/html,application/xhtml+xml,application/xml;q=0.9,image/webp,*/*;q=0.8',\n",
    "        'Referer': 'https://www.google.com/'\n",
    "    }\n",
    "    # Retrieve starting URL\n",
    "    myPage = requests.get(startURL)\n",
    "\n",
    "    # Parse the website with Beautiful Soup\n",
    "    parsed = BeautifulSoup(myPage.text)\n",
    "    \n",
    "    # Grab all sets from the page\n",
    "    listings = [i for i in soup.find_all('div', class_=\"card--small\")]\n",
    "\n",
    "    # Create and empty data set\n",
    "    newData = []\n",
    "\n",
    "    # Iterate over all sets on the page\n",
    "    for tile in listings:\n",
    "        row = []\n",
    "        try:\n",
    "            row.append(tile.find('div', class_=\"title__condition__container\").text.strip())\n",
    "        except:\n",
    "            row.append('')\n",
    "        try:\n",
    "            row.append(\n",
    "                float(\n",
    "                    re.search(r'(?:[$])(\\d{1,3}(?:,\\d{3})?)', \n",
    "                          tile.find('div', class_=\"m--t--1\").text).groups()[0].replace(\",\",\"\")\n",
    "                )\n",
    "            )\n",
    "        except:\n",
    "            row.append(np.nan)\n",
    "        # Add the row of data to the dataset\n",
    "        newData.append(row)\n",
    "\n",
    "    newData = pd.DataFrame(newData, columns = ['listing', 'price'])\n",
    "    \n",
    "    # Until we have processed 5 pages, grab the next page of results\n",
    "    if page<5:\n",
    "        # Tell our program not to load new pages too fast by \"sleeping\" for two seconds before\n",
    "        #   going to the next page\n",
    "        time.sleep(2)\n",
    "        # Merge current data with next page\n",
    "        page += 1\n",
    "        nextPage = f\"https://poshmark.com/category/Women-Bags?max_id={page}\"\n",
    "        print(nextPage)\n",
    "        return pd.concat([newData, poshmark(nextPage, page=page)], axis=0)\n",
    "    # Otherwise return the current data\n",
    "    else:\n",
    "        return newData"
   ]
  },
  {
   "cell_type": "markdown",
   "id": "191925db-86dd-49e5-b40e-dd869aee4453",
   "metadata": {},
   "source": [
    "*Note: We sometimes need to use **headers** (text telling the website what kind of browser we are \"using\") so that we are able to access the website we want to scrape. Mileage will vary by website*\n",
    "(Shoutout to Kiran Best of Aalto University for finding the right header to keep this site working as an example)\n",
    "\n",
    "Observe that we use several `try`-`except` blocks. These code blocks permit us to write code that *might* result in an error. This is the code that is indented beneath the `try` keyword. Then, we write code that should be executed whenever an error *does* occur under the `except` keyword. In this way, we prevent errors from breaking our function, and we can better control the data that is recorded in our Data Frame. Let's run the code now:"
   ]
  },
  {
   "cell_type": "code",
   "execution_count": 74,
   "id": "aca83367-b65b-4fec-b6fd-b5532b5f1efc",
   "metadata": {},
   "outputs": [
    {
     "name": "stdout",
     "output_type": "stream",
     "text": [
      "https://poshmark.com/category/Women-Bags?max_id=2\n",
      "https://poshmark.com/category/Women-Bags?max_id=3\n",
      "https://poshmark.com/category/Women-Bags?max_id=4\n",
      "https://poshmark.com/category/Women-Bags?max_id=5\n"
     ]
    },
    {
     "data": {
      "text/html": [
       "<div>\n",
       "<style scoped>\n",
       "    .dataframe tbody tr th:only-of-type {\n",
       "        vertical-align: middle;\n",
       "    }\n",
       "\n",
       "    .dataframe tbody tr th {\n",
       "        vertical-align: top;\n",
       "    }\n",
       "\n",
       "    .dataframe thead th {\n",
       "        text-align: right;\n",
       "    }\n",
       "</style>\n",
       "<table border=\"1\" class=\"dataframe\">\n",
       "  <thead>\n",
       "    <tr style=\"text-align: right;\">\n",
       "      <th></th>\n",
       "      <th>listing</th>\n",
       "      <th>price</th>\n",
       "    </tr>\n",
       "  </thead>\n",
       "  <tbody>\n",
       "    <tr>\n",
       "      <th>0</th>\n",
       "      <td>Black Wristlet and Wallet lot4 pieces total ch...</td>\n",
       "      <td>25.0</td>\n",
       "    </tr>\n",
       "    <tr>\n",
       "      <th>1</th>\n",
       "      <td>Lilly Pulitzer Estée Lauder Lemon Tropical Can...</td>\n",
       "      <td>35.0</td>\n",
       "    </tr>\n",
       "    <tr>\n",
       "      <th>2</th>\n",
       "      <td>Gucci Beige/Brown GG Canvas and Leather Web Co...</td>\n",
       "      <td>175.0</td>\n",
       "    </tr>\n",
       "    <tr>\n",
       "      <th>3</th>\n",
       "      <td>Vintage Black Christian Dior Crossbody/Shoulde...</td>\n",
       "      <td>558.0</td>\n",
       "    </tr>\n",
       "    <tr>\n",
       "      <th>4</th>\n",
       "      <td>Lululemon Green Tote Bag</td>\n",
       "      <td>10.0</td>\n",
       "    </tr>\n",
       "    <tr>\n",
       "      <th>...</th>\n",
       "      <td>...</td>\n",
       "      <td>...</td>\n",
       "    </tr>\n",
       "    <tr>\n",
       "      <th>43</th>\n",
       "      <td>FENDI Selleria Leather Peekaboo Long Wallet  -...</td>\n",
       "      <td>199.0</td>\n",
       "    </tr>\n",
       "    <tr>\n",
       "      <th>44</th>\n",
       "      <td>Kate Spade Hayden Cedar Street Red Leather Sat...</td>\n",
       "      <td>119.0</td>\n",
       "    </tr>\n",
       "    <tr>\n",
       "      <th>45</th>\n",
       "      <td>Cream and Gold Quilted Clutch with Chain Strap</td>\n",
       "      <td>24.0</td>\n",
       "    </tr>\n",
       "    <tr>\n",
       "      <th>46</th>\n",
       "      <td>GUCCI HYSTERIA ( 2003) collection WALLET- vintage</td>\n",
       "      <td>145.0</td>\n",
       "    </tr>\n",
       "    <tr>\n",
       "      <th>47</th>\n",
       "      <td>Fossil Snap Close Reddish Brown Crocodile Prin...</td>\n",
       "      <td>24.0</td>\n",
       "    </tr>\n",
       "  </tbody>\n",
       "</table>\n",
       "<p>240 rows × 2 columns</p>\n",
       "</div>"
      ],
      "text/plain": [
       "                                              listing  price\n",
       "0   Black Wristlet and Wallet lot4 pieces total ch...   25.0\n",
       "1   Lilly Pulitzer Estée Lauder Lemon Tropical Can...   35.0\n",
       "2   Gucci Beige/Brown GG Canvas and Leather Web Co...  175.0\n",
       "3   Vintage Black Christian Dior Crossbody/Shoulde...  558.0\n",
       "4                            Lululemon Green Tote Bag   10.0\n",
       "..                                                ...    ...\n",
       "43  FENDI Selleria Leather Peekaboo Long Wallet  -...  199.0\n",
       "44  Kate Spade Hayden Cedar Street Red Leather Sat...  119.0\n",
       "45     Cream and Gold Quilted Clutch with Chain Strap   24.0\n",
       "46  GUCCI HYSTERIA ( 2003) collection WALLET- vintage  145.0\n",
       "47  Fossil Snap Close Reddish Brown Crocodile Prin...   24.0\n",
       "\n",
       "[240 rows x 2 columns]"
      ]
     },
     "execution_count": 74,
     "metadata": {},
     "output_type": "execute_result"
    }
   ],
   "source": [
    "bags = poshmark(\"https://poshmark.com/category/Women-Bags\")\n",
    "\n",
    "bags"
   ]
  },
  {
   "cell_type": "code",
   "execution_count": 75,
   "id": "361906c9-a3f4-43b0-b2b6-6a27e9e70787",
   "metadata": {},
   "outputs": [
    {
     "data": {
      "text/plain": [
       "181.41666666666666"
      ]
     },
     "execution_count": 75,
     "metadata": {},
     "output_type": "execute_result"
    }
   ],
   "source": [
    "bags['price'].mean()"
   ]
  },
  {
   "cell_type": "markdown",
   "id": "d528558f-1ddc-49bc-9d45-2c4a920655ec",
   "metadata": {},
   "source": [
    "Based on the data we have collected, the mean price listed bags is about $181.\n",
    "\n",
    "Now, it's your turn to collect data!\n",
    "\n",
    "**Solve it**:\n",
    "\n",
    "Update the code used above to extract the following information regarding Women's Bags from Poshmark (use the starting url [https://poshmark.com/category/Women-Bags](https://poshmark.com/category/Women-Bags)):\n",
    "- Name of the listing\n",
    "- Price of the listing\n",
    "- Number of brand\n",
    "- Number of size of bag\n",
    "\n",
    "When you're done, you should have all of your web scraping code built into a function named `poshmark`. You should then call this function in order to collect information for at least 200 results, starting on the main listing page of the women's bags category [https://poshmark.com/category/Women-Bags](https://poshmark.com/category/Women-Bags). Store your results in a Data Frame called `bags`. The columns should be labeled `listing`, `price`, `brand`, `size`, respectively. You will receive points for the following:\n",
    "\n",
    "- `bags` contains at least 200 entries [1 point]\n",
    "- Column `listing` contains the names for each listing, and should have an \"object\" (string) `dtype` [1 point]\n",
    "- Column `price` contains the prices for each listing, and the column should have a \"float64\" `dtype` (this makes it possible to assign missing prices a value of `np.nan`) [1 point]\n",
    "- Column `brand` contains the brand of the bag, and should have an \"object\" (string) `dtype`. Missing values can either be empty or have some other label indicating that the information was unavailable. [1 point]\n",
    "- Column `size` contains the size category of the bag, and should have an \"object\" (string) `dtype`. Missing values can either be empty or have some other label indicating that the information was unavailable. [1 point]\n",
    "\n",
    "In order to get credit, please print your dataframe at the end of your code execution, so that the table of results renders in your notebook. That way, I can see what you saw at the time you ran the code. This is important since Poshmark listings change so quickly.\n",
    "\n",
    "Please put ALL NECESSARY CODE into the cell below:"
   ]
  },
  {
   "cell_type": "code",
   "execution_count": null,
   "id": "6bd3015f-1757-469e-a54d-21cd3ee5755a",
   "metadata": {},
   "outputs": [],
   "source": [
    "#si-exercise"
   ]
  }
 ],
 "metadata": {
  "kernelspec": {
   "display_name": "Python 3 (ipykernel)",
   "language": "python",
   "name": "python3"
  },
  "language_info": {
   "codemirror_mode": {
    "name": "ipython",
    "version": 3
   },
   "file_extension": ".py",
   "mimetype": "text/x-python",
   "name": "python",
   "nbconvert_exporter": "python",
   "pygments_lexer": "ipython3",
   "version": "3.12.7"
  }
 },
 "nbformat": 4,
 "nbformat_minor": 5
}
