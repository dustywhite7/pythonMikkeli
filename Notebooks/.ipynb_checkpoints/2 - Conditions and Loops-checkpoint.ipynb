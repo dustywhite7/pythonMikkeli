{
 "cells": [
  {
   "cell_type": "markdown",
   "metadata": {
    "state": "normal"
   },
   "source": [
    "# Conditions and Loops"
   ]
  },
  {
   "cell_type": "markdown",
   "metadata": {
    "state": "normal"
   },
   "source": [
    "## Why do I need to know this?\n",
    "\n",
    "Programming, at it's heart, is about being able to reduce the amount of work it takes to accomplish a task. In manufacturing, this would look like building a machine that can accomplish portions of a task with less human effort. By reducing the amount of work that we have to put into a process, we free ourselves up to focus on the tasks that are not so easily accomplished by anyone besides a competent human being (us). \n",
    "\n",
    "Think of a program as really tiny machinery. Your goal is to make a machine (in code) that can accomplish routine tasks for you. When you're done, you get to focus on other important tasks that demand your attention. For example, you might want to spend your time working on a forecast model, but first you need to check to make sure that all values in your time series are valid. You COULD just open up your data, and look at every record to make sure that each fits the rules that valid data should follow. Or you could write a program that can check every line for you, and either alert you to problems, or possibly fix them without you even having to be involved. Then, all of your time is freed for the forecasting model.\n",
    "\n",
    "Last week we talked about some of the types of information that we can store in Python. This week, we will start to learn about the tools that are baked into Python that allow us to begin the process of automation."
   ]
  },
  {
   "cell_type": "markdown",
   "metadata": {
    "state": "normal"
   },
   "source": [
    "## Conditions\n",
    "\n",
    "We have used conditions a few times already, but it is time to talk seriously about conditions and logical statements in Python. If you haven't noticed this yet, you will soon note that Python (and all other programming languages) are VERY literal. Things that we don't intend will occur whenever we assume that a computer will interpret an ambiguous statement in a single anticipated (by humans) way. Eventually, you will get used to being very careful when describing conditions in your code, and these problems will become less of an issue.\n",
    "\n",
    "In Python, we have keywords that we can use to express different kinds of logic. Let's get started by talking about `if` statements. `if` statements function in Python pretty much the same way that they do in English: you state a condition, and then explain what should happen if that condition is met. You can then list alternative outcomes with the conditions that should be met prior to implementing those contingency plans. Finally, you can list what to do in any other outcomes that were not explicity described. Let's try this out:"
   ]
  },
  {
   "cell_type": "code",
   "execution_count": 3,
   "metadata": {
    "state": "normal"
   },
   "outputs": [],
   "source": [
    "x = 150\n",
    "\n",
    "if x > 100:\n",
    "    print(\"Whoa, that's a big one!\")"
   ]
  },
  {
   "cell_type": "markdown",
   "metadata": {
    "state": "normal"
   },
   "source": [
    "When we utilize conditions like the example above, every statement depends on the result of the evaluation of a **logical statement**. In this case, the **logical statement** is `x > 100`. This statement has a result that is a boolean value, as we can see if we ask Python to evaluate it as a standalone statement:"
   ]
  },
  {
   "cell_type": "code",
   "execution_count": 4,
   "metadata": {
    "state": "normal"
   },
   "outputs": [
    {
     "data": {},
     "execution_count": 4,
     "metadata": {},
     "output_type": "execute_result"
    }
   ],
   "source": [
    "x > 100"
   ]
  },
  {
   "cell_type": "markdown",
   "metadata": {
    "state": "normal"
   },
   "source": [
    "When we use `if` statements, we will *always* need logical statements. We can write the logical statement inline, like we just did, or we can evaluate the truth of any prior statement. Let's look at another helpful example of an `if` statement using existing values:"
   ]
  },
  {
   "cell_type": "code",
   "execution_count": 5,
   "metadata": {
    "state": "normal"
   },
   "outputs": [],
   "source": [
    "x = 150\n",
    "y = 200\n",
    "\n",
    "xBigger = x > y\n",
    "xBig = x > 100\n",
    "\n",
    "if xBig & xBigger:\n",
    "    print(\"That is a REALLY big number\")\n",
    "elif xBig:\n",
    "    print(\"x is big, but not THAT big\")\n",
    "else:\n",
    "    print(\"x isn't really that big\")"
   ]
  },
  {
   "cell_type": "markdown",
   "metadata": {
    "state": "normal"
   },
   "source": [
    "Here we take two numbers (`x` and `y`), and use two logical statements (`x > y` and `x > 100`) to evaluate several possible outcomes. First, we check if both conditions are true using the statement `xBig & xBigger`. If both are `True`, then we print the statement assigned to the `if` block.\n",
    "\n",
    "Next, we incorporate the keyword `elif`. `elif` is a keyword that *continues* an `if` statement. It tells Python to evaluate it's truthiness if the condition above it fails. In other words, the `elif` statement is only evaluated in this case when `xBig & xBigger` is `False`. If the `elif` statement is evaluated as `True`, then its assigned print statement is executed and we skip the `else` block that follows.\n",
    "\n",
    "If the `elif` statement is *also* `False`, then we reach the `else` statement, which is automatically executed and prints the final print statement. `else` indicates that the code should associated with it should be run when all previous logical statements in the block are evaluated as `False`. It will not run if *any* of the previous statements evaluate as `True`.\n",
    "\n",
    "When writing logical blocks, we always write our code in the following order: \n",
    "\n",
    "1) Write an `if` statement, and its corresponding code block \n",
    "\n",
    "2) If needed, write as many `elif` statements as needed, along with their corresponding code blocks. **NOTE**: `elif` statements will be evaluated from top to bottom in the code, and once a single `elif` statement is evaluated as `True`, none of the subsequent `elif` statements will be evaluated. Put your `elif` statements in the order that you want them to be prioritized! \n",
    "\n",
    "3) If needed, write an `else` statement that will apply to all events not covered by `if` or `elif` statements"
   ]
  },
  {
   "cell_type": "markdown",
   "metadata": {},
   "source": [
    "**Solve it**: (from *The Python Workbook*)\n",
    "\n",
    "The following table lists the sound level in decibels for several common noises.\n",
    "\n",
    "| Noise | Decibel Level (dB) |\n",
    "|---|---|\n",
    "| Jackhammer | 130 |\n",
    "| Gas Lawnmower | 106 |\n",
    "| Alarm Clock | 70 |\n",
    "| Quiet Room | 40 |\n",
    "\n",
    "\n",
    "In the cell below, write code that reads a sound level in decibels from the user. If the user\n",
    "enters a decibel level that matches one of the noises in the table then your program should display a message containing only that noise. If the user enters a number of decibels between the noises listed then your program should display a message indicating which noises the level is between. Ensure that your program also generates reasonable output for a value smaller than the quietest noise in the table, and for a value larger than the loudest noise in the table."
   ]
  },
  {
   "cell_type": "code",
   "execution_count": 1,
   "metadata": {
    "collapsed": true,
    "deletable": false,
    "id": "aged_ran",
    "starter_code": "# Leave this line to collect input from the user\nx = int(input(\"Enter a noise level (in dB): \"))",
    "state": "graded"
   },
   "outputs": [
    {
     "ename": "KeyboardInterrupt",
     "evalue": "Interrupted by user",
     "output_type": "error",
     "traceback": [
      "\u001b[0;31m---------------------------------------------------------------------------\u001b[0m",
      "\u001b[0;31mKeyboardInterrupt\u001b[0m                         Traceback (most recent call last)",
      "\u001b[0;32m/var/folders/6w/1b39tl99633dxzw1xnnlb_xwvh5cd7/T/ipykernel_34364/1611972063.py\u001b[0m in \u001b[0;36m<module>\u001b[0;34m\u001b[0m\n\u001b[1;32m      1\u001b[0m \u001b[0;31m# Don't delete the next line!!!\u001b[0m\u001b[0;34m\u001b[0m\u001b[0;34m\u001b[0m\u001b[0m\n\u001b[0;32m----> 2\u001b[0;31m \u001b[0mx\u001b[0m \u001b[0;34m=\u001b[0m \u001b[0mint\u001b[0m\u001b[0;34m(\u001b[0m\u001b[0minput\u001b[0m\u001b[0;34m(\u001b[0m\u001b[0;34m\"Enter a noise level (in dB): \"\u001b[0m\u001b[0;34m)\u001b[0m\u001b[0;34m)\u001b[0m\u001b[0;34m\u001b[0m\u001b[0;34m\u001b[0m\u001b[0m\n\u001b[0m\u001b[1;32m      3\u001b[0m \u001b[0;34m\u001b[0m\u001b[0m\n\u001b[1;32m      4\u001b[0m \u001b[0;34m\u001b[0m\u001b[0m\n\u001b[1;32m      5\u001b[0m \u001b[0;31m# Put your solution down here:\u001b[0m\u001b[0;34m\u001b[0m\u001b[0;34m\u001b[0m\u001b[0m\n",
      "\u001b[0;32m~/opt/anaconda3/lib/python3.9/site-packages/ipykernel/kernelbase.py\u001b[0m in \u001b[0;36mraw_input\u001b[0;34m(self, prompt)\u001b[0m\n\u001b[1;32m   1175\u001b[0m                 \u001b[0;34m\"raw_input was called, but this frontend does not support input requests.\"\u001b[0m\u001b[0;34m\u001b[0m\u001b[0;34m\u001b[0m\u001b[0m\n\u001b[1;32m   1176\u001b[0m             )\n\u001b[0;32m-> 1177\u001b[0;31m         return self._input_request(\n\u001b[0m\u001b[1;32m   1178\u001b[0m             \u001b[0mstr\u001b[0m\u001b[0;34m(\u001b[0m\u001b[0mprompt\u001b[0m\u001b[0;34m)\u001b[0m\u001b[0;34m,\u001b[0m\u001b[0;34m\u001b[0m\u001b[0;34m\u001b[0m\u001b[0m\n\u001b[1;32m   1179\u001b[0m             \u001b[0mself\u001b[0m\u001b[0;34m.\u001b[0m\u001b[0m_parent_ident\u001b[0m\u001b[0;34m[\u001b[0m\u001b[0;34m\"shell\"\u001b[0m\u001b[0;34m]\u001b[0m\u001b[0;34m,\u001b[0m\u001b[0;34m\u001b[0m\u001b[0;34m\u001b[0m\u001b[0m\n",
      "\u001b[0;32m~/opt/anaconda3/lib/python3.9/site-packages/ipykernel/kernelbase.py\u001b[0m in \u001b[0;36m_input_request\u001b[0;34m(self, prompt, ident, parent, password)\u001b[0m\n\u001b[1;32m   1217\u001b[0m             \u001b[0;32mexcept\u001b[0m \u001b[0mKeyboardInterrupt\u001b[0m\u001b[0;34m:\u001b[0m\u001b[0;34m\u001b[0m\u001b[0;34m\u001b[0m\u001b[0m\n\u001b[1;32m   1218\u001b[0m                 \u001b[0;31m# re-raise KeyboardInterrupt, to truncate traceback\u001b[0m\u001b[0;34m\u001b[0m\u001b[0;34m\u001b[0m\u001b[0m\n\u001b[0;32m-> 1219\u001b[0;31m                 \u001b[0;32mraise\u001b[0m \u001b[0mKeyboardInterrupt\u001b[0m\u001b[0;34m(\u001b[0m\u001b[0;34m\"Interrupted by user\"\u001b[0m\u001b[0;34m)\u001b[0m \u001b[0;32mfrom\u001b[0m \u001b[0;32mNone\u001b[0m\u001b[0;34m\u001b[0m\u001b[0;34m\u001b[0m\u001b[0m\n\u001b[0m\u001b[1;32m   1220\u001b[0m             \u001b[0;32mexcept\u001b[0m \u001b[0mException\u001b[0m\u001b[0;34m:\u001b[0m\u001b[0;34m\u001b[0m\u001b[0;34m\u001b[0m\u001b[0m\n\u001b[1;32m   1221\u001b[0m                 \u001b[0mself\u001b[0m\u001b[0;34m.\u001b[0m\u001b[0mlog\u001b[0m\u001b[0;34m.\u001b[0m\u001b[0mwarning\u001b[0m\u001b[0;34m(\u001b[0m\u001b[0;34m\"Invalid Message:\"\u001b[0m\u001b[0;34m,\u001b[0m \u001b[0mexc_info\u001b[0m\u001b[0;34m=\u001b[0m\u001b[0;32mTrue\u001b[0m\u001b[0;34m)\u001b[0m\u001b[0;34m\u001b[0m\u001b[0;34m\u001b[0m\u001b[0m\n",
      "\u001b[0;31mKeyboardInterrupt\u001b[0m: Interrupted by user"
     ]
    }
   ],
   "source": [
    "# Don't delete the next line!!!\n",
    "x = int(input(\"Enter a noise level (in dB): \"))\n",
    "\n",
    "\n",
    "# Put your solution down here:"
   ]
  },
  {
   "cell_type": "markdown",
   "metadata": {
    "state": "normal"
   },
   "source": [
    "**Solve it**:\n",
    "\n",
    "In the cell below, write a set of conditions that will check the value of `x`, then print the word for any number from 0 to 10 in Finnish:\n",
    "nolla [0], yksi [1], kaksi [2], kolme [3], neljä [4], viisi [5], kuusi [6], seitsemän [7], kahdeksan [8], yhdeksän [9], and kymmenen [10].\n",
    "\n",
    "If the number is outside of this range, then just print \"out of range!\""
   ]
  },
  {
   "cell_type": "code",
   "execution_count": 1,
   "metadata": {
    "collapsed": true,
    "deletable": false,
    "id": "green_tyr",
    "starter_code": "# Make sure your answer works with other values of x, as well!\nx = 5\n",
    "state": "graded"
   },
   "outputs": [
    {
     "name": "stdout",
     "output_type": "stream",
     "text": [
      "viisi\n"
     ]
    }
   ],
   "source": [
    "# Don't delete the next line!!\n",
    "x = int(input(\"Enter a number: \"))\n",
    "\n",
    "# Put your solution below:"
   ]
  },
  {
   "cell_type": "markdown",
   "metadata": {
    "state": "normal"
   },
   "source": [
    "## Loops"
   ]
  },
  {
   "cell_type": "markdown",
   "metadata": {
    "state": "normal"
   },
   "source": [
    "Just a minute ago, we thought about a problem where we might need to check each record in a data set for valid entries. If we want to accomplish this kind of task, we need to write code that will check the first line, then the second line, then the third line, etc. We can do this by hand, of course. Imagine a list of entries stored in the variable `forecastData`, where we need to make sure that each record is above 40 but below 50. Checking each value manually for validity might look something like the code below:"
   ]
  },
  {
   "cell_type": "code",
   "execution_count": 2,
   "metadata": {
    "state": "normal"
   },
   "outputs": [],
   "source": [
    "forecastData = [49.5, 40.2, 53.7, 48.9, 51.0]\n",
    "\n",
    "if (forecastData[0] > 40) & (forecastData[0] < 50):\n",
    "    print(True)\n",
    "else:\n",
    "    print(False)\n",
    "    \n",
    "if (forecastData[1] > 40) & (forecastData[1] < 50):\n",
    "    print(True)\n",
    "else:\n",
    "    print(False)\n",
    "    \n",
    "if (forecastData[2] > 40) & (forecastData[2] < 50):\n",
    "    print(True)\n",
    "else:\n",
    "    print(False)\n",
    "    \n",
    "if (forecastData[3] > 40) & (forecastData[3] < 50):\n",
    "    print(True)\n",
    "else:\n",
    "    print(False)\n",
    "    \n",
    "if (forecastData[4] > 40) & (forecastData[4] < 50):\n",
    "    print(True)\n",
    "else:\n",
    "    print(False)"
   ]
  },
  {
   "cell_type": "markdown",
   "metadata": {
    "state": "normal"
   },
   "source": [
    "That is a LOT of redundant code. Does it work? Sure. But what happens when I need to fix it? As I typed those lines, I did some copying and pasting, and then noticed that I made a few typos. At that point, I had to fix the typos and then copy and paste the corrected code again. Not ideal, but functional. Then I did it again! And again, it was frustrating to fix each of the iterations of the code.\n",
    "\n",
    "While convenience is important, it is also much more likely when I am copying and pasting code over and over that I will make mistakes than if I just have to write one version of the code that would work for each of the lines of my list.\n",
    "\n",
    "What we are doing when we write logic like the code above is called **looping**. We are writing code that will iteratively work its way through each specified record, and will **loop** through the same logic for each of those records. Wouldn't it be easier if we could just specify the pattern of behavior we expect, and not have to walk our program through each specific iteration?\n",
    "\n",
    "Yes. Yes it would.\n",
    "\n",
    "### For Loops\n",
    "\n",
    "The most common type of loop used in Python is a `for` loop. They are convenient and safe, as you will soon learn. Let's write a loop for the problem above."
   ]
  },
  {
   "cell_type": "code",
   "execution_count": 3,
   "metadata": {
    "state": "normal"
   },
   "outputs": [],
   "source": [
    "forecastData = [49.5, 40.2, 53.7, 48.9, 51.0]\n",
    "\n",
    "for i in forecastData:\n",
    "    if (i > 40) & (i < 50):\n",
    "        print(True)\n",
    "    else:\n",
    "        print(False)"
   ]
  },
  {
   "cell_type": "markdown",
   "metadata": {
    "state": "normal"
   },
   "source": [
    "That was way easier! But really, what did we just do?\n",
    "\n",
    "The structure of our `for` loop above is the standard format. It translates to English in the following way: \"For every element (call it `i`) in the object `forecastData`, do the following:\". We even end it with a colon like we would in English!\n",
    "\n",
    "`i` becomes a **placeholder**, or a variable that will be temporarily assigned each time our loop goes to work. It will use each entry in `forecastData` one time, and while a given entry is being used, it will have the nickname `i`. That way, we can write all the code in our loop to describe what should happen to `i`. Then, in each pass of the loop, `i` takes the next value, and we follow the same set of instructions. In this case, we are just checking that our variables meet the established criteria, and then printing `True` if they do, or `False` if they don't.\n",
    "\n",
    "One awesome side effect of this version of loops is that we can easily update our loop if there is a mistake or change to the pattern, and we only have to do so ONE time! No copying and pasting, and less risk of accidental errors popping up in our code."
   ]
  },
  {
   "cell_type": "markdown",
   "metadata": {
    "state": "normal"
   },
   "source": [
    "**Solve it**:\n",
    "\n",
    "Write a for loop that will print out each word in the following list one by one:\n",
    "`[\"A\",\"Long\",\"Time\",\"Ago\",\"In\",\"A\",\"Galaxy\",\"Far\",\"Far\",\"Away\"]`"
   ]
  },
  {
   "cell_type": "code",
   "execution_count": 2,
   "metadata": {
    "collapsed": true,
    "deletable": false,
    "id": "tiny_var",
    "starter_code": "wordList = [\"A\",\"Long\",\"Time\",\"Ago\",\"In\",\"A\",\"Galaxy\",\"Far\",\"Far\",\"Away\"]",
    "state": "graded"
   },
   "outputs": [
    {
     "name": "stdout",
     "output_type": "stream",
     "text": [
      "A\n",
      "Long\n",
      "Time\n",
      "Ago\n",
      "In\n",
      "A\n",
      "Galaxy\n",
      "Far\n",
      "Far\n",
      "Away\n"
     ]
    }
   ],
   "source": [
    "# Don't delete this next line....\n",
    "wordList = [\"A\",\"Long\",\"Time\",\"Ago\",\"In\",\"A\",\"Galaxy\",\"Far\",\"Far\",\"Away\"]\n",
    "\n",
    "# Solution goes below:"
   ]
  },
  {
   "cell_type": "markdown",
   "metadata": {
    "state": "normal"
   },
   "source": [
    "### List Comprehensions\n",
    "\n",
    "Another great way to write a for loop is to use **list comprehensions**, or lists containing loop syntax that can generate a list as a result of the loop! It is a compact and effective way to get your concept into list form:"
   ]
  },
  {
   "cell_type": "code",
   "execution_count": 1,
   "metadata": {
    "state": "normal"
   },
   "outputs": [],
   "source": [
    "forecastData = [49.5, 40.2, 53.7, 48.9, 51.0]\n",
    "\n",
    "# Use a list comprehension to evaluate the conditions from our old for loop\n",
    "meetsCondition = [(i > 40) & (i < 50) for i in forecastData]\n",
    "\n",
    "print(meetsCondition)"
   ]
  },
  {
   "cell_type": "markdown",
   "metadata": {
    "state": "normal"
   },
   "source": [
    "In this list comprehension, we are able to use a *single line* to write out our previous `for` loop, and then we can simply print our results by printing out the list itself. List comprehensions can provide us a quick way to make all sorts of lists:"
   ]
  },
  {
   "cell_type": "code",
   "execution_count": 11,
   "metadata": {
    "state": "normal"
   },
   "outputs": [],
   "source": [
    "# Make a list of integers from 0 to 9\n",
    "quickList = [i for i in range(10)]\n",
    "\n",
    "print(\"List from 0 to 9\", quickList, \"\\n\")\n",
    "\n",
    "# Make a list that prints all numbers divisible by 3\n",
    "\n",
    "anotherList = [i for i in range(100) if i%3==0]\n",
    "\n",
    "print(\"List of multiples of 3\", anotherList)"
   ]
  },
  {
   "cell_type": "markdown",
   "metadata": {
    "state": "normal"
   },
   "source": [
    "As we can see from that second example, we can even include statements that allow us to use `if` statements and control which elements are included within our list comprehension.\n",
    "\n",
    "Comprehensions are frequently used to streamline code, and can make our work much easier to read if a for statement is simply intended to transform data based on a fixed pattern for all elements in an existing list or other iterable."
   ]
  },
  {
   "cell_type": "markdown",
   "metadata": {
    "state": "normal"
   },
   "source": [
    "**Solve it**:\n",
    "\n",
    "Write a list comprehension to find all numbers between 0 and 1000 with the number 4 in them, and store the resulting list as the variable `fours`"
   ]
  },
  {
   "cell_type": "code",
   "execution_count": 15,
   "metadata": {
    "deletable": false,
    "id": "eager_loki",
    "state": "graded"
   },
   "outputs": [],
   "source": [
    "fours = "
   ]
  },
  {
   "cell_type": "markdown",
   "metadata": {
    "state": "normal"
   },
   "source": [
    "### While Loops\n",
    "\n",
    "Another kind of loop that is used in some contexts is a `while` loop. `while` loops differ significantly from `for` loops in their intended use: a `for` loop is designed to execute a determined number of iterations, whereas a `while` loop is designed to execute code repeatedly until a **stopping condition** is met. This means that we can allow a `while` loop to repeat indefinitely. \n",
    "\n",
    "A **stopping rule** is the logical statement that is checked before each iteration of a `while` loop. Whenever this condition is evaluated as `True`, then the loop is executed. When the condition is evaluated as `False`, the loop is terminated and the program advances to subsequent commands. This is where the term **infinite loop** comes from! If we forget to update our stopping condition within our `while` loop, then it will never stop, because we never tell it to stop. It is **really** important to remember this when we are writing `while` loops, or we will probably crash our program if not our computer.\n",
    "\n",
    "A fun example of a while loop would be writing a function to prompt the user to add numbers until the sum is above 42:"
   ]
  },
  {
   "cell_type": "code",
   "execution_count": 15,
   "metadata": {
    "state": "normal"
   },
   "outputs": [],
   "source": [
    "total = 0\n",
    "while (total<=42):\n",
    "    total += float(input(\"Please enter a number:\"))\n",
    "    print(total)"
   ]
  },
  {
   "cell_type": "markdown",
   "metadata": {
    "state": "normal"
   },
   "source": [
    "In reality, we would probably use `while` loops for significantly more difficult problems than our toy example. `while` loops are valuable in cases where we are seeking convergence such as dynamic programming, search models, and optimization problems in the context of statistical models."
   ]
  },
  {
   "cell_type": "markdown",
   "metadata": {
    "state": "normal"
   },
   "source": [
    "**Solve it**:\n",
    "\n",
    "Write a while loop that takes `x` and subtracts 10 while `x` is still above 100."
   ]
  },
  {
   "cell_type": "code",
   "execution_count": 16,
   "metadata": {
    "deletable": false,
    "id": "high_loki",
    "starter_code": "# Test your code with the following x value:\nx = 432",
    "state": "graded"
   },
   "outputs": [],
   "source": [
    "# Don't delete the next line!\n",
    "x = 432\n",
    "\n",
    "# Solution goes below!"
   ]
  }
 ],
 "metadata": {
  "kernelspec": {
   "display_name": "Python 3 (ipykernel)",
   "language": "python",
   "name": "python3"
  },
  "language_info": {
   "codemirror_mode": {
    "name": "ipython",
    "version": 3
   },
   "file_extension": ".py",
   "mimetype": "text/x-python",
   "name": "python",
   "nbconvert_exporter": "python",
   "pygments_lexer": "ipython3",
   "version": "3.9.13"
  },
  "mimir": {
   "data": {},
   "last_submission_id": "",
   "project_id": "be7600ad-0d7f-4396-b010-4a1053261967"
  },
  "varInspector": {
   "cols": {
    "lenName": 16,
    "lenType": 16,
    "lenVar": 40
   },
   "kernels_config": {
    "python": {
     "delete_cmd_postfix": "",
     "delete_cmd_prefix": "del ",
     "library": "var_list.py",
     "varRefreshCmd": "print(var_dic_list())"
    },
    "r": {
     "delete_cmd_postfix": ") ",
     "delete_cmd_prefix": "rm(",
     "library": "var_list.r",
     "varRefreshCmd": "cat(var_dic_list()) "
    }
   },
   "types_to_exclude": [
    "module",
    "function",
    "builtin_function_or_method",
    "instance",
    "_Feature"
   ],
   "window_display": false
  }
 },
 "nbformat": 4,
 "nbformat_minor": 2
}
