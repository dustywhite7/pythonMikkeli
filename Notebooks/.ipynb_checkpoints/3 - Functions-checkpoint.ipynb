{
 "cells": [
  {
   "cell_type": "markdown",
   "metadata": {
    "state": "normal"
   },
   "source": [
    "# Functions\n",
    "\n",
    "Functions are an excellent addition to our ability to generate reusable code, and can save us significant effort when we want to recycle code from one problem to the next. In fact, there will come a time later in this course where we will do very little programming that does not involve functions on just about every line of our code. Functions are where computer programs really get their strength, especially when used together with logical statements and loops to create simple instructions that we can use to perform complex tasks.\n",
    "\n",
    "A function is created by using the keyword `def`, followed by the name of the new function we are creating. At the end of the name of the function, we place any the names of any values we want users to provide to our function within parentheses (`(` and `)`).\n",
    "\n",
    "Let's start by creating a function that can calculate the circumference of any circle. It will require our user to provide the radius of the circle, since the circumference of a circle is $2\\pi r$."
   ]
  },
  {
   "cell_type": "code",
   "execution_count": 6,
   "metadata": {
    "state": "normal"
   },
   "outputs": [],
   "source": [
    "def circumference(r):\n",
    "    return 2*3.14159265*r"
   ]
  },
  {
   "cell_type": "markdown",
   "metadata": {
    "state": "normal"
   },
   "source": [
    "Our function starts just like we explained above. We declare a function named `circumference`, and in parentheses we ask the user to provide `r`, which we know is the radius of the circle. This `r` value is treated as a variable within our function, and we can refer to it by using `r` in our operations within the function.\n",
    "\n",
    "The last line of any function should contain a `return` statement. This line tells our function what information to pass back to the program as a whole. It should typically be the final result of our function's operations.\n",
    "\n",
    "When we **declare** a function, like we did above, we tell Python what to do if we ask for a function to be executed. The function is NOT executed, though! Python waits until we **call** a function, like we will do below:"
   ]
  },
  {
   "cell_type": "code",
   "execution_count": 7,
   "metadata": {
    "state": "normal"
   },
   "outputs": [
    {
     "data": {},
     "execution_count": 7,
     "metadata": {},
     "output_type": "execute_result"
    }
   ],
   "source": [
    "circumference(2)"
   ]
  },
  {
   "cell_type": "markdown",
   "metadata": {
    "state": "normal"
   },
   "source": [
    "We just **called** our `circumference` function with an `r` value of `2`. The function evaluates the circumference of the circle with radius 2, and returns the calculated value upon completion.\n",
    "\n",
    "Let's write another fucntion, this time to calculate the *factorial* of a given number. A factorial is calculated as the product of an integer with all integers of smaller value. For example, $4!$ (4 factorial) is calculated as $4\\times3\\times2\\times1$."
   ]
  },
  {
   "cell_type": "code",
   "execution_count": 8,
   "metadata": {
    "state": "normal"
   },
   "outputs": [],
   "source": [
    "def factorial(n):\n",
    "    fac = 1\n",
    "    while n > 0:\n",
    "        fac *= n\n",
    "        n -= 1\n",
    "    return fac"
   ]
  },
  {
   "cell_type": "markdown",
   "metadata": {
    "state": "normal"
   },
   "source": [
    "This function takes a number `n`, and multiplies it by 1. Then, it subtracts 1 from `n`, and repeats the process so long as n is still greater than 0. We can confirm that it works properly by calling the function:"
   ]
  },
  {
   "cell_type": "code",
   "execution_count": 9,
   "metadata": {
    "scrolled": true,
    "state": "normal"
   },
   "outputs": [
    {
     "data": {},
     "execution_count": 9,
     "metadata": {},
     "output_type": "execute_result"
    }
   ],
   "source": [
    "factorial(5)"
   ]
  },
  {
   "cell_type": "markdown",
   "metadata": {
    "state": "normal"
   },
   "source": [
    "**Solve it**: (from *The Python Workbook*)\n",
    "\n",
    "A prime number is an integer greater than 1 that is only divisible by one and itself. Write a function `isPrime` that determines whether or not its parameter is prime, returning True if it is, and False otherwise."
   ]
  },
  {
   "cell_type": "code",
   "execution_count": 1,
   "metadata": {
    "deletable": false,
    "id": "eager_mimir",
    "starter_code": "def isPrime(x):",
    "state": "graded"
   },
   "outputs": [],
   "source": [
    "def isPrime(x):"
   ]
  },
  {
   "cell_type": "markdown",
   "metadata": {
    "state": "normal"
   },
   "source": [
    "**Test it**: \n",
    "\n",
    "Run the code cell below to test your `isPrime` function and make sure it does the right thing!"
   ]
  },
  {
   "cell_type": "code",
   "execution_count": null,
   "metadata": {},
   "outputs": [],
   "source": [
    "if (isPrime(97)==True and isPrime(99)==False):\n",
    "    print(\"You got it right!\")"
   ]
  },
  {
   "cell_type": "markdown",
   "metadata": {
    "state": "normal"
   },
   "source": [
    "**Solve it**: (from *The Python Workbook*)\n",
    "\n",
    "Write a function called `taxiPrice` that calculates taxi fares. The function should accept as an argument `distance`, which is the distance travelled by taxi (measured in km), and should return a price (just the number is fine, no currency symbol is needed). The fee schedule is a &euro;4.00 base fee, with a charge of &euro;0.25 for each 140m traveled."
   ]
  },
  {
   "cell_type": "code",
   "execution_count": 18,
   "metadata": {
    "deletable": false,
    "id": "big_mani",
    "starter_code": "def taxiPrice(distance):",
    "state": "graded"
   },
   "outputs": [],
   "source": [
    "def taxiPrice(distance):"
   ]
  },
  {
   "cell_type": "markdown",
   "metadata": {
    "state": "normal"
   },
   "source": [
    "**Test it**: \n",
    "\n",
    "Run the code cell below to test your `taxiPrice` function and make sure it does the right thing!"
   ]
  },
  {
   "cell_type": "code",
   "execution_count": null,
   "metadata": {},
   "outputs": [],
   "source": [
    "if (round(taxiPrice(12.3), 2)-25.96 <0.03):\n",
    "    print(\"You got it right!\")"
   ]
  },
  {
   "cell_type": "markdown",
   "metadata": {
    "state": "normal"
   },
   "source": [
    "### Recursive Functions\n",
    "\n",
    "Another really helpful feature of functions is the ability to call a function within itself. This process is called **recursion**, and makes otherwise intractable problems straightforward. First, let's look at an example of our `factorial` function that has been rewritten as a recursive function:"
   ]
  },
  {
   "cell_type": "code",
   "execution_count": 10,
   "metadata": {
    "state": "normal"
   },
   "outputs": [],
   "source": [
    "def factorial(n):\n",
    "    if n <= 1:\n",
    "        return 1\n",
    "    else:\n",
    "        return n*factorial(n-1)"
   ]
  },
  {
   "cell_type": "markdown",
   "metadata": {
    "state": "normal"
   },
   "source": [
    "Recursive functions increase our ability to write flexible programs at the cost of sometimes taking longer to read and interpret. The function above contains some very simple logic that allows us to calculate the same values as our old `factorial` function:\n",
    "\n",
    "1) If `n` is less than or equal to 1, then we get back 1 as the resulting factorial. (Both 0 factorial and 1 factorial have a value of 1)\n",
    "\n",
    "2) For any other number `n`, we just want to multiply that number times the factorial of `n-1`. For example, the value of $2!$ is $2\\times 1!$, and the value of $3!$ is $3\\times2!$.\n",
    "\n",
    "Our program will continue to call `factorial(n-1)` until `n-1` is 1 or 0, at which point it will simply return the value `1`, and multiply each returned value back up the chain until we get our final result.\n",
    "\n",
    "Recursive programs aren't always necessary, but they come in very handy where we need to explore conditions with unclear stopping points (recursive problems in dynamic programming are common in Economics, for example)."
   ]
  },
  {
   "cell_type": "markdown",
   "metadata": {
    "state": "normal"
   },
   "source": [
    "**Solve it**: \n",
    "\n",
    "Write a **recursive** function to calculate the n-th Fibonacci number. You should name your function `fib` and it should take one argument (`n`). It should return the Fibonnaci number corresponding to `n`."
   ]
  },
  {
   "cell_type": "code",
   "execution_count": 2,
   "metadata": {
    "deletable": false,
    "id": "blue_sol",
    "state": "graded"
   },
   "outputs": [],
   "source": []
  },
  {
   "cell_type": "markdown",
   "metadata": {
    "state": "normal"
   },
   "source": [
    "**Test it**: \n",
    "\n",
    "Run the code cell below to test your `fib` function and make sure it does the right thing!"
   ]
  },
  {
   "cell_type": "code",
   "execution_count": null,
   "metadata": {},
   "outputs": [],
   "source": [
    "if (fib(5)==5) and (fib(10)==55):\n",
    "    print(\"You got it right!\")"
   ]
  },
  {
   "cell_type": "markdown",
   "metadata": {
    "state": "normal"
   },
   "source": [
    "### Why use functions?\n",
    "\n",
    "When we use functions, we are able to write code in a single place that can be recycled anywhere in our code. We can even call functions from one script into another! This means that we only have to maintain a single block of code for each task we hope to implement in Python, and then we are able to use it over and over again.\n",
    "\n",
    "The alternative to this is to write the same code over and over again. If we make a mistake, we have to fix it over and over again. If we update our code to improve functionality, we have to update it over and over again.\n",
    "\n",
    "In short, functions save us effort in writing lines of code, updating lines of code, and fixing potential mistakes in our code."
   ]
  },
  {
   "cell_type": "markdown",
   "metadata": {
    "state": "normal"
   },
   "source": [
    "## Commenting our code\n",
    "\n",
    "It is important that, as we begin writing more and more complex code, we learn to leave explanations of our code. In the future, users of our code (future you, future me, and other users, as well!) will have an easier time understanding and updating the code if they can quickly grasp what we are attempting to do with that code.\n",
    "\n",
    "The first way that we can comment code is by using the `#` symbol. Putting a `#` anywhere in a line of Python indicates that ALL text from that point until the end of the line is not code, but is a comment. These comments only last until the end of the line, at which point Python treats the text as code again."
   ]
  },
  {
   "cell_type": "code",
   "execution_count": 12,
   "metadata": {
    "state": "normal"
   },
   "outputs": [],
   "source": [
    "# This is a recursive function that calculates the factorial of n\n",
    "def factorial(n):\n",
    "    if n <= 1:\n",
    "        return 1 # The return value for 0 and 1\n",
    "    else:\n",
    "        return n*factorial(n-1) # The return value for all numbers higher than 1"
   ]
  },
  {
   "cell_type": "markdown",
   "metadata": {
    "state": "normal"
   },
   "source": [
    "The comments provided above are helpful in understanding what is happening in our factorial code, but they are only visible while we are looking at the code itself. We would not be able to see those comments when we need help and are working in another script. Luckily, we also have ways to leave comments that are visible through the `help()` command at any time when working in Python.\n",
    "\n",
    "**docstrings** enable us to leave messages that can be accessed by users when they need to remember what a function does and how it works. **docstrings** are called by using triple quotes `\"\"\"` at the beginning and end of the **docstring**."
   ]
  },
  {
   "cell_type": "code",
   "execution_count": 14,
   "metadata": {
    "state": "normal"
   },
   "outputs": [],
   "source": [
    "# This is a recursive function that calculates the factorial of n\n",
    "def factorial(n):\n",
    "    \"\"\"\n",
    "    factorial(n) takes an integer (n) as input\n",
    "    and returns the mathematical factorial\n",
    "    of that number.\n",
    "    \"\"\"\n",
    "    if n <= 1:\n",
    "        return 1 # The return value for 0 and 1\n",
    "    else:\n",
    "        return n*factorial(n-1) # The return value for all numbers higher than 1"
   ]
  },
  {
   "cell_type": "markdown",
   "metadata": {
    "state": "normal"
   },
   "source": [
    "Now, we can use the line `help(factorial)` to get some guidance on our `factorial` function:"
   ]
  },
  {
   "cell_type": "code",
   "execution_count": 15,
   "metadata": {
    "state": "normal"
   },
   "outputs": [],
   "source": [
    "help(factorial)"
   ]
  },
  {
   "cell_type": "markdown",
   "metadata": {
    "state": "normal"
   },
   "source": [
    "### When should we leave comments in our code?\n",
    "\n",
    "Always! We should comment ALL code that we write. This allows us to pick up where we left off when working on long-term projects, but also makes it easier to collaborate on projects with other programmers. If you ever want your code to be used by others, commenting will be a valuable tool for those users.\n",
    "\n",
    "Comment your code when:\n",
    "- You plan on using your code\n",
    "- You might look at your code again at a different time\n",
    "- Someone else might use your code\n",
    "- Someone else might update your code\n",
    "- Someone else might need to read your code\n",
    "\n",
    "In other words, always comment your code."
   ]
  }
 ],
 "metadata": {
  "kernelspec": {
   "display_name": "Python 3 (ipykernel)",
   "language": "python",
   "name": "python3"
  },
  "language_info": {
   "codemirror_mode": {
    "name": "ipython",
    "version": 3
   },
   "file_extension": ".py",
   "mimetype": "text/x-python",
   "name": "python",
   "nbconvert_exporter": "python",
   "pygments_lexer": "ipython3",
   "version": "3.9.13"
  },
  "mimir": {
   "data": {},
   "last_submission_id": "",
   "project_id": "f938236b-9ec8-4b0b-a13c-b7871970fe55"
  },
  "varInspector": {
   "cols": {
    "lenName": 16,
    "lenType": 16,
    "lenVar": 40
   },
   "kernels_config": {
    "python": {
     "delete_cmd_postfix": "",
     "delete_cmd_prefix": "del ",
     "library": "var_list.py",
     "varRefreshCmd": "print(var_dic_list())"
    },
    "r": {
     "delete_cmd_postfix": ") ",
     "delete_cmd_prefix": "rm(",
     "library": "var_list.r",
     "varRefreshCmd": "cat(var_dic_list()) "
    }
   },
   "types_to_exclude": [
    "module",
    "function",
    "builtin_function_or_method",
    "instance",
    "_Feature"
   ],
   "window_display": false
  }
 },
 "nbformat": 4,
 "nbformat_minor": 4
}
