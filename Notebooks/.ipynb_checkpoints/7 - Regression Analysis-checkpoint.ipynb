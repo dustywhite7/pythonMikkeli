{
 "cells": [
  {
   "cell_type": "markdown",
   "metadata": {
    "state": "normal"
   },
   "source": [
    "# Linear Regression"
   ]
  },
  {
   "cell_type": "markdown",
   "metadata": {
    "state": "normal"
   },
   "source": [
    "Let's learn about our first statistical modeling technique. Linear regression is sometimes considered the most basic machine learning algorithm. Strictly speaking, this is true; linear regression takes data as an input, and updates its rule set based on that data to model an outcome. This is the basis for machine learning! On the other hand, linear regression as a statistical tool definitely predates the machine learning movement, and has been used for over 200 years. It is well understood, and is readily accepted as a means of analysis.\n",
    "\n",
    "Whether or not you think of it as machine learning, it is a great place to get started when learning about data modeling through statistics. Let's build up some intuition for how linear regression works before we learn to use it."
   ]
  },
  {
   "cell_type": "markdown",
   "metadata": {
    "state": "normal"
   },
   "source": [
    "## Cause and Effect\n",
    "\n",
    "The goal of statistical modeling is to understand the inputs that **cause** some specific outcome that we want to study. The big catch with statistical models is statistical models do not successfully identify **causation**. Statistical models instead identify **correlation**, and leave **causation** to domain expertise.\n",
    "\n",
    "- **Correlation**: a mutual relationship or connection between two or more things. In statistics, we even use measures such as the correlation coefficient to describe the intensity of the relationship between two variables. In order for the relationship between two variables to be a **causal** relationship, there must first be **correlation** between those variables.\n",
    "\n",
    "- **Causation**: the act of causing something. This is the relationship that statistical models want to measure! Unfortunately, statistics alone can't get us to **causation**. In order to establish a **causal** relationship, we must combine correlation between two variables with an explanation of *how* one of those variables can lead to changes in the other."
   ]
  },
  {
   "cell_type": "markdown",
   "metadata": {
    "state": "normal"
   },
   "source": [
    "## Questioning Causality\n",
    "\n",
    "When we hypothesize a causal relationship (that $x$ causes $y$), it is important to ask ourselves several questions:\n",
    "\n",
    "1. Is it possible that $y$ causes $x$ instead?\n",
    "2. Is it possible that $z$ (a new factor that we haven't considered before) is causing both $x$ and $y$?\n",
    "3. Could the relationship have been observed by chance?\n",
    "\n",
    "If we can demonstrate that each of these questions is unlikely to be answered in the affirmative, and we observe correlation between two variables, then we can begin to assert that the relationship may be causal."
   ]
  },
  {
   "cell_type": "markdown",
   "metadata": {
    "state": "normal"
   },
   "source": [
    "## Establishing Causality\n",
    "\n",
    "In order to establish causality, we need to meet several conditions:\n",
    "\n",
    "- We can explain **why** $x$ causes $y$\n",
    "- We can demonstrate that **nothing else is driving the changes** (within reason)\n",
    "- We can show that there is a **correlation** between $x$ and $y$\n",
    "\n",
    "In other words, we need a way to statistically isolate the relationship between two variables, even when there are other \"moving parts\" in our model.\n",
    "\n",
    "## RCT\n",
    "\n",
    "One way to establish causality is through Randomized controlled trials (RCTs). In the context of an RCT, the experiment is designed such that only one variable is experimented upon. By assigning random individuals (or entities, groups, etc.) to the treatment and control groups, the researcher can use univariate statistical tests to determine the relationship between the variable of interest (called the treatment variable) and the outcome (dependent variable).\n",
    "\n",
    "Unfortunately, there are **many** contexts in which creating an RCT is not feasible. This may be due to the data collection method, it may be due to ethical concerns, or some other internal or external factor. Where we cannot perform an RCT, regression analysis becomes our next best option."
   ]
  },
  {
   "cell_type": "markdown",
   "metadata": {
    "state": "normal"
   },
   "source": [
    "## Regression Analysis\n",
    "\n",
    "If you have ever created a trend line in Excel or Tableau (or any similar software), then you have implemented a form of regression analysis. The beauty of regression analysis is in its ability to be **more** than just a trend line on a plot. While a trendline is valuable, it is only helpful when describing the relationship between two (and maybe three) variables, regression analysis makes it possible to create the analog to a trendline using **as many variables as you would like** (so long as you have more observations than variables).\n",
    "\n",
    "The underlying concept (we won't go into the math here) is that we want to statistically separate the effect of each variable on the outcome. In other words, what happens to our outcome when we vary only one of our many variables at a time? All of the math behind regression analysis is designed to answer this question. This means that regression analysis\n",
    "\n",
    "- Allows us to **act as if nothing else were changing**\n",
    "- Mathematicaly isolates the effect of each individual **variable** on the outcome of interest\n",
    "    - Variables are the factors that we want to include in our model\n",
    "    \n",
    "When we look at the output of a regression, then, we are looking at an equation that tells us how to add up the impacts of each variable to estimate the value of our dependent variable! Not only can we understand the impact of each individual variable, but we can also forecast the dependent variable for use in predictive modeling.\n",
    "\n",
    "\n",
    "### Regression Terms\n",
    "\n",
    "As we move forward, it will be helpful to keep in mind the following definitions:\n",
    "\n",
    "- **Coefficient**: This is the effect of changing a variable by one unit (from “untreated” to “treated”)\n",
    "- **Standard Error (Standard Deviation)**: Measures how noisy the effect of the independent variable is on the dependent variable\n",
    "    - Larger numbers indicate more noise\n",
    "- **Confidence Interval**: Assuming our regression analysis includes all relevant information, we expect that the true coefficient (treatment effect) lies within this range 95% of the time (for a 95% confidence interval)\n",
    "\n",
    "- **Statistical Significance**: When the Average Treatment Effect has a confidence interval (at 95% or 99% levels, typically) that does not include 0\n",
    "\n",
    "\n",
    "\n",
    "### Regression Assumptions\n",
    "\n",
    "It is important to note that the statistical models underlying linear regression depend on several assumptions:\n",
    "\n",
    "1. Effects are Linear (there are some workarounds)\n",
    "2. Errors are normally distributed (bell-shaped)\n",
    "3. Variables are not Collinear\n",
    "4. No Autocorrelation (problematic for time series data)\n",
    "5. Homoskedasticity (errors are shaped the same across all observations)\n",
    "\n",
    "While the study of these assumptions is essential for a practitioner, and frequently occupies an entire semester-long course, it is sufficient for us to state these assumptions, and be aware of the fact that these assumptions are baked into the models. It is equally important to know that adaptations of regression analysis exist to work around violations of each assumption where needed.\n",
    "\n",
    "Most regressions implemented in the real world must account for violations of one or more assumptions."
   ]
  },
  {
   "cell_type": "markdown",
   "metadata": {
    "state": "normal"
   },
   "source": [
    "## When should we use regression, then?\n",
    "\n",
    "Regression Analysis is most useful when you care about WHY a particular outcome occurs. Regressions are very powerful transparent models, by which I mean that it is straightforward to see how each variable leads to the predicted outcome. Whenever we want to establish causality (and can't put together an RCT), regression models are the *de facto* standard for understanding how one variable causes the other to change.\n",
    "\n",
    "If, on the other hand, you want to just predict WHAT will happen next, there exist much better tools for you! We will spend many class sessions discussing these models during the remainder of this course."
   ]
  },
  {
   "cell_type": "markdown",
   "metadata": {
    "state": "normal"
   },
   "source": [
    "## Implementing Linear Regression in Python\n",
    "\n",
    "\n",
    "Now let's talk about actually **doing** linear regression. In order to perform regression analysis, we will utilize the `statsmodels` library, which is capable of performing most types of regression modeling. While the library is very robust, we will focus on running linear regression under standard assumptions during this class. Let's start by importing the library and some data."
   ]
  },
  {
   "cell_type": "code",
   "execution_count": 1,
   "metadata": {
    "state": "normal"
   },
   "outputs": [],
   "source": [
    "# Import our libraries\n",
    "\n",
    "import statsmodels.formula.api as smf\n",
    "import pandas as pd\n",
    "\n",
    "# Import data to estimate the weight of fish sold at market\n",
    "data = pd.read_csv(\"https://github.com/dustywhite7/pythonMikkeli/raw/master/exampleData/fishWeight.csv\")"
   ]
  },
  {
   "cell_type": "markdown",
   "metadata": {
    "state": "normal"
   },
   "source": [
    "Note that when we import `statsmodels`, we do so with a slightly different syntax (`import statsmodels.formula.api as smf`) rather than just importing the whole library. `statsmodels` provides the option to import two distinct APIs (application programming interfaces). We are using the formulas API, which will allow us to write intuitive regression equations that more easily permit us to modify our data as we run regressions.\n",
    "\n",
    "Now, we really don't have much work left to do before we can run a regression! Let's look at our data really quickly, and then try out some regression analysis."
   ]
  },
  {
   "cell_type": "code",
   "execution_count": 2,
   "metadata": {
    "state": "normal"
   },
   "outputs": [
    {
     "data": {
      "text/html": [
       "<div>\n",
       "<style scoped>\n",
       "    .dataframe tbody tr th:only-of-type {\n",
       "        vertical-align: middle;\n",
       "    }\n",
       "\n",
       "    .dataframe tbody tr th {\n",
       "        vertical-align: top;\n",
       "    }\n",
       "\n",
       "    .dataframe thead th {\n",
       "        text-align: right;\n",
       "    }\n",
       "</style>\n",
       "<table border=\"1\" class=\"dataframe\">\n",
       "  <thead>\n",
       "    <tr style=\"text-align: right;\">\n",
       "      <th></th>\n",
       "      <th>Species</th>\n",
       "      <th>Weight</th>\n",
       "      <th>Length1</th>\n",
       "      <th>Length2</th>\n",
       "      <th>Length3</th>\n",
       "      <th>Height</th>\n",
       "      <th>Width</th>\n",
       "    </tr>\n",
       "  </thead>\n",
       "  <tbody>\n",
       "    <tr>\n",
       "      <th>0</th>\n",
       "      <td>Bream</td>\n",
       "      <td>242.0</td>\n",
       "      <td>23.2</td>\n",
       "      <td>25.4</td>\n",
       "      <td>30.0</td>\n",
       "      <td>11.5200</td>\n",
       "      <td>4.0200</td>\n",
       "    </tr>\n",
       "    <tr>\n",
       "      <th>1</th>\n",
       "      <td>Bream</td>\n",
       "      <td>290.0</td>\n",
       "      <td>24.0</td>\n",
       "      <td>26.3</td>\n",
       "      <td>31.2</td>\n",
       "      <td>12.4800</td>\n",
       "      <td>4.3056</td>\n",
       "    </tr>\n",
       "    <tr>\n",
       "      <th>2</th>\n",
       "      <td>Bream</td>\n",
       "      <td>340.0</td>\n",
       "      <td>23.9</td>\n",
       "      <td>26.5</td>\n",
       "      <td>31.1</td>\n",
       "      <td>12.3778</td>\n",
       "      <td>4.6961</td>\n",
       "    </tr>\n",
       "    <tr>\n",
       "      <th>3</th>\n",
       "      <td>Bream</td>\n",
       "      <td>363.0</td>\n",
       "      <td>26.3</td>\n",
       "      <td>29.0</td>\n",
       "      <td>33.5</td>\n",
       "      <td>12.7300</td>\n",
       "      <td>4.4555</td>\n",
       "    </tr>\n",
       "    <tr>\n",
       "      <th>4</th>\n",
       "      <td>Bream</td>\n",
       "      <td>430.0</td>\n",
       "      <td>26.5</td>\n",
       "      <td>29.0</td>\n",
       "      <td>34.0</td>\n",
       "      <td>12.4440</td>\n",
       "      <td>5.1340</td>\n",
       "    </tr>\n",
       "  </tbody>\n",
       "</table>\n",
       "</div>"
      ],
      "text/plain": [
       "  Species  Weight  Length1  Length2  Length3   Height   Width\n",
       "0   Bream   242.0     23.2     25.4     30.0  11.5200  4.0200\n",
       "1   Bream   290.0     24.0     26.3     31.2  12.4800  4.3056\n",
       "2   Bream   340.0     23.9     26.5     31.1  12.3778  4.6961\n",
       "3   Bream   363.0     26.3     29.0     33.5  12.7300  4.4555\n",
       "4   Bream   430.0     26.5     29.0     34.0  12.4440  5.1340"
      ]
     },
     "execution_count": 2,
     "metadata": {},
     "output_type": "execute_result"
    }
   ],
   "source": [
    "data.head()"
   ]
  },
  {
   "cell_type": "markdown",
   "metadata": {
    "state": "normal"
   },
   "source": [
    "As we can see above, we don't have too many variables. We have three measures of length (two are diagonal measures of the fish), we have height and width, then we have species, and finally, our dependent variable: weight. Let's see how well `Length1` predicts weight:"
   ]
  },
  {
   "cell_type": "code",
   "execution_count": 4,
   "metadata": {
    "state": "normal"
   },
   "outputs": [],
   "source": [
    "reg = smf.ols(\"Weight ~ Length1\", data=data)\n",
    "\n",
    "reg = reg.fit()"
   ]
  },
  {
   "cell_type": "markdown",
   "metadata": {
    "state": "normal"
   },
   "source": [
    "Done! We have just implemented our first regression model! The function `smf.ols` is the function to implement OLS, or Ordinary Least Squares Regression. OLS is what is typically meant when someone says that they are going to use regression analysis, although other kinds of regressions certainly exist.\n",
    "\n",
    "We provide two arguments to our regression function:\n",
    "- A formula for the regression model\n",
    "- The data set\n",
    "\n",
    "Our formula always includes the dependent variable as the leftmost element, and is separated from independent variables by the `~` symbol. After we create our model, we have to use the `.fit()` method to calculate the optimal weights for our regression model.\n",
    "\n",
    "Now, we can call the `.summary()` method on the fitted model in order to see how our model is structured and its anticipated performance:"
   ]
  },
  {
   "cell_type": "code",
   "execution_count": 5,
   "metadata": {
    "state": "normal"
   },
   "outputs": [
    {
     "data": {
      "text/html": [
       "<table class=\"simpletable\">\n",
       "<caption>OLS Regression Results</caption>\n",
       "<tr>\n",
       "  <th>Dep. Variable:</th>         <td>Weight</td>      <th>  R-squared:         </th> <td>   0.839</td>\n",
       "</tr>\n",
       "<tr>\n",
       "  <th>Model:</th>                   <td>OLS</td>       <th>  Adj. R-squared:    </th> <td>   0.837</td>\n",
       "</tr>\n",
       "<tr>\n",
       "  <th>Method:</th>             <td>Least Squares</td>  <th>  F-statistic:       </th> <td>   815.3</td>\n",
       "</tr>\n",
       "<tr>\n",
       "  <th>Date:</th>             <td>Tue, 09 Jun 2020</td> <th>  Prob (F-statistic):</th> <td>4.75e-64</td>\n",
       "</tr>\n",
       "<tr>\n",
       "  <th>Time:</th>                 <td>20:09:35</td>     <th>  Log-Likelihood:    </th> <td> -1015.1</td>\n",
       "</tr>\n",
       "<tr>\n",
       "  <th>No. Observations:</th>      <td>   159</td>      <th>  AIC:               </th> <td>   2034.</td>\n",
       "</tr>\n",
       "<tr>\n",
       "  <th>Df Residuals:</th>          <td>   157</td>      <th>  BIC:               </th> <td>   2040.</td>\n",
       "</tr>\n",
       "<tr>\n",
       "  <th>Df Model:</th>              <td>     1</td>      <th>                     </th>     <td> </td>   \n",
       "</tr>\n",
       "<tr>\n",
       "  <th>Covariance Type:</th>      <td>nonrobust</td>    <th>                     </th>     <td> </td>   \n",
       "</tr>\n",
       "</table>\n",
       "<table class=\"simpletable\">\n",
       "<tr>\n",
       "      <td></td>         <th>coef</th>     <th>std err</th>      <th>t</th>      <th>P>|t|</th>  <th>[0.025</th>    <th>0.975]</th>  \n",
       "</tr>\n",
       "<tr>\n",
       "  <th>Intercept</th> <td> -462.3751</td> <td>   32.243</td> <td>  -14.340</td> <td> 0.000</td> <td> -526.061</td> <td> -398.690</td>\n",
       "</tr>\n",
       "<tr>\n",
       "  <th>Length1</th>   <td>   32.7922</td> <td>    1.148</td> <td>   28.554</td> <td> 0.000</td> <td>   30.524</td> <td>   35.061</td>\n",
       "</tr>\n",
       "</table>\n",
       "<table class=\"simpletable\">\n",
       "<tr>\n",
       "  <th>Omnibus:</th>       <td> 9.385</td> <th>  Durbin-Watson:     </th> <td>   0.369</td>\n",
       "</tr>\n",
       "<tr>\n",
       "  <th>Prob(Omnibus):</th> <td> 0.009</td> <th>  Jarque-Bera (JB):  </th> <td>   9.768</td>\n",
       "</tr>\n",
       "<tr>\n",
       "  <th>Skew:</th>          <td>-0.489</td> <th>  Prob(JB):          </th> <td> 0.00757</td>\n",
       "</tr>\n",
       "<tr>\n",
       "  <th>Kurtosis:</th>      <td> 3.721</td> <th>  Cond. No.          </th> <td>    79.2</td>\n",
       "</tr>\n",
       "</table><br/><br/>Warnings:<br/>[1] Standard Errors assume that the covariance matrix of the errors is correctly specified."
      ],
      "text/plain": [
       "<class 'statsmodels.iolib.summary.Summary'>\n",
       "\"\"\"\n",
       "                            OLS Regression Results                            \n",
       "==============================================================================\n",
       "Dep. Variable:                 Weight   R-squared:                       0.839\n",
       "Model:                            OLS   Adj. R-squared:                  0.837\n",
       "Method:                 Least Squares   F-statistic:                     815.3\n",
       "Date:                Tue, 09 Jun 2020   Prob (F-statistic):           4.75e-64\n",
       "Time:                        20:09:35   Log-Likelihood:                -1015.1\n",
       "No. Observations:                 159   AIC:                             2034.\n",
       "Df Residuals:                     157   BIC:                             2040.\n",
       "Df Model:                           1                                         \n",
       "Covariance Type:            nonrobust                                         \n",
       "==============================================================================\n",
       "                 coef    std err          t      P>|t|      [0.025      0.975]\n",
       "------------------------------------------------------------------------------\n",
       "Intercept   -462.3751     32.243    -14.340      0.000    -526.061    -398.690\n",
       "Length1       32.7922      1.148     28.554      0.000      30.524      35.061\n",
       "==============================================================================\n",
       "Omnibus:                        9.385   Durbin-Watson:                   0.369\n",
       "Prob(Omnibus):                  0.009   Jarque-Bera (JB):                9.768\n",
       "Skew:                          -0.489   Prob(JB):                      0.00757\n",
       "Kurtosis:                       3.721   Cond. No.                         79.2\n",
       "==============================================================================\n",
       "\n",
       "Warnings:\n",
       "[1] Standard Errors assume that the covariance matrix of the errors is correctly specified.\n",
       "\"\"\""
      ]
     },
     "execution_count": 5,
     "metadata": {},
     "output_type": "execute_result"
    }
   ],
   "source": [
    "reg.summary()"
   ]
  },
  {
   "cell_type": "markdown",
   "metadata": {
    "state": "normal"
   },
   "source": [
    "The most important features on this regression table are the `R-squared` and its adjusted form, as well as the table of coefficients and standard errors. In the above model, our $R^2$ is about .83, indicating that our model (including only an intercept term and the length of the fish) explains 83% of the variation in weight of the fish! That is pretty good! But I bet we can do better if we include more terms in our model."
   ]
  },
  {
   "cell_type": "code",
   "execution_count": 6,
   "metadata": {
    "state": "normal"
   },
   "outputs": [
    {
     "data": {
      "text/html": [
       "<table class=\"simpletable\">\n",
       "<caption>OLS Regression Results</caption>\n",
       "<tr>\n",
       "  <th>Dep. Variable:</th>         <td>Weight</td>      <th>  R-squared:         </th> <td>   0.930</td>\n",
       "</tr>\n",
       "<tr>\n",
       "  <th>Model:</th>                   <td>OLS</td>       <th>  Adj. R-squared:    </th> <td>   0.927</td>\n",
       "</tr>\n",
       "<tr>\n",
       "  <th>Method:</th>             <td>Least Squares</td>  <th>  F-statistic:       </th> <td>   286.9</td>\n",
       "</tr>\n",
       "<tr>\n",
       "  <th>Date:</th>             <td>Tue, 09 Jun 2020</td> <th>  Prob (F-statistic):</th> <td>7.78e-84</td>\n",
       "</tr>\n",
       "<tr>\n",
       "  <th>Time:</th>                 <td>20:12:28</td>     <th>  Log-Likelihood:    </th> <td> -948.61</td>\n",
       "</tr>\n",
       "<tr>\n",
       "  <th>No. Observations:</th>      <td>   159</td>      <th>  AIC:               </th> <td>   1913.</td>\n",
       "</tr>\n",
       "<tr>\n",
       "  <th>Df Residuals:</th>          <td>   151</td>      <th>  BIC:               </th> <td>   1938.</td>\n",
       "</tr>\n",
       "<tr>\n",
       "  <th>Df Model:</th>              <td>     7</td>      <th>                     </th>     <td> </td>   \n",
       "</tr>\n",
       "<tr>\n",
       "  <th>Covariance Type:</th>      <td>nonrobust</td>    <th>                     </th>     <td> </td>   \n",
       "</tr>\n",
       "</table>\n",
       "<table class=\"simpletable\">\n",
       "<tr>\n",
       "             <td></td>                <th>coef</th>     <th>std err</th>      <th>t</th>      <th>P>|t|</th>  <th>[0.025</th>    <th>0.975]</th>  \n",
       "</tr>\n",
       "<tr>\n",
       "  <th>Intercept</th>               <td> -668.1044</td> <td>   40.472</td> <td>  -16.508</td> <td> 0.000</td> <td> -748.069</td> <td> -588.139</td>\n",
       "</tr>\n",
       "<tr>\n",
       "  <th>C(Species)[T.Parkki]</th>    <td>   28.2864</td> <td>   36.336</td> <td>    0.778</td> <td> 0.438</td> <td>  -43.506</td> <td>  100.078</td>\n",
       "</tr>\n",
       "<tr>\n",
       "  <th>C(Species)[T.Perch]</th>     <td>  -41.6749</td> <td>   21.598</td> <td>   -1.930</td> <td> 0.056</td> <td>  -84.349</td> <td>    0.999</td>\n",
       "</tr>\n",
       "<tr>\n",
       "  <th>C(Species)[T.Pike]</th>      <td> -415.5526</td> <td>   32.256</td> <td>  -12.883</td> <td> 0.000</td> <td> -479.283</td> <td> -351.822</td>\n",
       "</tr>\n",
       "<tr>\n",
       "  <th>C(Species)[T.Roach]</th>     <td>  -55.8549</td> <td>   29.596</td> <td>   -1.887</td> <td> 0.061</td> <td> -114.331</td> <td>    2.621</td>\n",
       "</tr>\n",
       "<tr>\n",
       "  <th>C(Species)[T.Smelt]</th>     <td>  201.6195</td> <td>   38.457</td> <td>    5.243</td> <td> 0.000</td> <td>  125.637</td> <td>  277.602</td>\n",
       "</tr>\n",
       "<tr>\n",
       "  <th>C(Species)[T.Whitefish]</th> <td>  -22.9381</td> <td>   42.825</td> <td>   -0.536</td> <td> 0.593</td> <td> -107.552</td> <td>   61.676</td>\n",
       "</tr>\n",
       "<tr>\n",
       "  <th>Length1</th>                 <td>   42.4320</td> <td>    1.221</td> <td>   34.741</td> <td> 0.000</td> <td>   40.019</td> <td>   44.845</td>\n",
       "</tr>\n",
       "</table>\n",
       "<table class=\"simpletable\">\n",
       "<tr>\n",
       "  <th>Omnibus:</th>       <td>30.449</td> <th>  Durbin-Watson:     </th> <td>   0.862</td>\n",
       "</tr>\n",
       "<tr>\n",
       "  <th>Prob(Omnibus):</th> <td> 0.000</td> <th>  Jarque-Bera (JB):  </th> <td>  55.264</td>\n",
       "</tr>\n",
       "<tr>\n",
       "  <th>Skew:</th>          <td> 0.910</td> <th>  Prob(JB):          </th> <td>9.99e-13</td>\n",
       "</tr>\n",
       "<tr>\n",
       "  <th>Kurtosis:</th>      <td> 5.242</td> <th>  Cond. No.          </th> <td>    230.</td>\n",
       "</tr>\n",
       "</table><br/><br/>Warnings:<br/>[1] Standard Errors assume that the covariance matrix of the errors is correctly specified."
      ],
      "text/plain": [
       "<class 'statsmodels.iolib.summary.Summary'>\n",
       "\"\"\"\n",
       "                            OLS Regression Results                            \n",
       "==============================================================================\n",
       "Dep. Variable:                 Weight   R-squared:                       0.930\n",
       "Model:                            OLS   Adj. R-squared:                  0.927\n",
       "Method:                 Least Squares   F-statistic:                     286.9\n",
       "Date:                Tue, 09 Jun 2020   Prob (F-statistic):           7.78e-84\n",
       "Time:                        20:12:28   Log-Likelihood:                -948.61\n",
       "No. Observations:                 159   AIC:                             1913.\n",
       "Df Residuals:                     151   BIC:                             1938.\n",
       "Df Model:                           7                                         \n",
       "Covariance Type:            nonrobust                                         \n",
       "===========================================================================================\n",
       "                              coef    std err          t      P>|t|      [0.025      0.975]\n",
       "-------------------------------------------------------------------------------------------\n",
       "Intercept                -668.1044     40.472    -16.508      0.000    -748.069    -588.139\n",
       "C(Species)[T.Parkki]       28.2864     36.336      0.778      0.438     -43.506     100.078\n",
       "C(Species)[T.Perch]       -41.6749     21.598     -1.930      0.056     -84.349       0.999\n",
       "C(Species)[T.Pike]       -415.5526     32.256    -12.883      0.000    -479.283    -351.822\n",
       "C(Species)[T.Roach]       -55.8549     29.596     -1.887      0.061    -114.331       2.621\n",
       "C(Species)[T.Smelt]       201.6195     38.457      5.243      0.000     125.637     277.602\n",
       "C(Species)[T.Whitefish]   -22.9381     42.825     -0.536      0.593    -107.552      61.676\n",
       "Length1                    42.4320      1.221     34.741      0.000      40.019      44.845\n",
       "==============================================================================\n",
       "Omnibus:                       30.449   Durbin-Watson:                   0.862\n",
       "Prob(Omnibus):                  0.000   Jarque-Bera (JB):               55.264\n",
       "Skew:                           0.910   Prob(JB):                     9.99e-13\n",
       "Kurtosis:                       5.242   Cond. No.                         230.\n",
       "==============================================================================\n",
       "\n",
       "Warnings:\n",
       "[1] Standard Errors assume that the covariance matrix of the errors is correctly specified.\n",
       "\"\"\""
      ]
     },
     "execution_count": 6,
     "metadata": {},
     "output_type": "execute_result"
    }
   ],
   "source": [
    "reg = smf.ols(\"Weight ~ Length1 + C(Species)\", data=data)\n",
    "\n",
    "reg = reg.fit()\n",
    "\n",
    "reg.summary()"
   ]
  },
  {
   "cell_type": "markdown",
   "metadata": {
    "state": "normal"
   },
   "source": [
    "When we add a new independent variable to our regression model, we separate each independent variable from the others using the `+` symbol. Additionally, we can use very simple syntax to include categorical variables by wrapping a variable name in the `C()` syntax. That variable is then automatically separated into separate binary variables for each class within the column!\n",
    "\n",
    "Adding this single variable increased our $R^2$ from .83 to .93!"
   ]
  },
  {
   "cell_type": "markdown",
   "metadata": {
    "state": "normal"
   },
   "source": [
    "**Solve it [1 point]**:\n",
    "\n",
    "Using the wage data provided [here](https://github.com/dustywhite7/pythonMikkeli/raw/master/exampleData/wagePanelData.csv), create a linear regression model to explain and/or predict wages. Your fitted model should be stored as `reg`. If you do not name the model correctly, you won't get any points!\n",
    "\n",
    "All code needed to implement your model should be contained in the cell below:"
   ]
  },
  {
   "cell_type": "code",
   "execution_count": 3,
   "metadata": {
    "deletable": false,
    "id": "spicy_ran",
    "scrolled": true,
    "starter_code": "# Leave this code here. It makes the grading algorithm work!\nimport warnings\nwarnings.simplefilter(action='ignore', category=FutureWarning)\n\n# Your code below (start with imports!)",
    "state": "graded"
   },
   "outputs": [],
   "source": []
  },
  {
   "cell_type": "markdown",
   "metadata": {
    "state": "normal"
   },
   "source": [
    "**Solve it [1 point]**:\n",
    "\n",
    "In the cell below, explain why you settled on the model that you chose above. (Just type your explanation into the cell) \n",
    "- Why did you believe that the variables selected cause changes in wage? \n",
    "- How well does your model perform? \n",
    "- If you could collect more data, what data would you want?"
   ]
  },
  {
   "cell_type": "code",
   "execution_count": null,
   "metadata": {
    "deletable": false,
    "id": "red_tyr",
    "state": "graded"
   },
   "outputs": [],
   "source": []
  },
  {
   "cell_type": "markdown",
   "metadata": {
    "state": "normal"
   },
   "source": [
    "# Logistic Regression"
   ]
  },
  {
   "cell_type": "markdown",
   "metadata": {
    "state": "normal"
   },
   "source": [
    "Linear regression is typically used to describe outcomes in which the value is continuous. This could be a model of the amount of profit generated through various business practices, the population density of a region, or any other metric that can be measured on a more or less continuous scale. Less frequently, linear regression is used to model outcomes that represent discrete outcomes such as success or failure, or to model the probability of success or failure. This is called a **linear probability model (LPM)**.\n",
    "\n",
    "Why might LPMs not be used very often? Let's think about probability, as well as the properties of a linear regression model. A probability is a measure of likelihood, and is typically measured on the scale of $[0,1]$, or from 0% to 100% probability. A probability of 0 (0%) indicates that there is no likelihood that an event will take place. On the other hand, a probability of 1 (100%) would suggest absolute certainty that an outcome will occur. The important point, no matter which measurement of probability we choose to use, is that probabilities are **bounded** (cannot go beyond) absolute certainty of failure or absolute certainty of success.\n",
    "\n",
    "Remember linear regression? One important part of any linear regression model is the **linearity** of the model. While this seems obvious, it is this part of the linear regression that gets us in trouble as we use LPMs. Any linear function with a nonzero slope will by definition be **unbounded**, and will NOT remain within the $[0, 1]$ interval. This means that an LPM will inevitably provide predictions that are non-sensical! Through our LPM, we will get some predictions that fit into each of the following categories:\n",
    "\n",
    "- Totally normal predictions, with probabilities between 0 and 1\n",
    "- Weird probabilities #1, with probability above 1 (or a likelihood of greater than 100%, which doesn't make sense!)\n",
    "- Weird probabilities #2, with probability below 0 (or a negative likelihood, which again doesn't make sense!)"
   ]
  },
  {
   "cell_type": "markdown",
   "metadata": {
    "state": "normal"
   },
   "source": [
    "## Non-Linear, But in a Good Way"
   ]
  },
  {
   "cell_type": "markdown",
   "metadata": {
    "state": "normal"
   },
   "source": [
    "Is there a better way to model probabilities using regression analysis? You bet there is! It is called **logistic regression**, and we will learn how to do it, right here, right now. But first, let's explore why it is an improvement over LPMs. Remember that the big problem with LPMs is their linearity, right? It is the part of a regression that makes regression analysis so simple to understand, but also the part that breaks our probability model. We want to redesign our regression model to **resemble** a linear model, but stay within the $[0, 1]$ interval.\n",
    "\n",
    "When we use a linear regression model, we end up with a series of coefficients. Those are the slope parameters for a linear equation resulting in our prediction of the dependent variable (outcome). We typically refer to each coefficient as a $\\beta$ (beta) term, with subscripts ($\\beta_i$) denoting which coefficient we are referring to. If we use the same subscripts to describe our $x$ variables, then we can write our regression equation (with $k$ variables) as follows:\n",
    "\n",
    "$$ y = \\beta_0 + \\beta_1 \\cdot x_1 + \\beta_2 \\cdot x_2 ... + \\beta_k \\cdot x_k$$\n",
    "\n",
    "Obviously, as our $x$ values increase, our $y$ either increases or decreases, depending on the sign and magnitude of the associated $\\beta$ coefficient. If those $x$'s get sufficiently large, so does $y$! In fact, it can go as high as $\\infty$ and as low as $-\\infty$. This is a problem now we are dealing with probability.\n",
    "\n",
    "To fix our regression equation, we make a really simple transformation called the **logistic transformation**. After the transformation, our regression equation is written as follows:\n",
    "\n",
    "$$ y = \\frac{exp(\\beta_0 + \\beta_1 \\cdot x_1 + \\beta_2 \\cdot x_2 ... + \\beta_k \\cdot x_k)}{1+ exp(\\beta_0 + \\beta_1 \\cdot x_1 + \\beta_2 \\cdot x_2 ... + \\beta_k \\cdot x_k)} $$\n",
    "\n",
    "where $exp()$ represents Euler's number raised to the power of the internal element (in our case, our original linear regression function).\n",
    "\n",
    "Why do we choose this function? Several reasons:\n",
    "\n",
    "- It is a simple transformation\n",
    "- It leads to interpretable coefficients (remember that we want those!)\n",
    "- It is bounded by $[0,1]$ like we want\n",
    "\n",
    "How is it bounded? Remember that our linear regression function can go to either $\\infty$ or $-\\infty$. If the linear function takes the value $\\infty$, then our logistic function becomes\n",
    "\n",
    "$$ y = \\frac{\\infty}{1+\\infty} \\approx 1$$\n",
    "\n",
    "because $exp(\\infty)=\\infty$. When the linear function takes the value $-\\infty$, then $exp(-\\infty)=0$, so our logistic function becomes\n",
    "\n",
    "$$ y = \\frac{0}{1} = 0 $$\n",
    "\n",
    "and we remain within our probability bounds!"
   ]
  },
  {
   "cell_type": "markdown",
   "metadata": {
    "state": "normal"
   },
   "source": [
    "## Interpreting Coefficients"
   ]
  },
  {
   "cell_type": "markdown",
   "metadata": {
    "state": "normal"
   },
   "source": [
    "The confusing part of logistic regression stems from understanding the difference between coefficients in linear regression and in logistic regression. In linear regression, a coefficient describes the change in the dependent variable resulting from a one unit **increase** in the independent variable associated with that coefficient. If, for example, the coefficient of age on income (in Euros) is &#128;1,000, then an individual would be expected to earn &#128;1,000 more if he or she were 1 year older, or &#128;1,000 less if he or she were 1 year younger.\n",
    "\n",
    "In a logistic regression, our coefficient is not a linear treatment effect. Instead, coefficients represent the **log odds ratio**, which can be written as\n",
    "\n",
    "$$ \\beta = ln\\left(\\frac{p}{1-p}\\right) $$\n",
    "\n",
    "If the **log odds ratio** is greater than 0, then a one unit increase in the associated variable would lead to an increased likelihood of success in the dependent variable. If the value is below 0, then the likelihood of success diminishes. The effects are not linear, but they do reflect the direction of the trend and can be interpreted to understand the relationship that each variable has with the outcome."
   ]
  },
  {
   "cell_type": "markdown",
   "metadata": {
    "state": "normal"
   },
   "source": [
    "## Implementing Logistic Regression"
   ]
  },
  {
   "cell_type": "markdown",
   "metadata": {
    "state": "normal"
   },
   "source": [
    "Implementing logistic regression is nearly identical to the implementation of linear regression, thanks to the ease of use provided through the `statsmodels` library. Let's import some data and create a model:"
   ]
  },
  {
   "cell_type": "code",
   "execution_count": 26,
   "metadata": {
    "state": "normal"
   },
   "outputs": [
    {
     "name": "stdout",
     "output_type": "stream",
     "text": [
      "Optimization terminated successfully.\n",
      "         Current function value: 0.067159\n",
      "         Iterations 10\n"
     ]
    },
    {
     "data": {
      "text/html": [
       "<table class=\"simpletable\">\n",
       "<caption>Logit Regression Results</caption>\n",
       "<tr>\n",
       "  <th>Dep. Variable:</th>       <td>Occupancy</td>    <th>  No. Observations:  </th>  <td>  8143</td> \n",
       "</tr>\n",
       "<tr>\n",
       "  <th>Model:</th>                 <td>Logit</td>      <th>  Df Residuals:      </th>  <td>  8140</td> \n",
       "</tr>\n",
       "<tr>\n",
       "  <th>Method:</th>                 <td>MLE</td>       <th>  Df Model:          </th>  <td>     2</td> \n",
       "</tr>\n",
       "<tr>\n",
       "  <th>Date:</th>            <td>Wed, 10 Jun 2020</td> <th>  Pseudo R-squ.:     </th>  <td>0.8701</td> \n",
       "</tr>\n",
       "<tr>\n",
       "  <th>Time:</th>                <td>18:39:43</td>     <th>  Log-Likelihood:    </th> <td> -546.87</td>\n",
       "</tr>\n",
       "<tr>\n",
       "  <th>converged:</th>             <td>True</td>       <th>  LL-Null:           </th> <td> -4210.2</td>\n",
       "</tr>\n",
       "<tr>\n",
       "  <th>Covariance Type:</th>     <td>nonrobust</td>    <th>  LLR p-value:       </th>  <td> 0.000</td> \n",
       "</tr>\n",
       "</table>\n",
       "<table class=\"simpletable\">\n",
       "<tr>\n",
       "      <td></td>         <th>coef</th>     <th>std err</th>      <th>z</th>      <th>P>|z|</th>  <th>[0.025</th>    <th>0.975]</th>  \n",
       "</tr>\n",
       "<tr>\n",
       "  <th>Intercept</th> <td>   -9.2601</td> <td>    0.354</td> <td>  -26.156</td> <td> 0.000</td> <td>   -9.954</td> <td>   -8.566</td>\n",
       "</tr>\n",
       "<tr>\n",
       "  <th>Light</th>     <td>    0.0184</td> <td>    0.001</td> <td>   25.309</td> <td> 0.000</td> <td>    0.017</td> <td>    0.020</td>\n",
       "</tr>\n",
       "<tr>\n",
       "  <th>CO2</th>       <td>    0.0041</td> <td>    0.000</td> <td>   12.701</td> <td> 0.000</td> <td>    0.003</td> <td>    0.005</td>\n",
       "</tr>\n",
       "</table>"
      ],
      "text/plain": [
       "<class 'statsmodels.iolib.summary.Summary'>\n",
       "\"\"\"\n",
       "                           Logit Regression Results                           \n",
       "==============================================================================\n",
       "Dep. Variable:              Occupancy   No. Observations:                 8143\n",
       "Model:                          Logit   Df Residuals:                     8140\n",
       "Method:                           MLE   Df Model:                            2\n",
       "Date:                Wed, 10 Jun 2020   Pseudo R-squ.:                  0.8701\n",
       "Time:                        18:39:43   Log-Likelihood:                -546.87\n",
       "converged:                       True   LL-Null:                       -4210.2\n",
       "Covariance Type:            nonrobust   LLR p-value:                     0.000\n",
       "==============================================================================\n",
       "                 coef    std err          z      P>|z|      [0.025      0.975]\n",
       "------------------------------------------------------------------------------\n",
       "Intercept     -9.2601      0.354    -26.156      0.000      -9.954      -8.566\n",
       "Light          0.0184      0.001     25.309      0.000       0.017       0.020\n",
       "CO2            0.0041      0.000     12.701      0.000       0.003       0.005\n",
       "==============================================================================\n",
       "\"\"\""
      ]
     },
     "execution_count": 26,
     "metadata": {},
     "output_type": "execute_result"
    }
   ],
   "source": [
    "import pandas as pd\n",
    "import statsmodels.formula.api as smf\n",
    "\n",
    "data = pd.read_csv(\"https://github.com/dustywhite7/pythonMikkeli/raw/master/exampleData/roomOccupancy.csv\")\n",
    "\n",
    "reg = smf.logit(\"Occupancy ~ Light + CO2\", data=data).fit()\n",
    "\n",
    "reg.summary()"
   ]
  },
  {
   "cell_type": "markdown",
   "metadata": {
    "state": "normal"
   },
   "source": [
    "There are only two differences between this code and the code needed for a linear regression:\n",
    "\n",
    "1. The dependent variable is binary (or exists within the range of 0 to 1)\n",
    "2. We call the `smf.logit` function instead of `smf.ols`\n",
    "\n",
    "We can use the same regression equation syntax to describe our regression model as we did with OLS, and we can use the same functions to fit our model. Do note, however, that the fitting process that occurs behind the scenes is different, and logistic regressions may take a significant amount of time to finish estimation if there are a large number of parameters and/or observations."
   ]
  },
  {
   "cell_type": "markdown",
   "metadata": {
    "state": "normal"
   },
   "source": [
    "**Solve it [1 point]**:\n",
    "\n",
    "For this assignment, you will perform a similar task to last class. Import the pass/fail data for students in Portugal found [here](https://github.com/dustywhite7/pythonMikkeli/raw/master/exampleData/passFailTrain.csv), and create a logistic regression model using statsmodels that can estimate the likelihood of students passing or failing class. This information is contained in the cell called `G3`, which takes the value 1 when the student has a passing final grade, and 0 otherwise.\n",
    "\n",
    "Call your fitted model `reg`, and place all necessary code to create and fit your model in the cell below:"
   ]
  },
  {
   "cell_type": "code",
   "execution_count": 16,
   "metadata": {
    "deletable": false,
    "id": "eager_var",
    "starter_code": "# Leave this code here. It makes the grading algorithm work!\nimport warnings\nwarnings.simplefilter(action='ignore', category=FutureWarning)\n\n# Your code below (start with imports!)",
    "state": "graded"
   },
   "outputs": [
    {
     "name": "stdout",
     "output_type": "stream",
     "text": [
      "Optimization terminated successfully.\n",
      "         Current function value: 0.540236\n",
      "         Iterations 6\n"
     ]
    }
   ],
   "source": []
  },
  {
   "cell_type": "markdown",
   "metadata": {
    "state": "normal"
   },
   "source": [
    "**Solve it [1 point]**:\n",
    "\n",
    "In the cell below, explain why you settled on the model that you chose above. (Just type your explanation into the cell)\n",
    "\n",
    "- Why did you believe that the variables selected cause changes in wage?\n",
    "- How well does your model perform?\n",
    "- If you could collect more data, what data would you want?"
   ]
  },
  {
   "cell_type": "code",
   "execution_count": null,
   "metadata": {
    "deletable": false,
    "id": "big_mimir",
    "state": "graded"
   },
   "outputs": [],
   "source": []
  }
 ],
 "metadata": {
  "kernelspec": {
   "display_name": "Python 3 (ipykernel)",
   "language": "python",
   "name": "python3"
  },
  "language_info": {
   "codemirror_mode": {
    "name": "ipython",
    "version": 3
   },
   "file_extension": ".py",
   "mimetype": "text/x-python",
   "name": "python",
   "nbconvert_exporter": "python",
   "pygments_lexer": "ipython3",
   "version": "3.9.13"
  },
  "mimir": {
   "data": {},
   "last_submission_id": "",
   "project_id": "40b97d1e-cf82-40c3-8a34-6797ba14a426"
  },
  "varInspector": {
   "cols": {
    "lenName": 16,
    "lenType": 16,
    "lenVar": 40
   },
   "kernels_config": {
    "python": {
     "delete_cmd_postfix": "",
     "delete_cmd_prefix": "del ",
     "library": "var_list.py",
     "varRefreshCmd": "print(var_dic_list())"
    },
    "r": {
     "delete_cmd_postfix": ") ",
     "delete_cmd_prefix": "rm(",
     "library": "var_list.r",
     "varRefreshCmd": "cat(var_dic_list()) "
    }
   },
   "types_to_exclude": [
    "module",
    "function",
    "builtin_function_or_method",
    "instance",
    "_Feature"
   ],
   "window_display": false
  }
 },
 "nbformat": 4,
 "nbformat_minor": 2
}
